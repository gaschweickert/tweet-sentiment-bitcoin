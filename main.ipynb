{
  "nbformat": 4,
  "nbformat_minor": 0,
  "metadata": {
    "colab": {
      "provenance": []
    },
    "kernelspec": {
      "name": "python3",
      "display_name": "Python 3"
    },
    "language_info": {
      "name": "python"
    },
    "accelerator": "GPU",
    "gpuClass": "standard",
    "widgets": {
      "application/vnd.jupyter.widget-state+json": {
        "edd0dca0686f4cc99ced3e7280539eff": {
          "model_module": "@jupyter-widgets/controls",
          "model_name": "HBoxModel",
          "model_module_version": "1.5.0",
          "state": {
            "_dom_classes": [],
            "_model_module": "@jupyter-widgets/controls",
            "_model_module_version": "1.5.0",
            "_model_name": "HBoxModel",
            "_view_count": null,
            "_view_module": "@jupyter-widgets/controls",
            "_view_module_version": "1.5.0",
            "_view_name": "HBoxView",
            "box_style": "",
            "children": [
              "IPY_MODEL_6bb0d9efbc7743489332d741b121daff",
              "IPY_MODEL_af6fd37c086f46359d6b1411f938f390",
              "IPY_MODEL_ade46b1814404de4a207de2eb30a2ca8"
            ],
            "layout": "IPY_MODEL_a0ce50b38bd74d27aa46c1b95829ec44"
          }
        },
        "6bb0d9efbc7743489332d741b121daff": {
          "model_module": "@jupyter-widgets/controls",
          "model_name": "HTMLModel",
          "model_module_version": "1.5.0",
          "state": {
            "_dom_classes": [],
            "_model_module": "@jupyter-widgets/controls",
            "_model_module_version": "1.5.0",
            "_model_name": "HTMLModel",
            "_view_count": null,
            "_view_module": "@jupyter-widgets/controls",
            "_view_module_version": "1.5.0",
            "_view_name": "HTMLView",
            "description": "",
            "description_tooltip": null,
            "layout": "IPY_MODEL_48c598b19bca4346807dbe429baee550",
            "placeholder": "​",
            "style": "IPY_MODEL_55e16e71c9ef460da06d8f1abe3e9ee7",
            "value": "Downloading (…)lve/main/config.json: 100%"
          }
        },
        "af6fd37c086f46359d6b1411f938f390": {
          "model_module": "@jupyter-widgets/controls",
          "model_name": "FloatProgressModel",
          "model_module_version": "1.5.0",
          "state": {
            "_dom_classes": [],
            "_model_module": "@jupyter-widgets/controls",
            "_model_module_version": "1.5.0",
            "_model_name": "FloatProgressModel",
            "_view_count": null,
            "_view_module": "@jupyter-widgets/controls",
            "_view_module_version": "1.5.0",
            "_view_name": "ProgressView",
            "bar_style": "success",
            "description": "",
            "description_tooltip": null,
            "layout": "IPY_MODEL_5bf092233da841279900633fc60bb008",
            "max": 747,
            "min": 0,
            "orientation": "horizontal",
            "style": "IPY_MODEL_16a0cbe9243a42e8a03837163222af20",
            "value": 747
          }
        },
        "ade46b1814404de4a207de2eb30a2ca8": {
          "model_module": "@jupyter-widgets/controls",
          "model_name": "HTMLModel",
          "model_module_version": "1.5.0",
          "state": {
            "_dom_classes": [],
            "_model_module": "@jupyter-widgets/controls",
            "_model_module_version": "1.5.0",
            "_model_name": "HTMLModel",
            "_view_count": null,
            "_view_module": "@jupyter-widgets/controls",
            "_view_module_version": "1.5.0",
            "_view_name": "HTMLView",
            "description": "",
            "description_tooltip": null,
            "layout": "IPY_MODEL_86a85dedb41b406cbd9ad701070d9e10",
            "placeholder": "​",
            "style": "IPY_MODEL_2899b6b1d89b407fa022086e0d3e8bf2",
            "value": " 747/747 [00:00&lt;00:00, 12.0kB/s]"
          }
        },
        "a0ce50b38bd74d27aa46c1b95829ec44": {
          "model_module": "@jupyter-widgets/base",
          "model_name": "LayoutModel",
          "model_module_version": "1.2.0",
          "state": {
            "_model_module": "@jupyter-widgets/base",
            "_model_module_version": "1.2.0",
            "_model_name": "LayoutModel",
            "_view_count": null,
            "_view_module": "@jupyter-widgets/base",
            "_view_module_version": "1.2.0",
            "_view_name": "LayoutView",
            "align_content": null,
            "align_items": null,
            "align_self": null,
            "border": null,
            "bottom": null,
            "display": null,
            "flex": null,
            "flex_flow": null,
            "grid_area": null,
            "grid_auto_columns": null,
            "grid_auto_flow": null,
            "grid_auto_rows": null,
            "grid_column": null,
            "grid_gap": null,
            "grid_row": null,
            "grid_template_areas": null,
            "grid_template_columns": null,
            "grid_template_rows": null,
            "height": null,
            "justify_content": null,
            "justify_items": null,
            "left": null,
            "margin": null,
            "max_height": null,
            "max_width": null,
            "min_height": null,
            "min_width": null,
            "object_fit": null,
            "object_position": null,
            "order": null,
            "overflow": null,
            "overflow_x": null,
            "overflow_y": null,
            "padding": null,
            "right": null,
            "top": null,
            "visibility": null,
            "width": null
          }
        },
        "48c598b19bca4346807dbe429baee550": {
          "model_module": "@jupyter-widgets/base",
          "model_name": "LayoutModel",
          "model_module_version": "1.2.0",
          "state": {
            "_model_module": "@jupyter-widgets/base",
            "_model_module_version": "1.2.0",
            "_model_name": "LayoutModel",
            "_view_count": null,
            "_view_module": "@jupyter-widgets/base",
            "_view_module_version": "1.2.0",
            "_view_name": "LayoutView",
            "align_content": null,
            "align_items": null,
            "align_self": null,
            "border": null,
            "bottom": null,
            "display": null,
            "flex": null,
            "flex_flow": null,
            "grid_area": null,
            "grid_auto_columns": null,
            "grid_auto_flow": null,
            "grid_auto_rows": null,
            "grid_column": null,
            "grid_gap": null,
            "grid_row": null,
            "grid_template_areas": null,
            "grid_template_columns": null,
            "grid_template_rows": null,
            "height": null,
            "justify_content": null,
            "justify_items": null,
            "left": null,
            "margin": null,
            "max_height": null,
            "max_width": null,
            "min_height": null,
            "min_width": null,
            "object_fit": null,
            "object_position": null,
            "order": null,
            "overflow": null,
            "overflow_x": null,
            "overflow_y": null,
            "padding": null,
            "right": null,
            "top": null,
            "visibility": null,
            "width": null
          }
        },
        "55e16e71c9ef460da06d8f1abe3e9ee7": {
          "model_module": "@jupyter-widgets/controls",
          "model_name": "DescriptionStyleModel",
          "model_module_version": "1.5.0",
          "state": {
            "_model_module": "@jupyter-widgets/controls",
            "_model_module_version": "1.5.0",
            "_model_name": "DescriptionStyleModel",
            "_view_count": null,
            "_view_module": "@jupyter-widgets/base",
            "_view_module_version": "1.2.0",
            "_view_name": "StyleView",
            "description_width": ""
          }
        },
        "5bf092233da841279900633fc60bb008": {
          "model_module": "@jupyter-widgets/base",
          "model_name": "LayoutModel",
          "model_module_version": "1.2.0",
          "state": {
            "_model_module": "@jupyter-widgets/base",
            "_model_module_version": "1.2.0",
            "_model_name": "LayoutModel",
            "_view_count": null,
            "_view_module": "@jupyter-widgets/base",
            "_view_module_version": "1.2.0",
            "_view_name": "LayoutView",
            "align_content": null,
            "align_items": null,
            "align_self": null,
            "border": null,
            "bottom": null,
            "display": null,
            "flex": null,
            "flex_flow": null,
            "grid_area": null,
            "grid_auto_columns": null,
            "grid_auto_flow": null,
            "grid_auto_rows": null,
            "grid_column": null,
            "grid_gap": null,
            "grid_row": null,
            "grid_template_areas": null,
            "grid_template_columns": null,
            "grid_template_rows": null,
            "height": null,
            "justify_content": null,
            "justify_items": null,
            "left": null,
            "margin": null,
            "max_height": null,
            "max_width": null,
            "min_height": null,
            "min_width": null,
            "object_fit": null,
            "object_position": null,
            "order": null,
            "overflow": null,
            "overflow_x": null,
            "overflow_y": null,
            "padding": null,
            "right": null,
            "top": null,
            "visibility": null,
            "width": null
          }
        },
        "16a0cbe9243a42e8a03837163222af20": {
          "model_module": "@jupyter-widgets/controls",
          "model_name": "ProgressStyleModel",
          "model_module_version": "1.5.0",
          "state": {
            "_model_module": "@jupyter-widgets/controls",
            "_model_module_version": "1.5.0",
            "_model_name": "ProgressStyleModel",
            "_view_count": null,
            "_view_module": "@jupyter-widgets/base",
            "_view_module_version": "1.2.0",
            "_view_name": "StyleView",
            "bar_color": null,
            "description_width": ""
          }
        },
        "86a85dedb41b406cbd9ad701070d9e10": {
          "model_module": "@jupyter-widgets/base",
          "model_name": "LayoutModel",
          "model_module_version": "1.2.0",
          "state": {
            "_model_module": "@jupyter-widgets/base",
            "_model_module_version": "1.2.0",
            "_model_name": "LayoutModel",
            "_view_count": null,
            "_view_module": "@jupyter-widgets/base",
            "_view_module_version": "1.2.0",
            "_view_name": "LayoutView",
            "align_content": null,
            "align_items": null,
            "align_self": null,
            "border": null,
            "bottom": null,
            "display": null,
            "flex": null,
            "flex_flow": null,
            "grid_area": null,
            "grid_auto_columns": null,
            "grid_auto_flow": null,
            "grid_auto_rows": null,
            "grid_column": null,
            "grid_gap": null,
            "grid_row": null,
            "grid_template_areas": null,
            "grid_template_columns": null,
            "grid_template_rows": null,
            "height": null,
            "justify_content": null,
            "justify_items": null,
            "left": null,
            "margin": null,
            "max_height": null,
            "max_width": null,
            "min_height": null,
            "min_width": null,
            "object_fit": null,
            "object_position": null,
            "order": null,
            "overflow": null,
            "overflow_x": null,
            "overflow_y": null,
            "padding": null,
            "right": null,
            "top": null,
            "visibility": null,
            "width": null
          }
        },
        "2899b6b1d89b407fa022086e0d3e8bf2": {
          "model_module": "@jupyter-widgets/controls",
          "model_name": "DescriptionStyleModel",
          "model_module_version": "1.5.0",
          "state": {
            "_model_module": "@jupyter-widgets/controls",
            "_model_module_version": "1.5.0",
            "_model_name": "DescriptionStyleModel",
            "_view_count": null,
            "_view_module": "@jupyter-widgets/base",
            "_view_module_version": "1.2.0",
            "_view_name": "StyleView",
            "description_width": ""
          }
        },
        "4258724e32084a5da492a17f6c1baa9b": {
          "model_module": "@jupyter-widgets/controls",
          "model_name": "HBoxModel",
          "model_module_version": "1.5.0",
          "state": {
            "_dom_classes": [],
            "_model_module": "@jupyter-widgets/controls",
            "_model_module_version": "1.5.0",
            "_model_name": "HBoxModel",
            "_view_count": null,
            "_view_module": "@jupyter-widgets/controls",
            "_view_module_version": "1.5.0",
            "_view_name": "HBoxView",
            "box_style": "",
            "children": [
              "IPY_MODEL_98494ec8492243ce93b1a745d4541b91",
              "IPY_MODEL_85f41eb335674fc6ab28ea6daae0305e",
              "IPY_MODEL_4c95421878154fb4b670f3902593e9c2"
            ],
            "layout": "IPY_MODEL_3a51121d950a49ed8a514ef0387e9a81"
          }
        },
        "98494ec8492243ce93b1a745d4541b91": {
          "model_module": "@jupyter-widgets/controls",
          "model_name": "HTMLModel",
          "model_module_version": "1.5.0",
          "state": {
            "_dom_classes": [],
            "_model_module": "@jupyter-widgets/controls",
            "_model_module_version": "1.5.0",
            "_model_name": "HTMLModel",
            "_view_count": null,
            "_view_module": "@jupyter-widgets/controls",
            "_view_module_version": "1.5.0",
            "_view_name": "HTMLView",
            "description": "",
            "description_tooltip": null,
            "layout": "IPY_MODEL_305b139eb7524286962e1ec3639a955b",
            "placeholder": "​",
            "style": "IPY_MODEL_788aa3a005604ad9a3129446197d57f6",
            "value": "Downloading pytorch_model.bin: 100%"
          }
        },
        "85f41eb335674fc6ab28ea6daae0305e": {
          "model_module": "@jupyter-widgets/controls",
          "model_name": "FloatProgressModel",
          "model_module_version": "1.5.0",
          "state": {
            "_dom_classes": [],
            "_model_module": "@jupyter-widgets/controls",
            "_model_module_version": "1.5.0",
            "_model_name": "FloatProgressModel",
            "_view_count": null,
            "_view_module": "@jupyter-widgets/controls",
            "_view_module_version": "1.5.0",
            "_view_name": "ProgressView",
            "bar_style": "success",
            "description": "",
            "description_tooltip": null,
            "layout": "IPY_MODEL_72f5118c2e044bc3be014bb896d84880",
            "max": 498679497,
            "min": 0,
            "orientation": "horizontal",
            "style": "IPY_MODEL_025d7c1dbd8b442789c00671d99b6807",
            "value": 498679497
          }
        },
        "4c95421878154fb4b670f3902593e9c2": {
          "model_module": "@jupyter-widgets/controls",
          "model_name": "HTMLModel",
          "model_module_version": "1.5.0",
          "state": {
            "_dom_classes": [],
            "_model_module": "@jupyter-widgets/controls",
            "_model_module_version": "1.5.0",
            "_model_name": "HTMLModel",
            "_view_count": null,
            "_view_module": "@jupyter-widgets/controls",
            "_view_module_version": "1.5.0",
            "_view_name": "HTMLView",
            "description": "",
            "description_tooltip": null,
            "layout": "IPY_MODEL_12d5752896694c538c62bb973491b358",
            "placeholder": "​",
            "style": "IPY_MODEL_553eea952f014008a099562c6387bc9a",
            "value": " 499M/499M [00:05&lt;00:00, 68.8MB/s]"
          }
        },
        "3a51121d950a49ed8a514ef0387e9a81": {
          "model_module": "@jupyter-widgets/base",
          "model_name": "LayoutModel",
          "model_module_version": "1.2.0",
          "state": {
            "_model_module": "@jupyter-widgets/base",
            "_model_module_version": "1.2.0",
            "_model_name": "LayoutModel",
            "_view_count": null,
            "_view_module": "@jupyter-widgets/base",
            "_view_module_version": "1.2.0",
            "_view_name": "LayoutView",
            "align_content": null,
            "align_items": null,
            "align_self": null,
            "border": null,
            "bottom": null,
            "display": null,
            "flex": null,
            "flex_flow": null,
            "grid_area": null,
            "grid_auto_columns": null,
            "grid_auto_flow": null,
            "grid_auto_rows": null,
            "grid_column": null,
            "grid_gap": null,
            "grid_row": null,
            "grid_template_areas": null,
            "grid_template_columns": null,
            "grid_template_rows": null,
            "height": null,
            "justify_content": null,
            "justify_items": null,
            "left": null,
            "margin": null,
            "max_height": null,
            "max_width": null,
            "min_height": null,
            "min_width": null,
            "object_fit": null,
            "object_position": null,
            "order": null,
            "overflow": null,
            "overflow_x": null,
            "overflow_y": null,
            "padding": null,
            "right": null,
            "top": null,
            "visibility": null,
            "width": null
          }
        },
        "305b139eb7524286962e1ec3639a955b": {
          "model_module": "@jupyter-widgets/base",
          "model_name": "LayoutModel",
          "model_module_version": "1.2.0",
          "state": {
            "_model_module": "@jupyter-widgets/base",
            "_model_module_version": "1.2.0",
            "_model_name": "LayoutModel",
            "_view_count": null,
            "_view_module": "@jupyter-widgets/base",
            "_view_module_version": "1.2.0",
            "_view_name": "LayoutView",
            "align_content": null,
            "align_items": null,
            "align_self": null,
            "border": null,
            "bottom": null,
            "display": null,
            "flex": null,
            "flex_flow": null,
            "grid_area": null,
            "grid_auto_columns": null,
            "grid_auto_flow": null,
            "grid_auto_rows": null,
            "grid_column": null,
            "grid_gap": null,
            "grid_row": null,
            "grid_template_areas": null,
            "grid_template_columns": null,
            "grid_template_rows": null,
            "height": null,
            "justify_content": null,
            "justify_items": null,
            "left": null,
            "margin": null,
            "max_height": null,
            "max_width": null,
            "min_height": null,
            "min_width": null,
            "object_fit": null,
            "object_position": null,
            "order": null,
            "overflow": null,
            "overflow_x": null,
            "overflow_y": null,
            "padding": null,
            "right": null,
            "top": null,
            "visibility": null,
            "width": null
          }
        },
        "788aa3a005604ad9a3129446197d57f6": {
          "model_module": "@jupyter-widgets/controls",
          "model_name": "DescriptionStyleModel",
          "model_module_version": "1.5.0",
          "state": {
            "_model_module": "@jupyter-widgets/controls",
            "_model_module_version": "1.5.0",
            "_model_name": "DescriptionStyleModel",
            "_view_count": null,
            "_view_module": "@jupyter-widgets/base",
            "_view_module_version": "1.2.0",
            "_view_name": "StyleView",
            "description_width": ""
          }
        },
        "72f5118c2e044bc3be014bb896d84880": {
          "model_module": "@jupyter-widgets/base",
          "model_name": "LayoutModel",
          "model_module_version": "1.2.0",
          "state": {
            "_model_module": "@jupyter-widgets/base",
            "_model_module_version": "1.2.0",
            "_model_name": "LayoutModel",
            "_view_count": null,
            "_view_module": "@jupyter-widgets/base",
            "_view_module_version": "1.2.0",
            "_view_name": "LayoutView",
            "align_content": null,
            "align_items": null,
            "align_self": null,
            "border": null,
            "bottom": null,
            "display": null,
            "flex": null,
            "flex_flow": null,
            "grid_area": null,
            "grid_auto_columns": null,
            "grid_auto_flow": null,
            "grid_auto_rows": null,
            "grid_column": null,
            "grid_gap": null,
            "grid_row": null,
            "grid_template_areas": null,
            "grid_template_columns": null,
            "grid_template_rows": null,
            "height": null,
            "justify_content": null,
            "justify_items": null,
            "left": null,
            "margin": null,
            "max_height": null,
            "max_width": null,
            "min_height": null,
            "min_width": null,
            "object_fit": null,
            "object_position": null,
            "order": null,
            "overflow": null,
            "overflow_x": null,
            "overflow_y": null,
            "padding": null,
            "right": null,
            "top": null,
            "visibility": null,
            "width": null
          }
        },
        "025d7c1dbd8b442789c00671d99b6807": {
          "model_module": "@jupyter-widgets/controls",
          "model_name": "ProgressStyleModel",
          "model_module_version": "1.5.0",
          "state": {
            "_model_module": "@jupyter-widgets/controls",
            "_model_module_version": "1.5.0",
            "_model_name": "ProgressStyleModel",
            "_view_count": null,
            "_view_module": "@jupyter-widgets/base",
            "_view_module_version": "1.2.0",
            "_view_name": "StyleView",
            "bar_color": null,
            "description_width": ""
          }
        },
        "12d5752896694c538c62bb973491b358": {
          "model_module": "@jupyter-widgets/base",
          "model_name": "LayoutModel",
          "model_module_version": "1.2.0",
          "state": {
            "_model_module": "@jupyter-widgets/base",
            "_model_module_version": "1.2.0",
            "_model_name": "LayoutModel",
            "_view_count": null,
            "_view_module": "@jupyter-widgets/base",
            "_view_module_version": "1.2.0",
            "_view_name": "LayoutView",
            "align_content": null,
            "align_items": null,
            "align_self": null,
            "border": null,
            "bottom": null,
            "display": null,
            "flex": null,
            "flex_flow": null,
            "grid_area": null,
            "grid_auto_columns": null,
            "grid_auto_flow": null,
            "grid_auto_rows": null,
            "grid_column": null,
            "grid_gap": null,
            "grid_row": null,
            "grid_template_areas": null,
            "grid_template_columns": null,
            "grid_template_rows": null,
            "height": null,
            "justify_content": null,
            "justify_items": null,
            "left": null,
            "margin": null,
            "max_height": null,
            "max_width": null,
            "min_height": null,
            "min_width": null,
            "object_fit": null,
            "object_position": null,
            "order": null,
            "overflow": null,
            "overflow_x": null,
            "overflow_y": null,
            "padding": null,
            "right": null,
            "top": null,
            "visibility": null,
            "width": null
          }
        },
        "553eea952f014008a099562c6387bc9a": {
          "model_module": "@jupyter-widgets/controls",
          "model_name": "DescriptionStyleModel",
          "model_module_version": "1.5.0",
          "state": {
            "_model_module": "@jupyter-widgets/controls",
            "_model_module_version": "1.5.0",
            "_model_name": "DescriptionStyleModel",
            "_view_count": null,
            "_view_module": "@jupyter-widgets/base",
            "_view_module_version": "1.2.0",
            "_view_name": "StyleView",
            "description_width": ""
          }
        },
        "3d9b5a93ae0a43a58fe12e787ee9802c": {
          "model_module": "@jupyter-widgets/controls",
          "model_name": "HBoxModel",
          "model_module_version": "1.5.0",
          "state": {
            "_dom_classes": [],
            "_model_module": "@jupyter-widgets/controls",
            "_model_module_version": "1.5.0",
            "_model_name": "HBoxModel",
            "_view_count": null,
            "_view_module": "@jupyter-widgets/controls",
            "_view_module_version": "1.5.0",
            "_view_name": "HBoxView",
            "box_style": "",
            "children": [
              "IPY_MODEL_4c9d73759dea4a60841afc1e28d13258",
              "IPY_MODEL_d48b40032df44f4b9b779d813b9a971f",
              "IPY_MODEL_7b2c789e2f8144ca913ae7166036ae8f"
            ],
            "layout": "IPY_MODEL_aa600bdbf1a144b0a93499bd141782b9"
          }
        },
        "4c9d73759dea4a60841afc1e28d13258": {
          "model_module": "@jupyter-widgets/controls",
          "model_name": "HTMLModel",
          "model_module_version": "1.5.0",
          "state": {
            "_dom_classes": [],
            "_model_module": "@jupyter-widgets/controls",
            "_model_module_version": "1.5.0",
            "_model_name": "HTMLModel",
            "_view_count": null,
            "_view_module": "@jupyter-widgets/controls",
            "_view_module_version": "1.5.0",
            "_view_name": "HTMLView",
            "description": "",
            "description_tooltip": null,
            "layout": "IPY_MODEL_4ceded0763c749098d1a3a9f5715c52a",
            "placeholder": "​",
            "style": "IPY_MODEL_631210b8bdb24e14bd85a626998ea797",
            "value": "Downloading (…)olve/main/vocab.json: 100%"
          }
        },
        "d48b40032df44f4b9b779d813b9a971f": {
          "model_module": "@jupyter-widgets/controls",
          "model_name": "FloatProgressModel",
          "model_module_version": "1.5.0",
          "state": {
            "_dom_classes": [],
            "_model_module": "@jupyter-widgets/controls",
            "_model_module_version": "1.5.0",
            "_model_name": "FloatProgressModel",
            "_view_count": null,
            "_view_module": "@jupyter-widgets/controls",
            "_view_module_version": "1.5.0",
            "_view_name": "ProgressView",
            "bar_style": "success",
            "description": "",
            "description_tooltip": null,
            "layout": "IPY_MODEL_01c1d88787854272818e8a4ec678c18f",
            "max": 898822,
            "min": 0,
            "orientation": "horizontal",
            "style": "IPY_MODEL_3837966684364e1fa62bb9a3a126c699",
            "value": 898822
          }
        },
        "7b2c789e2f8144ca913ae7166036ae8f": {
          "model_module": "@jupyter-widgets/controls",
          "model_name": "HTMLModel",
          "model_module_version": "1.5.0",
          "state": {
            "_dom_classes": [],
            "_model_module": "@jupyter-widgets/controls",
            "_model_module_version": "1.5.0",
            "_model_name": "HTMLModel",
            "_view_count": null,
            "_view_module": "@jupyter-widgets/controls",
            "_view_module_version": "1.5.0",
            "_view_name": "HTMLView",
            "description": "",
            "description_tooltip": null,
            "layout": "IPY_MODEL_3b44ada8cac147efac3c762accf13e88",
            "placeholder": "​",
            "style": "IPY_MODEL_8770eb7a19c54196af4fc2322d0ad3c3",
            "value": " 899k/899k [00:00&lt;00:00, 4.39MB/s]"
          }
        },
        "aa600bdbf1a144b0a93499bd141782b9": {
          "model_module": "@jupyter-widgets/base",
          "model_name": "LayoutModel",
          "model_module_version": "1.2.0",
          "state": {
            "_model_module": "@jupyter-widgets/base",
            "_model_module_version": "1.2.0",
            "_model_name": "LayoutModel",
            "_view_count": null,
            "_view_module": "@jupyter-widgets/base",
            "_view_module_version": "1.2.0",
            "_view_name": "LayoutView",
            "align_content": null,
            "align_items": null,
            "align_self": null,
            "border": null,
            "bottom": null,
            "display": null,
            "flex": null,
            "flex_flow": null,
            "grid_area": null,
            "grid_auto_columns": null,
            "grid_auto_flow": null,
            "grid_auto_rows": null,
            "grid_column": null,
            "grid_gap": null,
            "grid_row": null,
            "grid_template_areas": null,
            "grid_template_columns": null,
            "grid_template_rows": null,
            "height": null,
            "justify_content": null,
            "justify_items": null,
            "left": null,
            "margin": null,
            "max_height": null,
            "max_width": null,
            "min_height": null,
            "min_width": null,
            "object_fit": null,
            "object_position": null,
            "order": null,
            "overflow": null,
            "overflow_x": null,
            "overflow_y": null,
            "padding": null,
            "right": null,
            "top": null,
            "visibility": null,
            "width": null
          }
        },
        "4ceded0763c749098d1a3a9f5715c52a": {
          "model_module": "@jupyter-widgets/base",
          "model_name": "LayoutModel",
          "model_module_version": "1.2.0",
          "state": {
            "_model_module": "@jupyter-widgets/base",
            "_model_module_version": "1.2.0",
            "_model_name": "LayoutModel",
            "_view_count": null,
            "_view_module": "@jupyter-widgets/base",
            "_view_module_version": "1.2.0",
            "_view_name": "LayoutView",
            "align_content": null,
            "align_items": null,
            "align_self": null,
            "border": null,
            "bottom": null,
            "display": null,
            "flex": null,
            "flex_flow": null,
            "grid_area": null,
            "grid_auto_columns": null,
            "grid_auto_flow": null,
            "grid_auto_rows": null,
            "grid_column": null,
            "grid_gap": null,
            "grid_row": null,
            "grid_template_areas": null,
            "grid_template_columns": null,
            "grid_template_rows": null,
            "height": null,
            "justify_content": null,
            "justify_items": null,
            "left": null,
            "margin": null,
            "max_height": null,
            "max_width": null,
            "min_height": null,
            "min_width": null,
            "object_fit": null,
            "object_position": null,
            "order": null,
            "overflow": null,
            "overflow_x": null,
            "overflow_y": null,
            "padding": null,
            "right": null,
            "top": null,
            "visibility": null,
            "width": null
          }
        },
        "631210b8bdb24e14bd85a626998ea797": {
          "model_module": "@jupyter-widgets/controls",
          "model_name": "DescriptionStyleModel",
          "model_module_version": "1.5.0",
          "state": {
            "_model_module": "@jupyter-widgets/controls",
            "_model_module_version": "1.5.0",
            "_model_name": "DescriptionStyleModel",
            "_view_count": null,
            "_view_module": "@jupyter-widgets/base",
            "_view_module_version": "1.2.0",
            "_view_name": "StyleView",
            "description_width": ""
          }
        },
        "01c1d88787854272818e8a4ec678c18f": {
          "model_module": "@jupyter-widgets/base",
          "model_name": "LayoutModel",
          "model_module_version": "1.2.0",
          "state": {
            "_model_module": "@jupyter-widgets/base",
            "_model_module_version": "1.2.0",
            "_model_name": "LayoutModel",
            "_view_count": null,
            "_view_module": "@jupyter-widgets/base",
            "_view_module_version": "1.2.0",
            "_view_name": "LayoutView",
            "align_content": null,
            "align_items": null,
            "align_self": null,
            "border": null,
            "bottom": null,
            "display": null,
            "flex": null,
            "flex_flow": null,
            "grid_area": null,
            "grid_auto_columns": null,
            "grid_auto_flow": null,
            "grid_auto_rows": null,
            "grid_column": null,
            "grid_gap": null,
            "grid_row": null,
            "grid_template_areas": null,
            "grid_template_columns": null,
            "grid_template_rows": null,
            "height": null,
            "justify_content": null,
            "justify_items": null,
            "left": null,
            "margin": null,
            "max_height": null,
            "max_width": null,
            "min_height": null,
            "min_width": null,
            "object_fit": null,
            "object_position": null,
            "order": null,
            "overflow": null,
            "overflow_x": null,
            "overflow_y": null,
            "padding": null,
            "right": null,
            "top": null,
            "visibility": null,
            "width": null
          }
        },
        "3837966684364e1fa62bb9a3a126c699": {
          "model_module": "@jupyter-widgets/controls",
          "model_name": "ProgressStyleModel",
          "model_module_version": "1.5.0",
          "state": {
            "_model_module": "@jupyter-widgets/controls",
            "_model_module_version": "1.5.0",
            "_model_name": "ProgressStyleModel",
            "_view_count": null,
            "_view_module": "@jupyter-widgets/base",
            "_view_module_version": "1.2.0",
            "_view_name": "StyleView",
            "bar_color": null,
            "description_width": ""
          }
        },
        "3b44ada8cac147efac3c762accf13e88": {
          "model_module": "@jupyter-widgets/base",
          "model_name": "LayoutModel",
          "model_module_version": "1.2.0",
          "state": {
            "_model_module": "@jupyter-widgets/base",
            "_model_module_version": "1.2.0",
            "_model_name": "LayoutModel",
            "_view_count": null,
            "_view_module": "@jupyter-widgets/base",
            "_view_module_version": "1.2.0",
            "_view_name": "LayoutView",
            "align_content": null,
            "align_items": null,
            "align_self": null,
            "border": null,
            "bottom": null,
            "display": null,
            "flex": null,
            "flex_flow": null,
            "grid_area": null,
            "grid_auto_columns": null,
            "grid_auto_flow": null,
            "grid_auto_rows": null,
            "grid_column": null,
            "grid_gap": null,
            "grid_row": null,
            "grid_template_areas": null,
            "grid_template_columns": null,
            "grid_template_rows": null,
            "height": null,
            "justify_content": null,
            "justify_items": null,
            "left": null,
            "margin": null,
            "max_height": null,
            "max_width": null,
            "min_height": null,
            "min_width": null,
            "object_fit": null,
            "object_position": null,
            "order": null,
            "overflow": null,
            "overflow_x": null,
            "overflow_y": null,
            "padding": null,
            "right": null,
            "top": null,
            "visibility": null,
            "width": null
          }
        },
        "8770eb7a19c54196af4fc2322d0ad3c3": {
          "model_module": "@jupyter-widgets/controls",
          "model_name": "DescriptionStyleModel",
          "model_module_version": "1.5.0",
          "state": {
            "_model_module": "@jupyter-widgets/controls",
            "_model_module_version": "1.5.0",
            "_model_name": "DescriptionStyleModel",
            "_view_count": null,
            "_view_module": "@jupyter-widgets/base",
            "_view_module_version": "1.2.0",
            "_view_name": "StyleView",
            "description_width": ""
          }
        },
        "451146940f4541bba14d1e11964b6072": {
          "model_module": "@jupyter-widgets/controls",
          "model_name": "HBoxModel",
          "model_module_version": "1.5.0",
          "state": {
            "_dom_classes": [],
            "_model_module": "@jupyter-widgets/controls",
            "_model_module_version": "1.5.0",
            "_model_name": "HBoxModel",
            "_view_count": null,
            "_view_module": "@jupyter-widgets/controls",
            "_view_module_version": "1.5.0",
            "_view_name": "HBoxView",
            "box_style": "",
            "children": [
              "IPY_MODEL_c6523e1588f441a48cabde34e1f2ea1f",
              "IPY_MODEL_efe4cb52d03d4dcf8937e15c0f10babc",
              "IPY_MODEL_122b3207234d4990b5b2cfd666633e34"
            ],
            "layout": "IPY_MODEL_f403265f9a0345f6b2ec566a6ed54461"
          }
        },
        "c6523e1588f441a48cabde34e1f2ea1f": {
          "model_module": "@jupyter-widgets/controls",
          "model_name": "HTMLModel",
          "model_module_version": "1.5.0",
          "state": {
            "_dom_classes": [],
            "_model_module": "@jupyter-widgets/controls",
            "_model_module_version": "1.5.0",
            "_model_name": "HTMLModel",
            "_view_count": null,
            "_view_module": "@jupyter-widgets/controls",
            "_view_module_version": "1.5.0",
            "_view_name": "HTMLView",
            "description": "",
            "description_tooltip": null,
            "layout": "IPY_MODEL_8f8ad85e4dae4c4782cc8a4f8e87f8e1",
            "placeholder": "​",
            "style": "IPY_MODEL_0686ec0351e54f87ab0938e48c300e5e",
            "value": "Downloading (…)olve/main/merges.txt: 100%"
          }
        },
        "efe4cb52d03d4dcf8937e15c0f10babc": {
          "model_module": "@jupyter-widgets/controls",
          "model_name": "FloatProgressModel",
          "model_module_version": "1.5.0",
          "state": {
            "_dom_classes": [],
            "_model_module": "@jupyter-widgets/controls",
            "_model_module_version": "1.5.0",
            "_model_name": "FloatProgressModel",
            "_view_count": null,
            "_view_module": "@jupyter-widgets/controls",
            "_view_module_version": "1.5.0",
            "_view_name": "ProgressView",
            "bar_style": "success",
            "description": "",
            "description_tooltip": null,
            "layout": "IPY_MODEL_faf580fde0ae49409d799cd245698847",
            "max": 456318,
            "min": 0,
            "orientation": "horizontal",
            "style": "IPY_MODEL_f88de0c2897048818a7e4e98515cd2bf",
            "value": 456318
          }
        },
        "122b3207234d4990b5b2cfd666633e34": {
          "model_module": "@jupyter-widgets/controls",
          "model_name": "HTMLModel",
          "model_module_version": "1.5.0",
          "state": {
            "_dom_classes": [],
            "_model_module": "@jupyter-widgets/controls",
            "_model_module_version": "1.5.0",
            "_model_name": "HTMLModel",
            "_view_count": null,
            "_view_module": "@jupyter-widgets/controls",
            "_view_module_version": "1.5.0",
            "_view_name": "HTMLView",
            "description": "",
            "description_tooltip": null,
            "layout": "IPY_MODEL_948051f0889140ab957661e201ec4043",
            "placeholder": "​",
            "style": "IPY_MODEL_9c469195cb5645e480acdc565488fc4b",
            "value": " 456k/456k [00:00&lt;00:00, 5.28MB/s]"
          }
        },
        "f403265f9a0345f6b2ec566a6ed54461": {
          "model_module": "@jupyter-widgets/base",
          "model_name": "LayoutModel",
          "model_module_version": "1.2.0",
          "state": {
            "_model_module": "@jupyter-widgets/base",
            "_model_module_version": "1.2.0",
            "_model_name": "LayoutModel",
            "_view_count": null,
            "_view_module": "@jupyter-widgets/base",
            "_view_module_version": "1.2.0",
            "_view_name": "LayoutView",
            "align_content": null,
            "align_items": null,
            "align_self": null,
            "border": null,
            "bottom": null,
            "display": null,
            "flex": null,
            "flex_flow": null,
            "grid_area": null,
            "grid_auto_columns": null,
            "grid_auto_flow": null,
            "grid_auto_rows": null,
            "grid_column": null,
            "grid_gap": null,
            "grid_row": null,
            "grid_template_areas": null,
            "grid_template_columns": null,
            "grid_template_rows": null,
            "height": null,
            "justify_content": null,
            "justify_items": null,
            "left": null,
            "margin": null,
            "max_height": null,
            "max_width": null,
            "min_height": null,
            "min_width": null,
            "object_fit": null,
            "object_position": null,
            "order": null,
            "overflow": null,
            "overflow_x": null,
            "overflow_y": null,
            "padding": null,
            "right": null,
            "top": null,
            "visibility": null,
            "width": null
          }
        },
        "8f8ad85e4dae4c4782cc8a4f8e87f8e1": {
          "model_module": "@jupyter-widgets/base",
          "model_name": "LayoutModel",
          "model_module_version": "1.2.0",
          "state": {
            "_model_module": "@jupyter-widgets/base",
            "_model_module_version": "1.2.0",
            "_model_name": "LayoutModel",
            "_view_count": null,
            "_view_module": "@jupyter-widgets/base",
            "_view_module_version": "1.2.0",
            "_view_name": "LayoutView",
            "align_content": null,
            "align_items": null,
            "align_self": null,
            "border": null,
            "bottom": null,
            "display": null,
            "flex": null,
            "flex_flow": null,
            "grid_area": null,
            "grid_auto_columns": null,
            "grid_auto_flow": null,
            "grid_auto_rows": null,
            "grid_column": null,
            "grid_gap": null,
            "grid_row": null,
            "grid_template_areas": null,
            "grid_template_columns": null,
            "grid_template_rows": null,
            "height": null,
            "justify_content": null,
            "justify_items": null,
            "left": null,
            "margin": null,
            "max_height": null,
            "max_width": null,
            "min_height": null,
            "min_width": null,
            "object_fit": null,
            "object_position": null,
            "order": null,
            "overflow": null,
            "overflow_x": null,
            "overflow_y": null,
            "padding": null,
            "right": null,
            "top": null,
            "visibility": null,
            "width": null
          }
        },
        "0686ec0351e54f87ab0938e48c300e5e": {
          "model_module": "@jupyter-widgets/controls",
          "model_name": "DescriptionStyleModel",
          "model_module_version": "1.5.0",
          "state": {
            "_model_module": "@jupyter-widgets/controls",
            "_model_module_version": "1.5.0",
            "_model_name": "DescriptionStyleModel",
            "_view_count": null,
            "_view_module": "@jupyter-widgets/base",
            "_view_module_version": "1.2.0",
            "_view_name": "StyleView",
            "description_width": ""
          }
        },
        "faf580fde0ae49409d799cd245698847": {
          "model_module": "@jupyter-widgets/base",
          "model_name": "LayoutModel",
          "model_module_version": "1.2.0",
          "state": {
            "_model_module": "@jupyter-widgets/base",
            "_model_module_version": "1.2.0",
            "_model_name": "LayoutModel",
            "_view_count": null,
            "_view_module": "@jupyter-widgets/base",
            "_view_module_version": "1.2.0",
            "_view_name": "LayoutView",
            "align_content": null,
            "align_items": null,
            "align_self": null,
            "border": null,
            "bottom": null,
            "display": null,
            "flex": null,
            "flex_flow": null,
            "grid_area": null,
            "grid_auto_columns": null,
            "grid_auto_flow": null,
            "grid_auto_rows": null,
            "grid_column": null,
            "grid_gap": null,
            "grid_row": null,
            "grid_template_areas": null,
            "grid_template_columns": null,
            "grid_template_rows": null,
            "height": null,
            "justify_content": null,
            "justify_items": null,
            "left": null,
            "margin": null,
            "max_height": null,
            "max_width": null,
            "min_height": null,
            "min_width": null,
            "object_fit": null,
            "object_position": null,
            "order": null,
            "overflow": null,
            "overflow_x": null,
            "overflow_y": null,
            "padding": null,
            "right": null,
            "top": null,
            "visibility": null,
            "width": null
          }
        },
        "f88de0c2897048818a7e4e98515cd2bf": {
          "model_module": "@jupyter-widgets/controls",
          "model_name": "ProgressStyleModel",
          "model_module_version": "1.5.0",
          "state": {
            "_model_module": "@jupyter-widgets/controls",
            "_model_module_version": "1.5.0",
            "_model_name": "ProgressStyleModel",
            "_view_count": null,
            "_view_module": "@jupyter-widgets/base",
            "_view_module_version": "1.2.0",
            "_view_name": "StyleView",
            "bar_color": null,
            "description_width": ""
          }
        },
        "948051f0889140ab957661e201ec4043": {
          "model_module": "@jupyter-widgets/base",
          "model_name": "LayoutModel",
          "model_module_version": "1.2.0",
          "state": {
            "_model_module": "@jupyter-widgets/base",
            "_model_module_version": "1.2.0",
            "_model_name": "LayoutModel",
            "_view_count": null,
            "_view_module": "@jupyter-widgets/base",
            "_view_module_version": "1.2.0",
            "_view_name": "LayoutView",
            "align_content": null,
            "align_items": null,
            "align_self": null,
            "border": null,
            "bottom": null,
            "display": null,
            "flex": null,
            "flex_flow": null,
            "grid_area": null,
            "grid_auto_columns": null,
            "grid_auto_flow": null,
            "grid_auto_rows": null,
            "grid_column": null,
            "grid_gap": null,
            "grid_row": null,
            "grid_template_areas": null,
            "grid_template_columns": null,
            "grid_template_rows": null,
            "height": null,
            "justify_content": null,
            "justify_items": null,
            "left": null,
            "margin": null,
            "max_height": null,
            "max_width": null,
            "min_height": null,
            "min_width": null,
            "object_fit": null,
            "object_position": null,
            "order": null,
            "overflow": null,
            "overflow_x": null,
            "overflow_y": null,
            "padding": null,
            "right": null,
            "top": null,
            "visibility": null,
            "width": null
          }
        },
        "9c469195cb5645e480acdc565488fc4b": {
          "model_module": "@jupyter-widgets/controls",
          "model_name": "DescriptionStyleModel",
          "model_module_version": "1.5.0",
          "state": {
            "_model_module": "@jupyter-widgets/controls",
            "_model_module_version": "1.5.0",
            "_model_name": "DescriptionStyleModel",
            "_view_count": null,
            "_view_module": "@jupyter-widgets/base",
            "_view_module_version": "1.2.0",
            "_view_name": "StyleView",
            "description_width": ""
          }
        },
        "ac4a573382f643fab403fd962d0e3bf8": {
          "model_module": "@jupyter-widgets/controls",
          "model_name": "HBoxModel",
          "model_module_version": "1.5.0",
          "state": {
            "_dom_classes": [],
            "_model_module": "@jupyter-widgets/controls",
            "_model_module_version": "1.5.0",
            "_model_name": "HBoxModel",
            "_view_count": null,
            "_view_module": "@jupyter-widgets/controls",
            "_view_module_version": "1.5.0",
            "_view_name": "HBoxView",
            "box_style": "",
            "children": [
              "IPY_MODEL_827457c6120b40f6880b745130a3b0e3",
              "IPY_MODEL_6496c2ed49d64c369fa23c354e1769ae",
              "IPY_MODEL_b8bc5eb66fad44618d2026d4216f1b22"
            ],
            "layout": "IPY_MODEL_900af8bdb5b84829bae63a80022b0bac"
          }
        },
        "827457c6120b40f6880b745130a3b0e3": {
          "model_module": "@jupyter-widgets/controls",
          "model_name": "HTMLModel",
          "model_module_version": "1.5.0",
          "state": {
            "_dom_classes": [],
            "_model_module": "@jupyter-widgets/controls",
            "_model_module_version": "1.5.0",
            "_model_name": "HTMLModel",
            "_view_count": null,
            "_view_module": "@jupyter-widgets/controls",
            "_view_module_version": "1.5.0",
            "_view_name": "HTMLView",
            "description": "",
            "description_tooltip": null,
            "layout": "IPY_MODEL_ff81fbd861da4a7e9953fb5e4f4cfa00",
            "placeholder": "​",
            "style": "IPY_MODEL_e10a0494e3d345d88cc623ae2807d27a",
            "value": "Downloading (…)cial_tokens_map.json: 100%"
          }
        },
        "6496c2ed49d64c369fa23c354e1769ae": {
          "model_module": "@jupyter-widgets/controls",
          "model_name": "FloatProgressModel",
          "model_module_version": "1.5.0",
          "state": {
            "_dom_classes": [],
            "_model_module": "@jupyter-widgets/controls",
            "_model_module_version": "1.5.0",
            "_model_name": "FloatProgressModel",
            "_view_count": null,
            "_view_module": "@jupyter-widgets/controls",
            "_view_module_version": "1.5.0",
            "_view_name": "ProgressView",
            "bar_style": "success",
            "description": "",
            "description_tooltip": null,
            "layout": "IPY_MODEL_1e0b089490e7456ebbebaa87226ab38b",
            "max": 150,
            "min": 0,
            "orientation": "horizontal",
            "style": "IPY_MODEL_ea68e9bc7a2241ee9225bbd74798b469",
            "value": 150
          }
        },
        "b8bc5eb66fad44618d2026d4216f1b22": {
          "model_module": "@jupyter-widgets/controls",
          "model_name": "HTMLModel",
          "model_module_version": "1.5.0",
          "state": {
            "_dom_classes": [],
            "_model_module": "@jupyter-widgets/controls",
            "_model_module_version": "1.5.0",
            "_model_name": "HTMLModel",
            "_view_count": null,
            "_view_module": "@jupyter-widgets/controls",
            "_view_module_version": "1.5.0",
            "_view_name": "HTMLView",
            "description": "",
            "description_tooltip": null,
            "layout": "IPY_MODEL_26bed1744c1a4d98b48aa3a746e1df50",
            "placeholder": "​",
            "style": "IPY_MODEL_b3e4a243d9c84e2db5c112abbc5c731c",
            "value": " 150/150 [00:00&lt;00:00, 3.06kB/s]"
          }
        },
        "900af8bdb5b84829bae63a80022b0bac": {
          "model_module": "@jupyter-widgets/base",
          "model_name": "LayoutModel",
          "model_module_version": "1.2.0",
          "state": {
            "_model_module": "@jupyter-widgets/base",
            "_model_module_version": "1.2.0",
            "_model_name": "LayoutModel",
            "_view_count": null,
            "_view_module": "@jupyter-widgets/base",
            "_view_module_version": "1.2.0",
            "_view_name": "LayoutView",
            "align_content": null,
            "align_items": null,
            "align_self": null,
            "border": null,
            "bottom": null,
            "display": null,
            "flex": null,
            "flex_flow": null,
            "grid_area": null,
            "grid_auto_columns": null,
            "grid_auto_flow": null,
            "grid_auto_rows": null,
            "grid_column": null,
            "grid_gap": null,
            "grid_row": null,
            "grid_template_areas": null,
            "grid_template_columns": null,
            "grid_template_rows": null,
            "height": null,
            "justify_content": null,
            "justify_items": null,
            "left": null,
            "margin": null,
            "max_height": null,
            "max_width": null,
            "min_height": null,
            "min_width": null,
            "object_fit": null,
            "object_position": null,
            "order": null,
            "overflow": null,
            "overflow_x": null,
            "overflow_y": null,
            "padding": null,
            "right": null,
            "top": null,
            "visibility": null,
            "width": null
          }
        },
        "ff81fbd861da4a7e9953fb5e4f4cfa00": {
          "model_module": "@jupyter-widgets/base",
          "model_name": "LayoutModel",
          "model_module_version": "1.2.0",
          "state": {
            "_model_module": "@jupyter-widgets/base",
            "_model_module_version": "1.2.0",
            "_model_name": "LayoutModel",
            "_view_count": null,
            "_view_module": "@jupyter-widgets/base",
            "_view_module_version": "1.2.0",
            "_view_name": "LayoutView",
            "align_content": null,
            "align_items": null,
            "align_self": null,
            "border": null,
            "bottom": null,
            "display": null,
            "flex": null,
            "flex_flow": null,
            "grid_area": null,
            "grid_auto_columns": null,
            "grid_auto_flow": null,
            "grid_auto_rows": null,
            "grid_column": null,
            "grid_gap": null,
            "grid_row": null,
            "grid_template_areas": null,
            "grid_template_columns": null,
            "grid_template_rows": null,
            "height": null,
            "justify_content": null,
            "justify_items": null,
            "left": null,
            "margin": null,
            "max_height": null,
            "max_width": null,
            "min_height": null,
            "min_width": null,
            "object_fit": null,
            "object_position": null,
            "order": null,
            "overflow": null,
            "overflow_x": null,
            "overflow_y": null,
            "padding": null,
            "right": null,
            "top": null,
            "visibility": null,
            "width": null
          }
        },
        "e10a0494e3d345d88cc623ae2807d27a": {
          "model_module": "@jupyter-widgets/controls",
          "model_name": "DescriptionStyleModel",
          "model_module_version": "1.5.0",
          "state": {
            "_model_module": "@jupyter-widgets/controls",
            "_model_module_version": "1.5.0",
            "_model_name": "DescriptionStyleModel",
            "_view_count": null,
            "_view_module": "@jupyter-widgets/base",
            "_view_module_version": "1.2.0",
            "_view_name": "StyleView",
            "description_width": ""
          }
        },
        "1e0b089490e7456ebbebaa87226ab38b": {
          "model_module": "@jupyter-widgets/base",
          "model_name": "LayoutModel",
          "model_module_version": "1.2.0",
          "state": {
            "_model_module": "@jupyter-widgets/base",
            "_model_module_version": "1.2.0",
            "_model_name": "LayoutModel",
            "_view_count": null,
            "_view_module": "@jupyter-widgets/base",
            "_view_module_version": "1.2.0",
            "_view_name": "LayoutView",
            "align_content": null,
            "align_items": null,
            "align_self": null,
            "border": null,
            "bottom": null,
            "display": null,
            "flex": null,
            "flex_flow": null,
            "grid_area": null,
            "grid_auto_columns": null,
            "grid_auto_flow": null,
            "grid_auto_rows": null,
            "grid_column": null,
            "grid_gap": null,
            "grid_row": null,
            "grid_template_areas": null,
            "grid_template_columns": null,
            "grid_template_rows": null,
            "height": null,
            "justify_content": null,
            "justify_items": null,
            "left": null,
            "margin": null,
            "max_height": null,
            "max_width": null,
            "min_height": null,
            "min_width": null,
            "object_fit": null,
            "object_position": null,
            "order": null,
            "overflow": null,
            "overflow_x": null,
            "overflow_y": null,
            "padding": null,
            "right": null,
            "top": null,
            "visibility": null,
            "width": null
          }
        },
        "ea68e9bc7a2241ee9225bbd74798b469": {
          "model_module": "@jupyter-widgets/controls",
          "model_name": "ProgressStyleModel",
          "model_module_version": "1.5.0",
          "state": {
            "_model_module": "@jupyter-widgets/controls",
            "_model_module_version": "1.5.0",
            "_model_name": "ProgressStyleModel",
            "_view_count": null,
            "_view_module": "@jupyter-widgets/base",
            "_view_module_version": "1.2.0",
            "_view_name": "StyleView",
            "bar_color": null,
            "description_width": ""
          }
        },
        "26bed1744c1a4d98b48aa3a746e1df50": {
          "model_module": "@jupyter-widgets/base",
          "model_name": "LayoutModel",
          "model_module_version": "1.2.0",
          "state": {
            "_model_module": "@jupyter-widgets/base",
            "_model_module_version": "1.2.0",
            "_model_name": "LayoutModel",
            "_view_count": null,
            "_view_module": "@jupyter-widgets/base",
            "_view_module_version": "1.2.0",
            "_view_name": "LayoutView",
            "align_content": null,
            "align_items": null,
            "align_self": null,
            "border": null,
            "bottom": null,
            "display": null,
            "flex": null,
            "flex_flow": null,
            "grid_area": null,
            "grid_auto_columns": null,
            "grid_auto_flow": null,
            "grid_auto_rows": null,
            "grid_column": null,
            "grid_gap": null,
            "grid_row": null,
            "grid_template_areas": null,
            "grid_template_columns": null,
            "grid_template_rows": null,
            "height": null,
            "justify_content": null,
            "justify_items": null,
            "left": null,
            "margin": null,
            "max_height": null,
            "max_width": null,
            "min_height": null,
            "min_width": null,
            "object_fit": null,
            "object_position": null,
            "order": null,
            "overflow": null,
            "overflow_x": null,
            "overflow_y": null,
            "padding": null,
            "right": null,
            "top": null,
            "visibility": null,
            "width": null
          }
        },
        "b3e4a243d9c84e2db5c112abbc5c731c": {
          "model_module": "@jupyter-widgets/controls",
          "model_name": "DescriptionStyleModel",
          "model_module_version": "1.5.0",
          "state": {
            "_model_module": "@jupyter-widgets/controls",
            "_model_module_version": "1.5.0",
            "_model_name": "DescriptionStyleModel",
            "_view_count": null,
            "_view_module": "@jupyter-widgets/base",
            "_view_module_version": "1.2.0",
            "_view_name": "StyleView",
            "description_width": ""
          }
        }
      }
    }
  },
  "cells": [
    {
      "cell_type": "code",
      "source": [
        "!pip install pyspark"
      ],
      "metadata": {
        "colab": {
          "base_uri": "https://localhost:8080/"
        },
        "id": "cGJ5k3dSDNyY",
        "outputId": "8c4fece4-7ce6-4fb9-f156-4ada4caf97c0"
      },
      "execution_count": null,
      "outputs": [
        {
          "output_type": "stream",
          "name": "stdout",
          "text": [
            "Looking in indexes: https://pypi.org/simple, https://us-python.pkg.dev/colab-wheels/public/simple/\n",
            "Collecting pyspark\n",
            "  Downloading pyspark-3.4.0.tar.gz (310.8 MB)\n",
            "\u001b[2K     \u001b[90m━━━━━━━━━━━━━━━━━━━━━━━━━━━━━━━━━━━━━━━\u001b[0m \u001b[32m310.8/310.8 MB\u001b[0m \u001b[31m2.6 MB/s\u001b[0m eta \u001b[36m0:00:00\u001b[0m\n",
            "\u001b[?25h  Preparing metadata (setup.py) ... \u001b[?25l\u001b[?25hdone\n",
            "Requirement already satisfied: py4j==0.10.9.7 in /usr/local/lib/python3.10/dist-packages (from pyspark) (0.10.9.7)\n",
            "Building wheels for collected packages: pyspark\n",
            "  Building wheel for pyspark (setup.py) ... \u001b[?25l\u001b[?25hdone\n",
            "  Created wheel for pyspark: filename=pyspark-3.4.0-py2.py3-none-any.whl size=311317130 sha256=a7ec4985ce2a1e835681870d64cc624aedf4e52585e9ac8cc90d4bed945cb3ab\n",
            "  Stored in directory: /root/.cache/pip/wheels/7b/1b/4b/3363a1d04368e7ff0d408e57ff57966fcdf00583774e761327\n",
            "Successfully built pyspark\n",
            "Installing collected packages: pyspark\n",
            "Successfully installed pyspark-3.4.0\n"
          ]
        }
      ]
    },
    {
      "cell_type": "code",
      "execution_count": null,
      "metadata": {
        "id": "GxbpG7A78YJ_"
      },
      "outputs": [],
      "source": [
        "# https://drive.google.com/file/d/17y6tyGP_4MoPsdpxOToNXSlsNN42S6mD/view?usp=share_link "
      ]
    },
    {
      "cell_type": "markdown",
      "source": [
        "# Load Data"
      ],
      "metadata": {
        "id": "JZo7x22ATOaK"
      }
    },
    {
      "cell_type": "code",
      "source": [
        "# Helper Functions\n",
        "def rolling_mean(df, col_name, window_size):\n",
        "    rolling_mean = df[col_name].rolling(window_size).mean()\n",
        "    df[f\"Mean of {col_name} for {window_size} days\"] = rolling_mean\n",
        "    return df\n",
        "\n",
        "def rolling_std(df, col_name, window_size):\n",
        "    rolling_mean = df[col_name].rolling(window_size).std()\n",
        "    df[f\"Std of {col_name} for {window_size} days\"] = rolling_mean\n",
        "    return df"
      ],
      "metadata": {
        "id": "gtc0lASqN1y5"
      },
      "execution_count": null,
      "outputs": []
    },
    {
      "cell_type": "code",
      "source": [
        "from pyspark.sql import SparkSession\n",
        "from pyspark import SparkFiles\n",
        "from pyspark.sql.functions import avg, col\n",
        "from pyspark.pandas.window import Rolling\n",
        "import pyspark.sql.functions as f\n",
        "\n",
        "# create a SparkSession\n",
        "spark = SparkSession.builder.config(\"spark.driver.memory\", \"15g\").appName(\"DSW_Final_Project\").getOrCreate()\n",
        "\n",
        "# mount your Google Drive to Colab\n",
        "from google.colab import drive\n",
        "drive.mount('/content/drive')\n",
        "\n",
        "# # set the file path\n",
        "file_id = '17y6tyGP_4MoPsdpxOToNXSlsNN42S6mD'\n",
        "url = f'https://drive.google.com/uc?id={file_id}'\n",
        "spark.sparkContext.addFile(url)"
      ],
      "metadata": {
        "id": "f_xSAbvSBg5X",
        "colab": {
          "base_uri": "https://localhost:8080/"
        },
        "outputId": "b56369b3-5936-4a24-f91f-a4919ce9cdac"
      },
      "execution_count": null,
      "outputs": [
        {
          "output_type": "stream",
          "name": "stderr",
          "text": [
            "/usr/local/lib/python3.10/dist-packages/pyspark/pandas/__init__.py:50: UserWarning: 'PYARROW_IGNORE_TIMEZONE' environment variable was not set. It is required to set this environment variable to '1' in both driver and executor sides if you use pyarrow>=2.0.0. pandas-on-Spark will set it for you but it does not work if there is a Spark context already launched.\n",
            "  warnings.warn(\n"
          ]
        },
        {
          "output_type": "stream",
          "name": "stdout",
          "text": [
            "Mounted at /content/drive\n"
          ]
        }
      ]
    },
    {
      "cell_type": "markdown",
      "source": [
        "# Tweet Sentiment Analysis"
      ],
      "metadata": {
        "id": "irCOqoCeE9k5"
      }
    },
    {
      "cell_type": "code",
      "source": [
        "# download the file from Google Drive to Colab\n",
        "\n",
        "ts_file_path = '/content/drive/MyDrive/BTC_Prices.csv'\n",
        "tw_file_path = '/content/drive/MyDrive/mbsa.csv'\n",
        "\n",
        "\n",
        "# read the file into a Spark DataFrame\n",
        "time_series_df = spark.read.format(\"csv\").option(\"sep\", \"\\t\").option(\"header\", \"true\").load(ts_file_path)"
      ],
      "metadata": {
        "id": "UCeU6NL_q5Q4"
      },
      "execution_count": null,
      "outputs": []
    },
    {
      "cell_type": "code",
      "source": [
        "import re    # RegEx for removing non-letter characters\n",
        "from pyspark.sql.functions import col, udf\n",
        "from pyspark.sql.types import StringType\n",
        "\n",
        "\n",
        "# Function to remove URLs from text\n",
        "def remove_urls(text):\n",
        "     # Regular expression to match URLs\n",
        "    url_regex = r'http[s]?://(?:[a-zA-Z]|[0-9]|[$-_@.&+]|[!*\\(\\),]|(?:%[0-9a-fA-F][0-9a-fA-F]))+'\n",
        "    return re.sub(url_regex, '', text)\n",
        "\n",
        "remove_urls_udf = udf(lambda x:remove_urls(x),StringType())"
      ],
      "metadata": {
        "id": "pH4-C7MxFc6g"
      },
      "execution_count": null,
      "outputs": []
    },
    {
      "cell_type": "code",
      "source": [
        "startDate = \"2017-01-02\" \n",
        "endDate = \"2019-01-01\" "
      ],
      "metadata": {
        "id": "lE9m8ewv_vzr"
      },
      "execution_count": null,
      "outputs": []
    },
    {
      "cell_type": "code",
      "source": [
        "from pyspark.sql.functions import col, to_date, unix_timestamp\n",
        "spark.sql(\"set spark.sql.legacy.timeParserPolicy=CORRECTED\")\n",
        "\n",
        "tweets_spark_df = spark.read.format(\"csv\").option(\"header\", \"true\").load(tw_file_path) #.option(\"sep\", \";\")\n",
        "tweets_spark_df = tweets_spark_df.na.drop(\"any\")\n",
        "tweets_spark_df = tweets_spark_df.withColumn(\"Date\", to_date(unix_timestamp('Date', 'yyyy-MM-dd').cast(\"timestamp\"))).filter(col('Date').isNotNull())\n",
        "tweets_spark_df = tweets_spark_df.withColumn(\"clean_text\", remove_urls_udf(tweets_spark_df.text))\n",
        "\n",
        "tweets_spark_df = tweets_spark_df.filter(col(\"Date\").between(startDate, endDate))\n",
        "\n",
        "tweets_spark_df.show(10)"
      ],
      "metadata": {
        "colab": {
          "base_uri": "https://localhost:8080/"
        },
        "id": "w5gP1SqWF-C5",
        "outputId": "95dec166-f091-4dc3-c066-734cb0026239"
      },
      "execution_count": null,
      "outputs": [
        {
          "output_type": "stream",
          "name": "stdout",
          "text": [
            "+----------+--------------------+---------+--------------------+\n",
            "|      Date|                text|Sentiment|          clean_text|\n",
            "+----------+--------------------+---------+--------------------+\n",
            "|2018-09-11|#BTCUSD Market #1...| Negative|#BTCUSD Market #1...|\n",
            "|2018-09-11|100.00$ = 15,79 B...| Negative|100.00$ = 15,79 B...|\n",
            "|2018-09-11|Find the best Bit...| Negative|Find the best Bit...|\n",
            "|2018-09-11|11 Septiembre, 20...| Negative|11 Septiembre, 20...|\n",
            "|2018-09-11|Sep 11, 2018 20:0...| Negative|Sep 11, 2018 20:0...|\n",
            "|2018-09-11|Gunakan link unda...| Negative|Gunakan link unda...|\n",
            "|2018-09-11|Sep 11, 2018 23:3...| Negative|Sep 11, 2018 23:3...|\n",
            "|2018-09-11|Sign up using my ...| Negative|Sign up using my ...|\n",
            "|2018-09-11|12 Eylül 2018 Saa...| Negative|12 Eylül 2018 Saa...|\n",
            "|2018-09-11|Sep 11, 2018 23:0...| Negative|Sep 11, 2018 23:0...|\n",
            "+----------+--------------------+---------+--------------------+\n",
            "only showing top 10 rows\n",
            "\n"
          ]
        }
      ]
    },
    {
      "cell_type": "code",
      "source": [
        "tweets_spark_df.count()"
      ],
      "metadata": {
        "colab": {
          "base_uri": "https://localhost:8080/"
        },
        "id": "YqjpfC2SP6pC",
        "outputId": "508f1922-9890-4024-d167-9714e696afe3"
      },
      "execution_count": null,
      "outputs": [
        {
          "output_type": "stream",
          "name": "stderr",
          "text": [
            "----------------------------------------\n",
            "Exception occurred during processing of request from ('127.0.0.1', 56550)\n",
            "ERROR:root:Exception while sending command.\n",
            "Traceback (most recent call last):\n",
            "  File \"/usr/local/lib/python3.10/dist-packages/py4j/clientserver.py\", line 516, in send_command\n",
            "    raise Py4JNetworkError(\"Answer from Java side is empty\")\n",
            "py4j.protocol.Py4JNetworkError: Answer from Java side is empty\n",
            "\n",
            "During handling of the above exception, another exception occurred:\n",
            "\n",
            "Traceback (most recent call last):\n",
            "  File \"/usr/local/lib/python3.10/dist-packages/py4j/java_gateway.py\", line 1038, in send_command\n",
            "    response = connection.send_command(command)\n",
            "  File \"/usr/local/lib/python3.10/dist-packages/py4j/clientserver.py\", line 539, in send_command\n",
            "    raise Py4JNetworkError(\n",
            "py4j.protocol.Py4JNetworkError: Error while sending or receiving\n"
          ]
        },
        {
          "output_type": "error",
          "ename": "Py4JError",
          "evalue": "ignored",
          "traceback": [
            "\u001b[0;31m---------------------------------------------------------------------------\u001b[0m",
            "\u001b[0;31mPy4JError\u001b[0m                                 Traceback (most recent call last)",
            "\u001b[0;32m<ipython-input-33-3aec815cf4e3>\u001b[0m in \u001b[0;36m<cell line: 1>\u001b[0;34m()\u001b[0m\n\u001b[0;32m----> 1\u001b[0;31m \u001b[0mtweets_spark_df\u001b[0m\u001b[0;34m.\u001b[0m\u001b[0mcount\u001b[0m\u001b[0;34m(\u001b[0m\u001b[0;34m)\u001b[0m\u001b[0;34m\u001b[0m\u001b[0;34m\u001b[0m\u001b[0m\n\u001b[0m",
            "\u001b[0;32m/usr/local/lib/python3.10/dist-packages/pyspark/sql/dataframe.py\u001b[0m in \u001b[0;36mcount\u001b[0;34m(self)\u001b[0m\n\u001b[1;32m   1191\u001b[0m         \u001b[0;36m3\u001b[0m\u001b[0;34m\u001b[0m\u001b[0;34m\u001b[0m\u001b[0m\n\u001b[1;32m   1192\u001b[0m         \"\"\"\n\u001b[0;32m-> 1193\u001b[0;31m         \u001b[0;32mreturn\u001b[0m \u001b[0mint\u001b[0m\u001b[0;34m(\u001b[0m\u001b[0mself\u001b[0m\u001b[0;34m.\u001b[0m\u001b[0m_jdf\u001b[0m\u001b[0;34m.\u001b[0m\u001b[0mcount\u001b[0m\u001b[0;34m(\u001b[0m\u001b[0;34m)\u001b[0m\u001b[0;34m)\u001b[0m\u001b[0;34m\u001b[0m\u001b[0;34m\u001b[0m\u001b[0m\n\u001b[0m\u001b[1;32m   1194\u001b[0m \u001b[0;34m\u001b[0m\u001b[0m\n\u001b[1;32m   1195\u001b[0m     \u001b[0;32mdef\u001b[0m \u001b[0mcollect\u001b[0m\u001b[0;34m(\u001b[0m\u001b[0mself\u001b[0m\u001b[0;34m)\u001b[0m \u001b[0;34m->\u001b[0m \u001b[0mList\u001b[0m\u001b[0;34m[\u001b[0m\u001b[0mRow\u001b[0m\u001b[0;34m]\u001b[0m\u001b[0;34m:\u001b[0m\u001b[0;34m\u001b[0m\u001b[0;34m\u001b[0m\u001b[0m\n",
            "\u001b[0;32m/usr/local/lib/python3.10/dist-packages/py4j/java_gateway.py\u001b[0m in \u001b[0;36m__call__\u001b[0;34m(self, *args)\u001b[0m\n\u001b[1;32m   1320\u001b[0m \u001b[0;34m\u001b[0m\u001b[0m\n\u001b[1;32m   1321\u001b[0m         \u001b[0manswer\u001b[0m \u001b[0;34m=\u001b[0m \u001b[0mself\u001b[0m\u001b[0;34m.\u001b[0m\u001b[0mgateway_client\u001b[0m\u001b[0;34m.\u001b[0m\u001b[0msend_command\u001b[0m\u001b[0;34m(\u001b[0m\u001b[0mcommand\u001b[0m\u001b[0;34m)\u001b[0m\u001b[0;34m\u001b[0m\u001b[0;34m\u001b[0m\u001b[0m\n\u001b[0;32m-> 1322\u001b[0;31m         return_value = get_return_value(\n\u001b[0m\u001b[1;32m   1323\u001b[0m             answer, self.gateway_client, self.target_id, self.name)\n\u001b[1;32m   1324\u001b[0m \u001b[0;34m\u001b[0m\u001b[0m\n",
            "\u001b[0;32m/usr/local/lib/python3.10/dist-packages/pyspark/errors/exceptions/captured.py\u001b[0m in \u001b[0;36mdeco\u001b[0;34m(*a, **kw)\u001b[0m\n\u001b[1;32m    167\u001b[0m     \u001b[0;32mdef\u001b[0m \u001b[0mdeco\u001b[0m\u001b[0;34m(\u001b[0m\u001b[0;34m*\u001b[0m\u001b[0ma\u001b[0m\u001b[0;34m:\u001b[0m \u001b[0mAny\u001b[0m\u001b[0;34m,\u001b[0m \u001b[0;34m**\u001b[0m\u001b[0mkw\u001b[0m\u001b[0;34m:\u001b[0m \u001b[0mAny\u001b[0m\u001b[0;34m)\u001b[0m \u001b[0;34m->\u001b[0m \u001b[0mAny\u001b[0m\u001b[0;34m:\u001b[0m\u001b[0;34m\u001b[0m\u001b[0;34m\u001b[0m\u001b[0m\n\u001b[1;32m    168\u001b[0m         \u001b[0;32mtry\u001b[0m\u001b[0;34m:\u001b[0m\u001b[0;34m\u001b[0m\u001b[0;34m\u001b[0m\u001b[0m\n\u001b[0;32m--> 169\u001b[0;31m             \u001b[0;32mreturn\u001b[0m \u001b[0mf\u001b[0m\u001b[0;34m(\u001b[0m\u001b[0;34m*\u001b[0m\u001b[0ma\u001b[0m\u001b[0;34m,\u001b[0m \u001b[0;34m**\u001b[0m\u001b[0mkw\u001b[0m\u001b[0;34m)\u001b[0m\u001b[0;34m\u001b[0m\u001b[0;34m\u001b[0m\u001b[0m\n\u001b[0m\u001b[1;32m    170\u001b[0m         \u001b[0;32mexcept\u001b[0m \u001b[0mPy4JJavaError\u001b[0m \u001b[0;32mas\u001b[0m \u001b[0me\u001b[0m\u001b[0;34m:\u001b[0m\u001b[0;34m\u001b[0m\u001b[0;34m\u001b[0m\u001b[0m\n\u001b[1;32m    171\u001b[0m             \u001b[0mconverted\u001b[0m \u001b[0;34m=\u001b[0m \u001b[0mconvert_exception\u001b[0m\u001b[0;34m(\u001b[0m\u001b[0me\u001b[0m\u001b[0;34m.\u001b[0m\u001b[0mjava_exception\u001b[0m\u001b[0;34m)\u001b[0m\u001b[0;34m\u001b[0m\u001b[0;34m\u001b[0m\u001b[0m\n",
            "\u001b[0;32m/usr/local/lib/python3.10/dist-packages/py4j/protocol.py\u001b[0m in \u001b[0;36mget_return_value\u001b[0;34m(answer, gateway_client, target_id, name)\u001b[0m\n\u001b[1;32m    332\u001b[0m                     format(target_id, \".\", name, value))\n\u001b[1;32m    333\u001b[0m         \u001b[0;32melse\u001b[0m\u001b[0;34m:\u001b[0m\u001b[0;34m\u001b[0m\u001b[0;34m\u001b[0m\u001b[0m\n\u001b[0;32m--> 334\u001b[0;31m             raise Py4JError(\n\u001b[0m\u001b[1;32m    335\u001b[0m                 \u001b[0;34m\"An error occurred while calling {0}{1}{2}\"\u001b[0m\u001b[0;34m.\u001b[0m\u001b[0;34m\u001b[0m\u001b[0;34m\u001b[0m\u001b[0m\n\u001b[1;32m    336\u001b[0m                 format(target_id, \".\", name))\n",
            "\u001b[0;31mPy4JError\u001b[0m: An error occurred while calling o343.count"
          ]
        },
        {
          "output_type": "stream",
          "name": "stderr",
          "text": [
            "Traceback (most recent call last):\n",
            "  File \"/usr/lib/python3.10/socketserver.py\", line 316, in _handle_request_noblock\n",
            "    self.process_request(request, client_address)\n",
            "  File \"/usr/lib/python3.10/socketserver.py\", line 347, in process_request\n",
            "    self.finish_request(request, client_address)\n",
            "  File \"/usr/lib/python3.10/socketserver.py\", line 360, in finish_request\n",
            "    self.RequestHandlerClass(request, client_address, self)\n",
            "  File \"/usr/lib/python3.10/socketserver.py\", line 747, in __init__\n",
            "    self.handle()\n",
            "  File \"/usr/local/lib/python3.10/dist-packages/pyspark/accumulators.py\", line 281, in handle\n",
            "    poll(accum_updates)\n",
            "  File \"/usr/local/lib/python3.10/dist-packages/pyspark/accumulators.py\", line 253, in poll\n",
            "    if func():\n",
            "  File \"/usr/local/lib/python3.10/dist-packages/pyspark/accumulators.py\", line 257, in accum_updates\n",
            "    num_updates = read_int(self.rfile)\n",
            "  File \"/usr/local/lib/python3.10/dist-packages/pyspark/serializers.py\", line 596, in read_int\n",
            "    raise EOFError\n",
            "EOFError\n",
            "----------------------------------------\n"
          ]
        }
      ]
    },
    {
      "cell_type": "code",
      "source": [
        "# # tweets_spark_df = tweets_spark_df.withColumn(\"user_followers\",tweets_spark_df.user_followers.cast('int'))\n",
        "# # tweets_spark_df = tweets_spark_df.filter(tweets_spark_df.user_followers > 0)\n",
        "# tweets_spark_df = tweets_spark_df.filter(tweets_spark_df.text.isNotNull())\n",
        "# tweets_spark_df = tweets_spark_df.withColumn(\"Date\", to_date(unix_timestamp('Date', 'yyyy-MM-dd').cast(\"timestamp\"))).filter(col('Date').isNotNull())\n",
        "# # tweets_spark_df = tweets_spark_df.filter(col(\"date\").between(startDate, endDate))\n",
        "# tweets_spark_df = tweets_spark_df.withColumn(\"clean_text\", remove_urls_udf(tweets_spark_df.text))\n",
        "# tweets_spark_df.count()"
      ],
      "metadata": {
        "colab": {
          "base_uri": "https://localhost:8080/",
          "height": 1000
        },
        "id": "zwX4sgv3sZQT",
        "outputId": "312e3f26-f0ad-4389-f0e5-32404ee126a9"
      },
      "execution_count": null,
      "outputs": [
        {
          "output_type": "error",
          "ename": "Py4JJavaError",
          "evalue": "ignored",
          "traceback": [
            "\u001b[0;31m---------------------------------------------------------------------------\u001b[0m",
            "\u001b[0;31mPy4JJavaError\u001b[0m                             Traceback (most recent call last)",
            "\u001b[0;32m<ipython-input-11-f71057e756c9>\u001b[0m in \u001b[0;36m<cell line: 7>\u001b[0;34m()\u001b[0m\n\u001b[1;32m      5\u001b[0m \u001b[0;31m# tweets_spark_df = tweets_spark_df.filter(col(\"date\").between(startDate, endDate))\u001b[0m\u001b[0;34m\u001b[0m\u001b[0;34m\u001b[0m\u001b[0m\n\u001b[1;32m      6\u001b[0m \u001b[0mtweets_spark_df\u001b[0m \u001b[0;34m=\u001b[0m \u001b[0mtweets_spark_df\u001b[0m\u001b[0;34m.\u001b[0m\u001b[0mwithColumn\u001b[0m\u001b[0;34m(\u001b[0m\u001b[0;34m\"clean_text\"\u001b[0m\u001b[0;34m,\u001b[0m \u001b[0mremove_urls_udf\u001b[0m\u001b[0;34m(\u001b[0m\u001b[0mtweets_spark_df\u001b[0m\u001b[0;34m.\u001b[0m\u001b[0mtext\u001b[0m\u001b[0;34m)\u001b[0m\u001b[0;34m)\u001b[0m\u001b[0;34m\u001b[0m\u001b[0;34m\u001b[0m\u001b[0m\n\u001b[0;32m----> 7\u001b[0;31m \u001b[0mtweets_spark_df\u001b[0m\u001b[0;34m.\u001b[0m\u001b[0mcount\u001b[0m\u001b[0;34m(\u001b[0m\u001b[0;34m)\u001b[0m\u001b[0;34m\u001b[0m\u001b[0;34m\u001b[0m\u001b[0m\n\u001b[0m",
            "\u001b[0;32m/usr/local/lib/python3.10/dist-packages/pyspark/sql/dataframe.py\u001b[0m in \u001b[0;36mcount\u001b[0;34m(self)\u001b[0m\n\u001b[1;32m   1191\u001b[0m         \u001b[0;36m3\u001b[0m\u001b[0;34m\u001b[0m\u001b[0;34m\u001b[0m\u001b[0m\n\u001b[1;32m   1192\u001b[0m         \"\"\"\n\u001b[0;32m-> 1193\u001b[0;31m         \u001b[0;32mreturn\u001b[0m \u001b[0mint\u001b[0m\u001b[0;34m(\u001b[0m\u001b[0mself\u001b[0m\u001b[0;34m.\u001b[0m\u001b[0m_jdf\u001b[0m\u001b[0;34m.\u001b[0m\u001b[0mcount\u001b[0m\u001b[0;34m(\u001b[0m\u001b[0;34m)\u001b[0m\u001b[0;34m)\u001b[0m\u001b[0;34m\u001b[0m\u001b[0;34m\u001b[0m\u001b[0m\n\u001b[0m\u001b[1;32m   1194\u001b[0m \u001b[0;34m\u001b[0m\u001b[0m\n\u001b[1;32m   1195\u001b[0m     \u001b[0;32mdef\u001b[0m \u001b[0mcollect\u001b[0m\u001b[0;34m(\u001b[0m\u001b[0mself\u001b[0m\u001b[0;34m)\u001b[0m \u001b[0;34m->\u001b[0m \u001b[0mList\u001b[0m\u001b[0;34m[\u001b[0m\u001b[0mRow\u001b[0m\u001b[0;34m]\u001b[0m\u001b[0;34m:\u001b[0m\u001b[0;34m\u001b[0m\u001b[0;34m\u001b[0m\u001b[0m\n",
            "\u001b[0;32m/usr/local/lib/python3.10/dist-packages/py4j/java_gateway.py\u001b[0m in \u001b[0;36m__call__\u001b[0;34m(self, *args)\u001b[0m\n\u001b[1;32m   1320\u001b[0m \u001b[0;34m\u001b[0m\u001b[0m\n\u001b[1;32m   1321\u001b[0m         \u001b[0manswer\u001b[0m \u001b[0;34m=\u001b[0m \u001b[0mself\u001b[0m\u001b[0;34m.\u001b[0m\u001b[0mgateway_client\u001b[0m\u001b[0;34m.\u001b[0m\u001b[0msend_command\u001b[0m\u001b[0;34m(\u001b[0m\u001b[0mcommand\u001b[0m\u001b[0;34m)\u001b[0m\u001b[0;34m\u001b[0m\u001b[0;34m\u001b[0m\u001b[0m\n\u001b[0;32m-> 1322\u001b[0;31m         return_value = get_return_value(\n\u001b[0m\u001b[1;32m   1323\u001b[0m             answer, self.gateway_client, self.target_id, self.name)\n\u001b[1;32m   1324\u001b[0m \u001b[0;34m\u001b[0m\u001b[0m\n",
            "\u001b[0;32m/usr/local/lib/python3.10/dist-packages/pyspark/errors/exceptions/captured.py\u001b[0m in \u001b[0;36mdeco\u001b[0;34m(*a, **kw)\u001b[0m\n\u001b[1;32m    167\u001b[0m     \u001b[0;32mdef\u001b[0m \u001b[0mdeco\u001b[0m\u001b[0;34m(\u001b[0m\u001b[0;34m*\u001b[0m\u001b[0ma\u001b[0m\u001b[0;34m:\u001b[0m \u001b[0mAny\u001b[0m\u001b[0;34m,\u001b[0m \u001b[0;34m**\u001b[0m\u001b[0mkw\u001b[0m\u001b[0;34m:\u001b[0m \u001b[0mAny\u001b[0m\u001b[0;34m)\u001b[0m \u001b[0;34m->\u001b[0m \u001b[0mAny\u001b[0m\u001b[0;34m:\u001b[0m\u001b[0;34m\u001b[0m\u001b[0;34m\u001b[0m\u001b[0m\n\u001b[1;32m    168\u001b[0m         \u001b[0;32mtry\u001b[0m\u001b[0;34m:\u001b[0m\u001b[0;34m\u001b[0m\u001b[0;34m\u001b[0m\u001b[0m\n\u001b[0;32m--> 169\u001b[0;31m             \u001b[0;32mreturn\u001b[0m \u001b[0mf\u001b[0m\u001b[0;34m(\u001b[0m\u001b[0;34m*\u001b[0m\u001b[0ma\u001b[0m\u001b[0;34m,\u001b[0m \u001b[0;34m**\u001b[0m\u001b[0mkw\u001b[0m\u001b[0;34m)\u001b[0m\u001b[0;34m\u001b[0m\u001b[0;34m\u001b[0m\u001b[0m\n\u001b[0m\u001b[1;32m    170\u001b[0m         \u001b[0;32mexcept\u001b[0m \u001b[0mPy4JJavaError\u001b[0m \u001b[0;32mas\u001b[0m \u001b[0me\u001b[0m\u001b[0;34m:\u001b[0m\u001b[0;34m\u001b[0m\u001b[0;34m\u001b[0m\u001b[0m\n\u001b[1;32m    171\u001b[0m             \u001b[0mconverted\u001b[0m \u001b[0;34m=\u001b[0m \u001b[0mconvert_exception\u001b[0m\u001b[0;34m(\u001b[0m\u001b[0me\u001b[0m\u001b[0;34m.\u001b[0m\u001b[0mjava_exception\u001b[0m\u001b[0;34m)\u001b[0m\u001b[0;34m\u001b[0m\u001b[0;34m\u001b[0m\u001b[0m\n",
            "\u001b[0;32m/usr/local/lib/python3.10/dist-packages/py4j/protocol.py\u001b[0m in \u001b[0;36mget_return_value\u001b[0;34m(answer, gateway_client, target_id, name)\u001b[0m\n\u001b[1;32m    324\u001b[0m             \u001b[0mvalue\u001b[0m \u001b[0;34m=\u001b[0m \u001b[0mOUTPUT_CONVERTER\u001b[0m\u001b[0;34m[\u001b[0m\u001b[0mtype\u001b[0m\u001b[0;34m]\u001b[0m\u001b[0;34m(\u001b[0m\u001b[0manswer\u001b[0m\u001b[0;34m[\u001b[0m\u001b[0;36m2\u001b[0m\u001b[0;34m:\u001b[0m\u001b[0;34m]\u001b[0m\u001b[0;34m,\u001b[0m \u001b[0mgateway_client\u001b[0m\u001b[0;34m)\u001b[0m\u001b[0;34m\u001b[0m\u001b[0;34m\u001b[0m\u001b[0m\n\u001b[1;32m    325\u001b[0m             \u001b[0;32mif\u001b[0m \u001b[0manswer\u001b[0m\u001b[0;34m[\u001b[0m\u001b[0;36m1\u001b[0m\u001b[0;34m]\u001b[0m \u001b[0;34m==\u001b[0m \u001b[0mREFERENCE_TYPE\u001b[0m\u001b[0;34m:\u001b[0m\u001b[0;34m\u001b[0m\u001b[0;34m\u001b[0m\u001b[0m\n\u001b[0;32m--> 326\u001b[0;31m                 raise Py4JJavaError(\n\u001b[0m\u001b[1;32m    327\u001b[0m                     \u001b[0;34m\"An error occurred while calling {0}{1}{2}.\\n\"\u001b[0m\u001b[0;34m.\u001b[0m\u001b[0;34m\u001b[0m\u001b[0;34m\u001b[0m\u001b[0m\n\u001b[1;32m    328\u001b[0m                     format(target_id, \".\", name), value)\n",
            "\u001b[0;31mPy4JJavaError\u001b[0m: An error occurred while calling o88.count.\n: org.apache.spark.SparkException: Job aborted due to stage failure: Task 1 in stage 5.0 failed 1 times, most recent failure: Lost task 1.0 in stage 5.0 (TID 6) (0afa7699fd1f executor driver): org.apache.spark.SparkUpgradeException: [INCONSISTENT_BEHAVIOR_CROSS_VERSION.PARSE_DATETIME_BY_NEW_PARSER] You may get a different result due to the upgrading to Spark >= 3.0:\nFail to parse '2019-05-20 12:37:02\"' in the new parser. You can set \"spark.sql.legacy.timeParserPolicy\" to \"LEGACY\" to restore the behavior before Spark 3.0, or set to \"CORRECTED\" and treat it as an invalid datetime string.\n\tat org.apache.spark.sql.errors.QueryExecutionErrors$.failToParseDateTimeInNewParserError(QueryExecutionErrors.scala:1368)\n\tat org.apache.spark.sql.catalyst.util.DateTimeFormatterHelper$$anonfun$checkParsedDiff$1.applyOrElse(DateTimeFormatterHelper.scala:149)\n\tat org.apache.spark.sql.catalyst.util.DateTimeFormatterHelper$$anonfun$checkParsedDiff$1.applyOrElse(DateTimeFormatterHelper.scala:142)\n\tat scala.runtime.AbstractPartialFunction.apply(AbstractPartialFunction.scala:38)\n\tat org.apache.spark.sql.catalyst.util.Iso8601TimestampFormatter.parse(TimestampFormatter.scala:176)\n\tat org.apache.spark.sql.catalyst.expressions.GeneratedClass$GeneratedIteratorForCodegenStage1.hashAgg_doAggregateWithoutKey_0$(Unknown Source)\n\tat org.apache.spark.sql.catalyst.expressions.GeneratedClass$GeneratedIteratorForCodegenStage1.processNext(Unknown Source)\n\tat org.apache.spark.sql.execution.BufferedRowIterator.hasNext(BufferedRowIterator.java:43)\n\tat org.apache.spark.sql.execution.WholeStageCodegenExec$$anon$1.hasNext(WholeStageCodegenExec.scala:760)\n\tat scala.collection.Iterator$$anon$10.hasNext(Iterator.scala:460)\n\tat org.apache.spark.shuffle.sort.BypassMergeSortShuffleWriter.write(BypassMergeSortShuffleWriter.java:140)\n\tat org.apache.spark.shuffle.ShuffleWriteProcessor.write(ShuffleWriteProcessor.scala:59)\n\tat org.apache.spark.scheduler.ShuffleMapTask.runTask(ShuffleMapTask.scala:101)\n\tat org.apache.spark.scheduler.ShuffleMapTask.runTask(ShuffleMapTask.scala:53)\n\tat org.apache.spark.TaskContext.runTaskWithListeners(TaskContext.scala:161)\n\tat org.apache.spark.scheduler.Task.run(Task.scala:139)\n\tat org.apache.spark.executor.Executor$TaskRunner.$anonfun$run$3(Executor.scala:554)\n\tat org.apache.spark.util.Utils$.tryWithSafeFinally(Utils.scala:1529)\n\tat org.apache.spark.executor.Executor$TaskRunner.run(Executor.scala:557)\n\tat java.base/java.util.concurrent.ThreadPoolExecutor.runWorker(ThreadPoolExecutor.java:1128)\n\tat java.base/java.util.concurrent.ThreadPoolExecutor$Worker.run(ThreadPoolExecutor.java:628)\n\tat java.base/java.lang.Thread.run(Thread.java:829)\nCaused by: java.time.format.DateTimeParseException: Text '2019-05-20 12:37:02\"' could not be parsed, unparsed text found at index 10\n\tat java.base/java.time.format.DateTimeFormatter.parseResolved0(DateTimeFormatter.java:2049)\n\tat java.base/java.time.format.DateTimeFormatter.parse(DateTimeFormatter.java:1874)\n\tat org.apache.spark.sql.catalyst.util.Iso8601TimestampFormatter.parse(TimestampFormatter.scala:168)\n\t... 17 more\n\nDriver stacktrace:\n\tat org.apache.spark.scheduler.DAGScheduler.failJobAndIndependentStages(DAGScheduler.scala:2785)\n\tat org.apache.spark.scheduler.DAGScheduler.$anonfun$abortStage$2(DAGScheduler.scala:2721)\n\tat org.apache.spark.scheduler.DAGScheduler.$anonfun$abortStage$2$adapted(DAGScheduler.scala:2720)\n\tat scala.collection.mutable.ResizableArray.foreach(ResizableArray.scala:62)\n\tat scala.collection.mutable.ResizableArray.foreach$(ResizableArray.scala:55)\n\tat scala.collection.mutable.ArrayBuffer.foreach(ArrayBuffer.scala:49)\n\tat org.apache.spark.scheduler.DAGScheduler.abortStage(DAGScheduler.scala:2720)\n\tat org.apache.spark.scheduler.DAGScheduler.$anonfun$handleTaskSetFailed$1(DAGScheduler.scala:1206)\n\tat org.apache.spark.scheduler.DAGScheduler.$anonfun$handleTaskSetFailed$1$adapted(DAGScheduler.scala:1206)\n\tat scala.Option.foreach(Option.scala:407)\n\tat org.apache.spark.scheduler.DAGScheduler.handleTaskSetFailed(DAGScheduler.scala:1206)\n\tat org.apache.spark.scheduler.DAGSchedulerEventProcessLoop.doOnReceive(DAGScheduler.scala:2984)\n\tat org.apache.spark.scheduler.DAGSchedulerEventProcessLoop.onReceive(DAGScheduler.scala:2923)\n\tat org.apache.spark.scheduler.DAGSchedulerEventProcessLoop.onReceive(DAGScheduler.scala:2912)\n\tat org.apache.spark.util.EventLoop$$anon$1.run(EventLoop.scala:49)\nCaused by: org.apache.spark.SparkUpgradeException: [INCONSISTENT_BEHAVIOR_CROSS_VERSION.PARSE_DATETIME_BY_NEW_PARSER] You may get a different result due to the upgrading to Spark >= 3.0:\nFail to parse '2019-05-20 12:37:02\"' in the new parser. You can set \"spark.sql.legacy.timeParserPolicy\" to \"LEGACY\" to restore the behavior before Spark 3.0, or set to \"CORRECTED\" and treat it as an invalid datetime string.\n\tat org.apache.spark.sql.errors.QueryExecutionErrors$.failToParseDateTimeInNewParserError(QueryExecutionErrors.scala:1368)\n\tat org.apache.spark.sql.catalyst.util.DateTimeFormatterHelper$$anonfun$checkParsedDiff$1.applyOrElse(DateTimeFormatterHelper.scala:149)\n\tat org.apache.spark.sql.catalyst.util.DateTimeFormatterHelper$$anonfun$checkParsedDiff$1.applyOrElse(DateTimeFormatterHelper.scala:142)\n\tat scala.runtime.AbstractPartialFunction.apply(AbstractPartialFunction.scala:38)\n\tat org.apache.spark.sql.catalyst.util.Iso8601TimestampFormatter.parse(TimestampFormatter.scala:176)\n\tat org.apache.spark.sql.catalyst.expressions.GeneratedClass$GeneratedIteratorForCodegenStage1.hashAgg_doAggregateWithoutKey_0$(Unknown Source)\n\tat org.apache.spark.sql.catalyst.expressions.GeneratedClass$GeneratedIteratorForCodegenStage1.processNext(Unknown Source)\n\tat org.apache.spark.sql.execution.BufferedRowIterator.hasNext(BufferedRowIterator.java:43)\n\tat org.apache.spark.sql.execution.WholeStageCodegenExec$$anon$1.hasNext(WholeStageCodegenExec.scala:760)\n\tat scala.collection.Iterator$$anon$10.hasNext(Iterator.scala:460)\n\tat org.apache.spark.shuffle.sort.BypassMergeSortShuffleWriter.write(BypassMergeSortShuffleWriter.java:140)\n\tat org.apache.spark.shuffle.ShuffleWriteProcessor.write(ShuffleWriteProcessor.scala:59)\n\tat org.apache.spark.scheduler.ShuffleMapTask.runTask(ShuffleMapTask.scala:101)\n\tat org.apache.spark.scheduler.ShuffleMapTask.runTask(ShuffleMapTask.scala:53)\n\tat org.apache.spark.TaskContext.runTaskWithListeners(TaskContext.scala:161)\n\tat org.apache.spark.scheduler.Task.run(Task.scala:139)\n\tat org.apache.spark.executor.Executor$TaskRunner.$anonfun$run$3(Executor.scala:554)\n\tat org.apache.spark.util.Utils$.tryWithSafeFinally(Utils.scala:1529)\n\tat org.apache.spark.executor.Executor$TaskRunner.run(Executor.scala:557)\n\tat java.base/java.util.concurrent.ThreadPoolExecutor.runWorker(ThreadPoolExecutor.java:1128)\n\tat java.base/java.util.concurrent.ThreadPoolExecutor$Worker.run(ThreadPoolExecutor.java:628)\n\tat java.base/java.lang.Thread.run(Thread.java:829)\nCaused by: java.time.format.DateTimeParseException: Text '2019-05-20 12:37:02\"' could not be parsed, unparsed text found at index 10\n\tat java.base/java.time.format.DateTimeFormatter.parseResolved0(DateTimeFormatter.java:2049)\n\tat java.base/java.time.format.DateTimeFormatter.parse(DateTimeFormatter.java:1874)\n\tat org.apache.spark.sql.catalyst.util.Iso8601TimestampFormatter.parse(TimestampFormatter.scala:168)\n\t... 17 more\n"
          ]
        }
      ]
    },
    {
      "cell_type": "code",
      "source": [
        "tweets_spark_df.select('date').distinct().count()"
      ],
      "metadata": {
        "colab": {
          "base_uri": "https://localhost:8080/"
        },
        "id": "9uVe9Ei8Lm1X",
        "outputId": "38b82a19-126f-4a15-d6ae-6c903ef14227"
      },
      "execution_count": null,
      "outputs": [
        {
          "output_type": "execute_result",
          "data": {
            "text/plain": [
              "222"
            ]
          },
          "metadata": {},
          "execution_count": 129
        }
      ]
    },
    {
      "cell_type": "code",
      "source": [
        "selected_tweets_spark_df = tweets_spark_df.select('date', 'clean_text')\n",
        "# selected_tweets_spark_df.show()"
      ],
      "metadata": {
        "id": "WXl1blTXZ3sI"
      },
      "execution_count": null,
      "outputs": []
    },
    {
      "cell_type": "code",
      "source": [
        "# selected_tweets_spark_df.agg({'date': 'min'}).show()\n",
        "# selected_tweets_spark_df.agg({'date': 'max'}).show()"
      ],
      "metadata": {
        "colab": {
          "base_uri": "https://localhost:8080/",
          "height": 614
        },
        "id": "NFdHkVZwG0Ld",
        "outputId": "c317bfe2-fb38-421b-ae1a-95c4c86ee000"
      },
      "execution_count": null,
      "outputs": [
        {
          "output_type": "stream",
          "name": "stdout",
          "text": [
            "+----------+\n",
            "| min(date)|\n",
            "+----------+\n",
            "|2021-07-30|\n",
            "+----------+\n",
            "\n"
          ]
        },
        {
          "output_type": "stream",
          "name": "stderr",
          "text": [
            "ERROR:root:KeyboardInterrupt while sending command.\n",
            "Traceback (most recent call last):\n",
            "  File \"/usr/local/lib/python3.10/dist-packages/py4j/java_gateway.py\", line 1038, in send_command\n",
            "    response = connection.send_command(command)\n",
            "  File \"/usr/local/lib/python3.10/dist-packages/py4j/clientserver.py\", line 511, in send_command\n",
            "    answer = smart_decode(self.stream.readline()[:-1])\n",
            "  File \"/usr/lib/python3.10/socket.py\", line 705, in readinto\n",
            "    return self._sock.recv_into(b)\n",
            "KeyboardInterrupt\n"
          ]
        },
        {
          "output_type": "error",
          "ename": "KeyboardInterrupt",
          "evalue": "ignored",
          "traceback": [
            "\u001b[0;31m---------------------------------------------------------------------------\u001b[0m",
            "\u001b[0;31mKeyboardInterrupt\u001b[0m                         Traceback (most recent call last)",
            "\u001b[0;32m<ipython-input-113-96f9b57bc9a2>\u001b[0m in \u001b[0;36m<cell line: 2>\u001b[0;34m()\u001b[0m\n\u001b[1;32m      1\u001b[0m \u001b[0mselected_tweets_spark_df\u001b[0m\u001b[0;34m.\u001b[0m\u001b[0magg\u001b[0m\u001b[0;34m(\u001b[0m\u001b[0;34m{\u001b[0m\u001b[0;34m'date'\u001b[0m\u001b[0;34m:\u001b[0m \u001b[0;34m'min'\u001b[0m\u001b[0;34m}\u001b[0m\u001b[0;34m)\u001b[0m\u001b[0;34m.\u001b[0m\u001b[0mshow\u001b[0m\u001b[0;34m(\u001b[0m\u001b[0;34m)\u001b[0m\u001b[0;34m\u001b[0m\u001b[0;34m\u001b[0m\u001b[0m\n\u001b[0;32m----> 2\u001b[0;31m \u001b[0mselected_tweets_spark_df\u001b[0m\u001b[0;34m.\u001b[0m\u001b[0magg\u001b[0m\u001b[0;34m(\u001b[0m\u001b[0;34m{\u001b[0m\u001b[0;34m'date'\u001b[0m\u001b[0;34m:\u001b[0m \u001b[0;34m'max'\u001b[0m\u001b[0;34m}\u001b[0m\u001b[0;34m)\u001b[0m\u001b[0;34m.\u001b[0m\u001b[0mshow\u001b[0m\u001b[0;34m(\u001b[0m\u001b[0;34m)\u001b[0m\u001b[0;34m\u001b[0m\u001b[0;34m\u001b[0m\u001b[0m\n\u001b[0m",
            "\u001b[0;32m/usr/local/lib/python3.10/dist-packages/pyspark/sql/dataframe.py\u001b[0m in \u001b[0;36mshow\u001b[0;34m(self, n, truncate, vertical)\u001b[0m\n\u001b[1;32m    897\u001b[0m \u001b[0;34m\u001b[0m\u001b[0m\n\u001b[1;32m    898\u001b[0m         \u001b[0;32mif\u001b[0m \u001b[0misinstance\u001b[0m\u001b[0;34m(\u001b[0m\u001b[0mtruncate\u001b[0m\u001b[0;34m,\u001b[0m \u001b[0mbool\u001b[0m\u001b[0;34m)\u001b[0m \u001b[0;32mand\u001b[0m \u001b[0mtruncate\u001b[0m\u001b[0;34m:\u001b[0m\u001b[0;34m\u001b[0m\u001b[0;34m\u001b[0m\u001b[0m\n\u001b[0;32m--> 899\u001b[0;31m             \u001b[0mprint\u001b[0m\u001b[0;34m(\u001b[0m\u001b[0mself\u001b[0m\u001b[0;34m.\u001b[0m\u001b[0m_jdf\u001b[0m\u001b[0;34m.\u001b[0m\u001b[0mshowString\u001b[0m\u001b[0;34m(\u001b[0m\u001b[0mn\u001b[0m\u001b[0;34m,\u001b[0m \u001b[0;36m20\u001b[0m\u001b[0;34m,\u001b[0m \u001b[0mvertical\u001b[0m\u001b[0;34m)\u001b[0m\u001b[0;34m)\u001b[0m\u001b[0;34m\u001b[0m\u001b[0;34m\u001b[0m\u001b[0m\n\u001b[0m\u001b[1;32m    900\u001b[0m         \u001b[0;32melse\u001b[0m\u001b[0;34m:\u001b[0m\u001b[0;34m\u001b[0m\u001b[0;34m\u001b[0m\u001b[0m\n\u001b[1;32m    901\u001b[0m             \u001b[0;32mtry\u001b[0m\u001b[0;34m:\u001b[0m\u001b[0;34m\u001b[0m\u001b[0;34m\u001b[0m\u001b[0m\n",
            "\u001b[0;32m/usr/local/lib/python3.10/dist-packages/py4j/java_gateway.py\u001b[0m in \u001b[0;36m__call__\u001b[0;34m(self, *args)\u001b[0m\n\u001b[1;32m   1319\u001b[0m             \u001b[0mproto\u001b[0m\u001b[0;34m.\u001b[0m\u001b[0mEND_COMMAND_PART\u001b[0m\u001b[0;34m\u001b[0m\u001b[0;34m\u001b[0m\u001b[0m\n\u001b[1;32m   1320\u001b[0m \u001b[0;34m\u001b[0m\u001b[0m\n\u001b[0;32m-> 1321\u001b[0;31m         \u001b[0manswer\u001b[0m \u001b[0;34m=\u001b[0m \u001b[0mself\u001b[0m\u001b[0;34m.\u001b[0m\u001b[0mgateway_client\u001b[0m\u001b[0;34m.\u001b[0m\u001b[0msend_command\u001b[0m\u001b[0;34m(\u001b[0m\u001b[0mcommand\u001b[0m\u001b[0;34m)\u001b[0m\u001b[0;34m\u001b[0m\u001b[0;34m\u001b[0m\u001b[0m\n\u001b[0m\u001b[1;32m   1322\u001b[0m         return_value = get_return_value(\n\u001b[1;32m   1323\u001b[0m             answer, self.gateway_client, self.target_id, self.name)\n",
            "\u001b[0;32m/usr/local/lib/python3.10/dist-packages/py4j/java_gateway.py\u001b[0m in \u001b[0;36msend_command\u001b[0;34m(self, command, retry, binary)\u001b[0m\n\u001b[1;32m   1036\u001b[0m         \u001b[0mconnection\u001b[0m \u001b[0;34m=\u001b[0m \u001b[0mself\u001b[0m\u001b[0;34m.\u001b[0m\u001b[0m_get_connection\u001b[0m\u001b[0;34m(\u001b[0m\u001b[0;34m)\u001b[0m\u001b[0;34m\u001b[0m\u001b[0;34m\u001b[0m\u001b[0m\n\u001b[1;32m   1037\u001b[0m         \u001b[0;32mtry\u001b[0m\u001b[0;34m:\u001b[0m\u001b[0;34m\u001b[0m\u001b[0;34m\u001b[0m\u001b[0m\n\u001b[0;32m-> 1038\u001b[0;31m             \u001b[0mresponse\u001b[0m \u001b[0;34m=\u001b[0m \u001b[0mconnection\u001b[0m\u001b[0;34m.\u001b[0m\u001b[0msend_command\u001b[0m\u001b[0;34m(\u001b[0m\u001b[0mcommand\u001b[0m\u001b[0;34m)\u001b[0m\u001b[0;34m\u001b[0m\u001b[0;34m\u001b[0m\u001b[0m\n\u001b[0m\u001b[1;32m   1039\u001b[0m             \u001b[0;32mif\u001b[0m \u001b[0mbinary\u001b[0m\u001b[0;34m:\u001b[0m\u001b[0;34m\u001b[0m\u001b[0;34m\u001b[0m\u001b[0m\n\u001b[1;32m   1040\u001b[0m                 \u001b[0;32mreturn\u001b[0m \u001b[0mresponse\u001b[0m\u001b[0;34m,\u001b[0m \u001b[0mself\u001b[0m\u001b[0;34m.\u001b[0m\u001b[0m_create_connection_guard\u001b[0m\u001b[0;34m(\u001b[0m\u001b[0mconnection\u001b[0m\u001b[0;34m)\u001b[0m\u001b[0;34m\u001b[0m\u001b[0;34m\u001b[0m\u001b[0m\n",
            "\u001b[0;32m/usr/local/lib/python3.10/dist-packages/py4j/clientserver.py\u001b[0m in \u001b[0;36msend_command\u001b[0;34m(self, command)\u001b[0m\n\u001b[1;32m    509\u001b[0m         \u001b[0;32mtry\u001b[0m\u001b[0;34m:\u001b[0m\u001b[0;34m\u001b[0m\u001b[0;34m\u001b[0m\u001b[0m\n\u001b[1;32m    510\u001b[0m             \u001b[0;32mwhile\u001b[0m \u001b[0;32mTrue\u001b[0m\u001b[0;34m:\u001b[0m\u001b[0;34m\u001b[0m\u001b[0;34m\u001b[0m\u001b[0m\n\u001b[0;32m--> 511\u001b[0;31m                 \u001b[0manswer\u001b[0m \u001b[0;34m=\u001b[0m \u001b[0msmart_decode\u001b[0m\u001b[0;34m(\u001b[0m\u001b[0mself\u001b[0m\u001b[0;34m.\u001b[0m\u001b[0mstream\u001b[0m\u001b[0;34m.\u001b[0m\u001b[0mreadline\u001b[0m\u001b[0;34m(\u001b[0m\u001b[0;34m)\u001b[0m\u001b[0;34m[\u001b[0m\u001b[0;34m:\u001b[0m\u001b[0;34m-\u001b[0m\u001b[0;36m1\u001b[0m\u001b[0;34m]\u001b[0m\u001b[0;34m)\u001b[0m\u001b[0;34m\u001b[0m\u001b[0;34m\u001b[0m\u001b[0m\n\u001b[0m\u001b[1;32m    512\u001b[0m                 \u001b[0mlogger\u001b[0m\u001b[0;34m.\u001b[0m\u001b[0mdebug\u001b[0m\u001b[0;34m(\u001b[0m\u001b[0;34m\"Answer received: {0}\"\u001b[0m\u001b[0;34m.\u001b[0m\u001b[0mformat\u001b[0m\u001b[0;34m(\u001b[0m\u001b[0manswer\u001b[0m\u001b[0;34m)\u001b[0m\u001b[0;34m)\u001b[0m\u001b[0;34m\u001b[0m\u001b[0;34m\u001b[0m\u001b[0m\n\u001b[1;32m    513\u001b[0m                 \u001b[0;31m# Happens when a the other end is dead. There might be an empty\u001b[0m\u001b[0;34m\u001b[0m\u001b[0;34m\u001b[0m\u001b[0m\n",
            "\u001b[0;32m/usr/lib/python3.10/socket.py\u001b[0m in \u001b[0;36mreadinto\u001b[0;34m(self, b)\u001b[0m\n\u001b[1;32m    703\u001b[0m         \u001b[0;32mwhile\u001b[0m \u001b[0;32mTrue\u001b[0m\u001b[0;34m:\u001b[0m\u001b[0;34m\u001b[0m\u001b[0;34m\u001b[0m\u001b[0m\n\u001b[1;32m    704\u001b[0m             \u001b[0;32mtry\u001b[0m\u001b[0;34m:\u001b[0m\u001b[0;34m\u001b[0m\u001b[0;34m\u001b[0m\u001b[0m\n\u001b[0;32m--> 705\u001b[0;31m                 \u001b[0;32mreturn\u001b[0m \u001b[0mself\u001b[0m\u001b[0;34m.\u001b[0m\u001b[0m_sock\u001b[0m\u001b[0;34m.\u001b[0m\u001b[0mrecv_into\u001b[0m\u001b[0;34m(\u001b[0m\u001b[0mb\u001b[0m\u001b[0;34m)\u001b[0m\u001b[0;34m\u001b[0m\u001b[0;34m\u001b[0m\u001b[0m\n\u001b[0m\u001b[1;32m    706\u001b[0m             \u001b[0;32mexcept\u001b[0m \u001b[0mtimeout\u001b[0m\u001b[0;34m:\u001b[0m\u001b[0;34m\u001b[0m\u001b[0;34m\u001b[0m\u001b[0m\n\u001b[1;32m    707\u001b[0m                 \u001b[0mself\u001b[0m\u001b[0;34m.\u001b[0m\u001b[0m_timeout_occurred\u001b[0m \u001b[0;34m=\u001b[0m \u001b[0;32mTrue\u001b[0m\u001b[0;34m\u001b[0m\u001b[0;34m\u001b[0m\u001b[0m\n",
            "\u001b[0;31mKeyboardInterrupt\u001b[0m: "
          ]
        }
      ]
    },
    {
      "cell_type": "code",
      "source": [
        "!pip install transformers"
      ],
      "metadata": {
        "colab": {
          "base_uri": "https://localhost:8080/"
        },
        "id": "v8mIjQsZaxX-",
        "outputId": "d332d9da-6296-45c4-fe52-2e768b9ec5f4"
      },
      "execution_count": null,
      "outputs": [
        {
          "output_type": "stream",
          "name": "stdout",
          "text": [
            "Looking in indexes: https://pypi.org/simple, https://us-python.pkg.dev/colab-wheels/public/simple/\n",
            "Collecting transformers\n",
            "  Downloading transformers-4.28.1-py3-none-any.whl (7.0 MB)\n",
            "\u001b[2K     \u001b[90m━━━━━━━━━━━━━━━━━━━━━━━━━━━━━━━━━━━━━━━━\u001b[0m \u001b[32m7.0/7.0 MB\u001b[0m \u001b[31m35.1 MB/s\u001b[0m eta \u001b[36m0:00:00\u001b[0m\n",
            "\u001b[?25hRequirement already satisfied: tqdm>=4.27 in /usr/local/lib/python3.10/dist-packages (from transformers) (4.65.0)\n",
            "Requirement already satisfied: filelock in /usr/local/lib/python3.10/dist-packages (from transformers) (3.12.0)\n",
            "Collecting huggingface-hub<1.0,>=0.11.0\n",
            "  Downloading huggingface_hub-0.14.1-py3-none-any.whl (224 kB)\n",
            "\u001b[2K     \u001b[90m━━━━━━━━━━━━━━━━━━━━━━━━━━━━━━━━━━━━━━\u001b[0m \u001b[32m224.5/224.5 kB\u001b[0m \u001b[31m20.1 MB/s\u001b[0m eta \u001b[36m0:00:00\u001b[0m\n",
            "\u001b[?25hRequirement already satisfied: requests in /usr/local/lib/python3.10/dist-packages (from transformers) (2.27.1)\n",
            "Requirement already satisfied: packaging>=20.0 in /usr/local/lib/python3.10/dist-packages (from transformers) (23.1)\n",
            "Requirement already satisfied: numpy>=1.17 in /usr/local/lib/python3.10/dist-packages (from transformers) (1.22.4)\n",
            "Requirement already satisfied: regex!=2019.12.17 in /usr/local/lib/python3.10/dist-packages (from transformers) (2022.10.31)\n",
            "Collecting tokenizers!=0.11.3,<0.14,>=0.11.1\n",
            "  Downloading tokenizers-0.13.3-cp310-cp310-manylinux_2_17_x86_64.manylinux2014_x86_64.whl (7.8 MB)\n",
            "\u001b[2K     \u001b[90m━━━━━━━━━━━━━━━━━━━━━━━━━━━━━━━━━━━━━━━━\u001b[0m \u001b[32m7.8/7.8 MB\u001b[0m \u001b[31m49.4 MB/s\u001b[0m eta \u001b[36m0:00:00\u001b[0m\n",
            "\u001b[?25hRequirement already satisfied: pyyaml>=5.1 in /usr/local/lib/python3.10/dist-packages (from transformers) (6.0)\n",
            "Requirement already satisfied: typing-extensions>=3.7.4.3 in /usr/local/lib/python3.10/dist-packages (from huggingface-hub<1.0,>=0.11.0->transformers) (4.5.0)\n",
            "Requirement already satisfied: fsspec in /usr/local/lib/python3.10/dist-packages (from huggingface-hub<1.0,>=0.11.0->transformers) (2023.4.0)\n",
            "Requirement already satisfied: charset-normalizer~=2.0.0 in /usr/local/lib/python3.10/dist-packages (from requests->transformers) (2.0.12)\n",
            "Requirement already satisfied: idna<4,>=2.5 in /usr/local/lib/python3.10/dist-packages (from requests->transformers) (3.4)\n",
            "Requirement already satisfied: urllib3<1.27,>=1.21.1 in /usr/local/lib/python3.10/dist-packages (from requests->transformers) (1.26.15)\n",
            "Requirement already satisfied: certifi>=2017.4.17 in /usr/local/lib/python3.10/dist-packages (from requests->transformers) (2022.12.7)\n",
            "Installing collected packages: tokenizers, huggingface-hub, transformers\n",
            "Successfully installed huggingface-hub-0.14.1 tokenizers-0.13.3 transformers-4.28.1\n"
          ]
        }
      ]
    },
    {
      "cell_type": "code",
      "source": [
        "from transformers import pipeline\n",
        "\n",
        "# Load the BERT sentiment analysis pipeline\n",
        "sentiment_classifier = pipeline(\"sentiment-analysis\", model=\"cardiffnlp/twitter-roberta-base-sentiment\")\n",
        "\n",
        "def extract_sentiment(text):\n",
        "    return sentiment_classifier(text, truncation=True, padding=True)[0]['score']\n",
        "\n",
        "extract_sentiment_udf = udf(lambda x:extract_sentiment(x),StringType())\n",
        "\n",
        "es_tweets_spark_df = tweets_spark_df.withColumn(\"sentiment_score\", extract_sentiment_udf(selected_tweets_spark_df.clean_text))\n",
        "\n",
        "# Perform sentiment analysis on each row of text in the 'cleantext' column\n",
        "# sentiment_predictions = sentiment_classifier(tweets_spark_df['clean_text'], truncation=True, padding=True)\n"
      ],
      "metadata": {
        "colab": {
          "base_uri": "https://localhost:8080/",
          "height": 177,
          "referenced_widgets": [
            "edd0dca0686f4cc99ced3e7280539eff",
            "6bb0d9efbc7743489332d741b121daff",
            "af6fd37c086f46359d6b1411f938f390",
            "ade46b1814404de4a207de2eb30a2ca8",
            "a0ce50b38bd74d27aa46c1b95829ec44",
            "48c598b19bca4346807dbe429baee550",
            "55e16e71c9ef460da06d8f1abe3e9ee7",
            "5bf092233da841279900633fc60bb008",
            "16a0cbe9243a42e8a03837163222af20",
            "86a85dedb41b406cbd9ad701070d9e10",
            "2899b6b1d89b407fa022086e0d3e8bf2",
            "4258724e32084a5da492a17f6c1baa9b",
            "98494ec8492243ce93b1a745d4541b91",
            "85f41eb335674fc6ab28ea6daae0305e",
            "4c95421878154fb4b670f3902593e9c2",
            "3a51121d950a49ed8a514ef0387e9a81",
            "305b139eb7524286962e1ec3639a955b",
            "788aa3a005604ad9a3129446197d57f6",
            "72f5118c2e044bc3be014bb896d84880",
            "025d7c1dbd8b442789c00671d99b6807",
            "12d5752896694c538c62bb973491b358",
            "553eea952f014008a099562c6387bc9a",
            "3d9b5a93ae0a43a58fe12e787ee9802c",
            "4c9d73759dea4a60841afc1e28d13258",
            "d48b40032df44f4b9b779d813b9a971f",
            "7b2c789e2f8144ca913ae7166036ae8f",
            "aa600bdbf1a144b0a93499bd141782b9",
            "4ceded0763c749098d1a3a9f5715c52a",
            "631210b8bdb24e14bd85a626998ea797",
            "01c1d88787854272818e8a4ec678c18f",
            "3837966684364e1fa62bb9a3a126c699",
            "3b44ada8cac147efac3c762accf13e88",
            "8770eb7a19c54196af4fc2322d0ad3c3",
            "451146940f4541bba14d1e11964b6072",
            "c6523e1588f441a48cabde34e1f2ea1f",
            "efe4cb52d03d4dcf8937e15c0f10babc",
            "122b3207234d4990b5b2cfd666633e34",
            "f403265f9a0345f6b2ec566a6ed54461",
            "8f8ad85e4dae4c4782cc8a4f8e87f8e1",
            "0686ec0351e54f87ab0938e48c300e5e",
            "faf580fde0ae49409d799cd245698847",
            "f88de0c2897048818a7e4e98515cd2bf",
            "948051f0889140ab957661e201ec4043",
            "9c469195cb5645e480acdc565488fc4b",
            "ac4a573382f643fab403fd962d0e3bf8",
            "827457c6120b40f6880b745130a3b0e3",
            "6496c2ed49d64c369fa23c354e1769ae",
            "b8bc5eb66fad44618d2026d4216f1b22",
            "900af8bdb5b84829bae63a80022b0bac",
            "ff81fbd861da4a7e9953fb5e4f4cfa00",
            "e10a0494e3d345d88cc623ae2807d27a",
            "1e0b089490e7456ebbebaa87226ab38b",
            "ea68e9bc7a2241ee9225bbd74798b469",
            "26bed1744c1a4d98b48aa3a746e1df50",
            "b3e4a243d9c84e2db5c112abbc5c731c"
          ]
        },
        "id": "2O-qwCATaPSD",
        "outputId": "fb8a0854-b169-4454-fbf1-27cfeb15010c"
      },
      "execution_count": null,
      "outputs": [
        {
          "output_type": "display_data",
          "data": {
            "text/plain": [
              "Downloading (…)lve/main/config.json:   0%|          | 0.00/747 [00:00<?, ?B/s]"
            ],
            "application/vnd.jupyter.widget-view+json": {
              "version_major": 2,
              "version_minor": 0,
              "model_id": "edd0dca0686f4cc99ced3e7280539eff"
            }
          },
          "metadata": {}
        },
        {
          "output_type": "display_data",
          "data": {
            "text/plain": [
              "Downloading pytorch_model.bin:   0%|          | 0.00/499M [00:00<?, ?B/s]"
            ],
            "application/vnd.jupyter.widget-view+json": {
              "version_major": 2,
              "version_minor": 0,
              "model_id": "4258724e32084a5da492a17f6c1baa9b"
            }
          },
          "metadata": {}
        },
        {
          "output_type": "display_data",
          "data": {
            "text/plain": [
              "Downloading (…)olve/main/vocab.json:   0%|          | 0.00/899k [00:00<?, ?B/s]"
            ],
            "application/vnd.jupyter.widget-view+json": {
              "version_major": 2,
              "version_minor": 0,
              "model_id": "3d9b5a93ae0a43a58fe12e787ee9802c"
            }
          },
          "metadata": {}
        },
        {
          "output_type": "display_data",
          "data": {
            "text/plain": [
              "Downloading (…)olve/main/merges.txt:   0%|          | 0.00/456k [00:00<?, ?B/s]"
            ],
            "application/vnd.jupyter.widget-view+json": {
              "version_major": 2,
              "version_minor": 0,
              "model_id": "451146940f4541bba14d1e11964b6072"
            }
          },
          "metadata": {}
        },
        {
          "output_type": "display_data",
          "data": {
            "text/plain": [
              "Downloading (…)cial_tokens_map.json:   0%|          | 0.00/150 [00:00<?, ?B/s]"
            ],
            "application/vnd.jupyter.widget-view+json": {
              "version_major": 2,
              "version_minor": 0,
              "model_id": "ac4a573382f643fab403fd962d0e3bf8"
            }
          },
          "metadata": {}
        }
      ]
    },
    {
      "cell_type": "code",
      "source": [
        "es_tweets_spark_df = es_tweets_spark_df.withColumn(\"sentiment_score\", col('sentiment_score').cast('double'))\n",
        "es_tweets_spark_df = es_tweets_spark_df.groupBy(\"date\").mean(\"sentiment_score\")"
      ],
      "metadata": {
        "id": "AjBh3v0Ke37i"
      },
      "execution_count": null,
      "outputs": []
    },
    {
      "cell_type": "code",
      "source": [
        "es_tweets_df = es_tweets_spark_df.toPandas()"
      ],
      "metadata": {
        "colab": {
          "base_uri": "https://localhost:8080/",
          "height": 487
        },
        "id": "MkMBmTxnmVEs",
        "outputId": "dced3dd2-65fc-49cb-963f-bc2f540e7b66"
      },
      "execution_count": null,
      "outputs": [
        {
          "output_type": "stream",
          "name": "stderr",
          "text": [
            "ERROR:root:KeyboardInterrupt while sending command.\n",
            "Traceback (most recent call last):\n",
            "  File \"/usr/local/lib/python3.10/dist-packages/py4j/java_gateway.py\", line 1038, in send_command\n",
            "    response = connection.send_command(command)\n",
            "  File \"/usr/local/lib/python3.10/dist-packages/py4j/clientserver.py\", line 511, in send_command\n",
            "    answer = smart_decode(self.stream.readline()[:-1])\n",
            "  File \"/usr/lib/python3.10/socket.py\", line 705, in readinto\n",
            "    return self._sock.recv_into(b)\n",
            "KeyboardInterrupt\n"
          ]
        },
        {
          "output_type": "error",
          "ename": "KeyboardInterrupt",
          "evalue": "ignored",
          "traceback": [
            "\u001b[0;31m---------------------------------------------------------------------------\u001b[0m",
            "\u001b[0;31mKeyboardInterrupt\u001b[0m                         Traceback (most recent call last)",
            "\u001b[0;32m<ipython-input-11-5f035278676f>\u001b[0m in \u001b[0;36m<cell line: 1>\u001b[0;34m()\u001b[0m\n\u001b[0;32m----> 1\u001b[0;31m \u001b[0mes_tweets_df\u001b[0m \u001b[0;34m=\u001b[0m \u001b[0mes_tweets_spark_df\u001b[0m\u001b[0;34m.\u001b[0m\u001b[0mtoPandas\u001b[0m\u001b[0;34m(\u001b[0m\u001b[0;34m)\u001b[0m\u001b[0;34m\u001b[0m\u001b[0;34m\u001b[0m\u001b[0m\n\u001b[0m",
            "\u001b[0;32m/usr/local/lib/python3.10/dist-packages/pyspark/sql/pandas/conversion.py\u001b[0m in \u001b[0;36mtoPandas\u001b[0;34m(self)\u001b[0m\n\u001b[1;32m    206\u001b[0m \u001b[0;34m\u001b[0m\u001b[0m\n\u001b[1;32m    207\u001b[0m         \u001b[0;31m# Below is toPandas without Arrow optimization.\u001b[0m\u001b[0;34m\u001b[0m\u001b[0;34m\u001b[0m\u001b[0m\n\u001b[0;32m--> 208\u001b[0;31m         \u001b[0mpdf\u001b[0m \u001b[0;34m=\u001b[0m \u001b[0mpd\u001b[0m\u001b[0;34m.\u001b[0m\u001b[0mDataFrame\u001b[0m\u001b[0;34m.\u001b[0m\u001b[0mfrom_records\u001b[0m\u001b[0;34m(\u001b[0m\u001b[0mself\u001b[0m\u001b[0;34m.\u001b[0m\u001b[0mcollect\u001b[0m\u001b[0;34m(\u001b[0m\u001b[0;34m)\u001b[0m\u001b[0;34m,\u001b[0m \u001b[0mcolumns\u001b[0m\u001b[0;34m=\u001b[0m\u001b[0mself\u001b[0m\u001b[0;34m.\u001b[0m\u001b[0mcolumns\u001b[0m\u001b[0;34m)\u001b[0m\u001b[0;34m\u001b[0m\u001b[0;34m\u001b[0m\u001b[0m\n\u001b[0m\u001b[1;32m    209\u001b[0m         \u001b[0mcolumn_counter\u001b[0m \u001b[0;34m=\u001b[0m \u001b[0mCounter\u001b[0m\u001b[0;34m(\u001b[0m\u001b[0mself\u001b[0m\u001b[0;34m.\u001b[0m\u001b[0mcolumns\u001b[0m\u001b[0;34m)\u001b[0m\u001b[0;34m\u001b[0m\u001b[0;34m\u001b[0m\u001b[0m\n\u001b[1;32m    210\u001b[0m \u001b[0;34m\u001b[0m\u001b[0m\n",
            "\u001b[0;32m/usr/local/lib/python3.10/dist-packages/pyspark/sql/dataframe.py\u001b[0m in \u001b[0;36mcollect\u001b[0;34m(self)\u001b[0m\n\u001b[1;32m   1214\u001b[0m         \"\"\"\n\u001b[1;32m   1215\u001b[0m         \u001b[0;32mwith\u001b[0m \u001b[0mSCCallSiteSync\u001b[0m\u001b[0;34m(\u001b[0m\u001b[0mself\u001b[0m\u001b[0;34m.\u001b[0m\u001b[0m_sc\u001b[0m\u001b[0;34m)\u001b[0m\u001b[0;34m:\u001b[0m\u001b[0;34m\u001b[0m\u001b[0;34m\u001b[0m\u001b[0m\n\u001b[0;32m-> 1216\u001b[0;31m             \u001b[0msock_info\u001b[0m \u001b[0;34m=\u001b[0m \u001b[0mself\u001b[0m\u001b[0;34m.\u001b[0m\u001b[0m_jdf\u001b[0m\u001b[0;34m.\u001b[0m\u001b[0mcollectToPython\u001b[0m\u001b[0;34m(\u001b[0m\u001b[0;34m)\u001b[0m\u001b[0;34m\u001b[0m\u001b[0;34m\u001b[0m\u001b[0m\n\u001b[0m\u001b[1;32m   1217\u001b[0m         \u001b[0;32mreturn\u001b[0m \u001b[0mlist\u001b[0m\u001b[0;34m(\u001b[0m\u001b[0m_load_from_socket\u001b[0m\u001b[0;34m(\u001b[0m\u001b[0msock_info\u001b[0m\u001b[0;34m,\u001b[0m \u001b[0mBatchedSerializer\u001b[0m\u001b[0;34m(\u001b[0m\u001b[0mCPickleSerializer\u001b[0m\u001b[0;34m(\u001b[0m\u001b[0;34m)\u001b[0m\u001b[0;34m)\u001b[0m\u001b[0;34m)\u001b[0m\u001b[0;34m)\u001b[0m\u001b[0;34m\u001b[0m\u001b[0;34m\u001b[0m\u001b[0m\n\u001b[1;32m   1218\u001b[0m \u001b[0;34m\u001b[0m\u001b[0m\n",
            "\u001b[0;32m/usr/local/lib/python3.10/dist-packages/py4j/java_gateway.py\u001b[0m in \u001b[0;36m__call__\u001b[0;34m(self, *args)\u001b[0m\n\u001b[1;32m   1319\u001b[0m             \u001b[0mproto\u001b[0m\u001b[0;34m.\u001b[0m\u001b[0mEND_COMMAND_PART\u001b[0m\u001b[0;34m\u001b[0m\u001b[0;34m\u001b[0m\u001b[0m\n\u001b[1;32m   1320\u001b[0m \u001b[0;34m\u001b[0m\u001b[0m\n\u001b[0;32m-> 1321\u001b[0;31m         \u001b[0manswer\u001b[0m \u001b[0;34m=\u001b[0m \u001b[0mself\u001b[0m\u001b[0;34m.\u001b[0m\u001b[0mgateway_client\u001b[0m\u001b[0;34m.\u001b[0m\u001b[0msend_command\u001b[0m\u001b[0;34m(\u001b[0m\u001b[0mcommand\u001b[0m\u001b[0;34m)\u001b[0m\u001b[0;34m\u001b[0m\u001b[0;34m\u001b[0m\u001b[0m\n\u001b[0m\u001b[1;32m   1322\u001b[0m         return_value = get_return_value(\n\u001b[1;32m   1323\u001b[0m             answer, self.gateway_client, self.target_id, self.name)\n",
            "\u001b[0;32m/usr/local/lib/python3.10/dist-packages/py4j/java_gateway.py\u001b[0m in \u001b[0;36msend_command\u001b[0;34m(self, command, retry, binary)\u001b[0m\n\u001b[1;32m   1036\u001b[0m         \u001b[0mconnection\u001b[0m \u001b[0;34m=\u001b[0m \u001b[0mself\u001b[0m\u001b[0;34m.\u001b[0m\u001b[0m_get_connection\u001b[0m\u001b[0;34m(\u001b[0m\u001b[0;34m)\u001b[0m\u001b[0;34m\u001b[0m\u001b[0;34m\u001b[0m\u001b[0m\n\u001b[1;32m   1037\u001b[0m         \u001b[0;32mtry\u001b[0m\u001b[0;34m:\u001b[0m\u001b[0;34m\u001b[0m\u001b[0;34m\u001b[0m\u001b[0m\n\u001b[0;32m-> 1038\u001b[0;31m             \u001b[0mresponse\u001b[0m \u001b[0;34m=\u001b[0m \u001b[0mconnection\u001b[0m\u001b[0;34m.\u001b[0m\u001b[0msend_command\u001b[0m\u001b[0;34m(\u001b[0m\u001b[0mcommand\u001b[0m\u001b[0;34m)\u001b[0m\u001b[0;34m\u001b[0m\u001b[0;34m\u001b[0m\u001b[0m\n\u001b[0m\u001b[1;32m   1039\u001b[0m             \u001b[0;32mif\u001b[0m \u001b[0mbinary\u001b[0m\u001b[0;34m:\u001b[0m\u001b[0;34m\u001b[0m\u001b[0;34m\u001b[0m\u001b[0m\n\u001b[1;32m   1040\u001b[0m                 \u001b[0;32mreturn\u001b[0m \u001b[0mresponse\u001b[0m\u001b[0;34m,\u001b[0m \u001b[0mself\u001b[0m\u001b[0;34m.\u001b[0m\u001b[0m_create_connection_guard\u001b[0m\u001b[0;34m(\u001b[0m\u001b[0mconnection\u001b[0m\u001b[0;34m)\u001b[0m\u001b[0;34m\u001b[0m\u001b[0;34m\u001b[0m\u001b[0m\n",
            "\u001b[0;32m/usr/local/lib/python3.10/dist-packages/py4j/clientserver.py\u001b[0m in \u001b[0;36msend_command\u001b[0;34m(self, command)\u001b[0m\n\u001b[1;32m    509\u001b[0m         \u001b[0;32mtry\u001b[0m\u001b[0;34m:\u001b[0m\u001b[0;34m\u001b[0m\u001b[0;34m\u001b[0m\u001b[0m\n\u001b[1;32m    510\u001b[0m             \u001b[0;32mwhile\u001b[0m \u001b[0;32mTrue\u001b[0m\u001b[0;34m:\u001b[0m\u001b[0;34m\u001b[0m\u001b[0;34m\u001b[0m\u001b[0m\n\u001b[0;32m--> 511\u001b[0;31m                 \u001b[0manswer\u001b[0m \u001b[0;34m=\u001b[0m \u001b[0msmart_decode\u001b[0m\u001b[0;34m(\u001b[0m\u001b[0mself\u001b[0m\u001b[0;34m.\u001b[0m\u001b[0mstream\u001b[0m\u001b[0;34m.\u001b[0m\u001b[0mreadline\u001b[0m\u001b[0;34m(\u001b[0m\u001b[0;34m)\u001b[0m\u001b[0;34m[\u001b[0m\u001b[0;34m:\u001b[0m\u001b[0;34m-\u001b[0m\u001b[0;36m1\u001b[0m\u001b[0;34m]\u001b[0m\u001b[0;34m)\u001b[0m\u001b[0;34m\u001b[0m\u001b[0;34m\u001b[0m\u001b[0m\n\u001b[0m\u001b[1;32m    512\u001b[0m                 \u001b[0mlogger\u001b[0m\u001b[0;34m.\u001b[0m\u001b[0mdebug\u001b[0m\u001b[0;34m(\u001b[0m\u001b[0;34m\"Answer received: {0}\"\u001b[0m\u001b[0;34m.\u001b[0m\u001b[0mformat\u001b[0m\u001b[0;34m(\u001b[0m\u001b[0manswer\u001b[0m\u001b[0;34m)\u001b[0m\u001b[0;34m)\u001b[0m\u001b[0;34m\u001b[0m\u001b[0;34m\u001b[0m\u001b[0m\n\u001b[1;32m    513\u001b[0m                 \u001b[0;31m# Happens when a the other end is dead. There might be an empty\u001b[0m\u001b[0;34m\u001b[0m\u001b[0;34m\u001b[0m\u001b[0m\n",
            "\u001b[0;32m/usr/lib/python3.10/socket.py\u001b[0m in \u001b[0;36mreadinto\u001b[0;34m(self, b)\u001b[0m\n\u001b[1;32m    703\u001b[0m         \u001b[0;32mwhile\u001b[0m \u001b[0;32mTrue\u001b[0m\u001b[0;34m:\u001b[0m\u001b[0;34m\u001b[0m\u001b[0;34m\u001b[0m\u001b[0m\n\u001b[1;32m    704\u001b[0m             \u001b[0;32mtry\u001b[0m\u001b[0;34m:\u001b[0m\u001b[0;34m\u001b[0m\u001b[0;34m\u001b[0m\u001b[0m\n\u001b[0;32m--> 705\u001b[0;31m                 \u001b[0;32mreturn\u001b[0m \u001b[0mself\u001b[0m\u001b[0;34m.\u001b[0m\u001b[0m_sock\u001b[0m\u001b[0;34m.\u001b[0m\u001b[0mrecv_into\u001b[0m\u001b[0;34m(\u001b[0m\u001b[0mb\u001b[0m\u001b[0;34m)\u001b[0m\u001b[0;34m\u001b[0m\u001b[0;34m\u001b[0m\u001b[0m\n\u001b[0m\u001b[1;32m    706\u001b[0m             \u001b[0;32mexcept\u001b[0m \u001b[0mtimeout\u001b[0m\u001b[0;34m:\u001b[0m\u001b[0;34m\u001b[0m\u001b[0;34m\u001b[0m\u001b[0m\n\u001b[1;32m    707\u001b[0m                 \u001b[0mself\u001b[0m\u001b[0;34m.\u001b[0m\u001b[0m_timeout_occurred\u001b[0m \u001b[0;34m=\u001b[0m \u001b[0;32mTrue\u001b[0m\u001b[0;34m\u001b[0m\u001b[0;34m\u001b[0m\u001b[0m\n",
            "\u001b[0;31mKeyboardInterrupt\u001b[0m: "
          ]
        }
      ]
    },
    {
      "cell_type": "code",
      "source": [
        "pandas_es_tweet_df = rolling_mean(es_tweets_df, \"avg(sentiment_score)\", 3)\n",
        "pandas_es_tweet_df = rolling_mean(es_tweets_df, \"avg(sentiment_score)\", 7)\n",
        "pandas_es_tweet_df = rolling_mean(es_tweets_df, \"avg(sentiment_score)\", 30)\n",
        "pandas_es_tweet_df = rolling_std(es_tweets_df, \"avg(sentiment_score)\", 3)\n",
        "pandas_es_tweet_df = rolling_std(es_tweets_df, \"avg(sentiment_score)\", 7)\n",
        "pandas_es_tweet_df = rolling_std(es_tweets_df, \"avg(sentiment_score)\", 30)"
      ],
      "metadata": {
        "id": "cDDoLODdyVqu"
      },
      "execution_count": null,
      "outputs": []
    },
    {
      "cell_type": "code",
      "source": [
        "display(pandas_es_tweet_df)"
      ],
      "metadata": {
        "colab": {
          "base_uri": "https://localhost:8080/",
          "height": 676
        },
        "id": "YLO36fBV8tHK",
        "outputId": "a656a768-b4e5-4477-a50d-33ba4105f210"
      },
      "execution_count": null,
      "outputs": [
        {
          "output_type": "display_data",
          "data": {
            "text/plain": [
              "           date  avg(sentiment_score)  \\\n",
              "0    2021-07-30              0.756336   \n",
              "1    2021-08-21              0.724039   \n",
              "2    2021-08-20              0.755521   \n",
              "3    2021-08-04              0.854390   \n",
              "4    2021-08-08              0.762190   \n",
              "..          ...                   ...   \n",
              "155  2022-11-13              0.685689   \n",
              "156  2023-01-06              0.757114   \n",
              "157  2023-01-07              0.788112   \n",
              "158  2023-01-09              0.739906   \n",
              "159  2022-11-15              0.715028   \n",
              "\n",
              "     Mean of avg(sentiment_score) for 3 days  \\\n",
              "0                                        NaN   \n",
              "1                                        NaN   \n",
              "2                                   0.745299   \n",
              "3                                   0.777983   \n",
              "4                                   0.790700   \n",
              "..                                       ...   \n",
              "155                                 0.741800   \n",
              "156                                 0.732992   \n",
              "157                                 0.743638   \n",
              "158                                 0.761711   \n",
              "159                                 0.747682   \n",
              "\n",
              "     Mean of avg(sentiment_score) for 7 days  \\\n",
              "0                                        NaN   \n",
              "1                                        NaN   \n",
              "2                                        NaN   \n",
              "3                                        NaN   \n",
              "4                                        NaN   \n",
              "..                                       ...   \n",
              "155                                 0.718251   \n",
              "156                                 0.727672   \n",
              "157                                 0.735691   \n",
              "158                                 0.744817   \n",
              "159                                 0.746509   \n",
              "\n",
              "     Mean of avg(sentiment_score) for 30 days  \\\n",
              "0                                         NaN   \n",
              "1                                         NaN   \n",
              "2                                         NaN   \n",
              "3                                         NaN   \n",
              "4                                         NaN   \n",
              "..                                        ...   \n",
              "155                                  0.721890   \n",
              "156                                  0.722504   \n",
              "157                                  0.724713   \n",
              "158                                  0.724567   \n",
              "159                                  0.724794   \n",
              "\n",
              "     Std of avg(sentiment_score) for 3 days  \\\n",
              "0                                       NaN   \n",
              "1                                       NaN   \n",
              "2                                  0.018416   \n",
              "3                                  0.068017   \n",
              "4                                  0.055258   \n",
              "..                                      ...   \n",
              "155                                0.050483   \n",
              "156                                0.040969   \n",
              "157                                0.052525   \n",
              "158                                0.024429   \n",
              "159                                0.037157   \n",
              "\n",
              "     Std of avg(sentiment_score) for 7 days  \\\n",
              "0                                       NaN   \n",
              "1                                       NaN   \n",
              "2                                       NaN   \n",
              "3                                       NaN   \n",
              "4                                       NaN   \n",
              "..                                      ...   \n",
              "155                                0.040193   \n",
              "156                                0.040514   \n",
              "157                                0.046606   \n",
              "158                                0.038530   \n",
              "159                                0.036610   \n",
              "\n",
              "     Std of avg(sentiment_score) for 30 days  \n",
              "0                                        NaN  \n",
              "1                                        NaN  \n",
              "2                                        NaN  \n",
              "3                                        NaN  \n",
              "4                                        NaN  \n",
              "..                                       ...  \n",
              "155                                 0.024491  \n",
              "156                                 0.025148  \n",
              "157                                 0.027853  \n",
              "158                                 0.027758  \n",
              "159                                 0.027648  \n",
              "\n",
              "[160 rows x 8 columns]"
            ],
            "text/html": [
              "\n",
              "  <div id=\"df-db9e54a2-5194-411f-ad41-7ca0e961c0e0\">\n",
              "    <div class=\"colab-df-container\">\n",
              "      <div>\n",
              "<style scoped>\n",
              "    .dataframe tbody tr th:only-of-type {\n",
              "        vertical-align: middle;\n",
              "    }\n",
              "\n",
              "    .dataframe tbody tr th {\n",
              "        vertical-align: top;\n",
              "    }\n",
              "\n",
              "    .dataframe thead th {\n",
              "        text-align: right;\n",
              "    }\n",
              "</style>\n",
              "<table border=\"1\" class=\"dataframe\">\n",
              "  <thead>\n",
              "    <tr style=\"text-align: right;\">\n",
              "      <th></th>\n",
              "      <th>date</th>\n",
              "      <th>avg(sentiment_score)</th>\n",
              "      <th>Mean of avg(sentiment_score) for 3 days</th>\n",
              "      <th>Mean of avg(sentiment_score) for 7 days</th>\n",
              "      <th>Mean of avg(sentiment_score) for 30 days</th>\n",
              "      <th>Std of avg(sentiment_score) for 3 days</th>\n",
              "      <th>Std of avg(sentiment_score) for 7 days</th>\n",
              "      <th>Std of avg(sentiment_score) for 30 days</th>\n",
              "    </tr>\n",
              "  </thead>\n",
              "  <tbody>\n",
              "    <tr>\n",
              "      <th>0</th>\n",
              "      <td>2021-07-30</td>\n",
              "      <td>0.756336</td>\n",
              "      <td>NaN</td>\n",
              "      <td>NaN</td>\n",
              "      <td>NaN</td>\n",
              "      <td>NaN</td>\n",
              "      <td>NaN</td>\n",
              "      <td>NaN</td>\n",
              "    </tr>\n",
              "    <tr>\n",
              "      <th>1</th>\n",
              "      <td>2021-08-21</td>\n",
              "      <td>0.724039</td>\n",
              "      <td>NaN</td>\n",
              "      <td>NaN</td>\n",
              "      <td>NaN</td>\n",
              "      <td>NaN</td>\n",
              "      <td>NaN</td>\n",
              "      <td>NaN</td>\n",
              "    </tr>\n",
              "    <tr>\n",
              "      <th>2</th>\n",
              "      <td>2021-08-20</td>\n",
              "      <td>0.755521</td>\n",
              "      <td>0.745299</td>\n",
              "      <td>NaN</td>\n",
              "      <td>NaN</td>\n",
              "      <td>0.018416</td>\n",
              "      <td>NaN</td>\n",
              "      <td>NaN</td>\n",
              "    </tr>\n",
              "    <tr>\n",
              "      <th>3</th>\n",
              "      <td>2021-08-04</td>\n",
              "      <td>0.854390</td>\n",
              "      <td>0.777983</td>\n",
              "      <td>NaN</td>\n",
              "      <td>NaN</td>\n",
              "      <td>0.068017</td>\n",
              "      <td>NaN</td>\n",
              "      <td>NaN</td>\n",
              "    </tr>\n",
              "    <tr>\n",
              "      <th>4</th>\n",
              "      <td>2021-08-08</td>\n",
              "      <td>0.762190</td>\n",
              "      <td>0.790700</td>\n",
              "      <td>NaN</td>\n",
              "      <td>NaN</td>\n",
              "      <td>0.055258</td>\n",
              "      <td>NaN</td>\n",
              "      <td>NaN</td>\n",
              "    </tr>\n",
              "    <tr>\n",
              "      <th>...</th>\n",
              "      <td>...</td>\n",
              "      <td>...</td>\n",
              "      <td>...</td>\n",
              "      <td>...</td>\n",
              "      <td>...</td>\n",
              "      <td>...</td>\n",
              "      <td>...</td>\n",
              "      <td>...</td>\n",
              "    </tr>\n",
              "    <tr>\n",
              "      <th>155</th>\n",
              "      <td>2022-11-13</td>\n",
              "      <td>0.685689</td>\n",
              "      <td>0.741800</td>\n",
              "      <td>0.718251</td>\n",
              "      <td>0.721890</td>\n",
              "      <td>0.050483</td>\n",
              "      <td>0.040193</td>\n",
              "      <td>0.024491</td>\n",
              "    </tr>\n",
              "    <tr>\n",
              "      <th>156</th>\n",
              "      <td>2023-01-06</td>\n",
              "      <td>0.757114</td>\n",
              "      <td>0.732992</td>\n",
              "      <td>0.727672</td>\n",
              "      <td>0.722504</td>\n",
              "      <td>0.040969</td>\n",
              "      <td>0.040514</td>\n",
              "      <td>0.025148</td>\n",
              "    </tr>\n",
              "    <tr>\n",
              "      <th>157</th>\n",
              "      <td>2023-01-07</td>\n",
              "      <td>0.788112</td>\n",
              "      <td>0.743638</td>\n",
              "      <td>0.735691</td>\n",
              "      <td>0.724713</td>\n",
              "      <td>0.052525</td>\n",
              "      <td>0.046606</td>\n",
              "      <td>0.027853</td>\n",
              "    </tr>\n",
              "    <tr>\n",
              "      <th>158</th>\n",
              "      <td>2023-01-09</td>\n",
              "      <td>0.739906</td>\n",
              "      <td>0.761711</td>\n",
              "      <td>0.744817</td>\n",
              "      <td>0.724567</td>\n",
              "      <td>0.024429</td>\n",
              "      <td>0.038530</td>\n",
              "      <td>0.027758</td>\n",
              "    </tr>\n",
              "    <tr>\n",
              "      <th>159</th>\n",
              "      <td>2022-11-15</td>\n",
              "      <td>0.715028</td>\n",
              "      <td>0.747682</td>\n",
              "      <td>0.746509</td>\n",
              "      <td>0.724794</td>\n",
              "      <td>0.037157</td>\n",
              "      <td>0.036610</td>\n",
              "      <td>0.027648</td>\n",
              "    </tr>\n",
              "  </tbody>\n",
              "</table>\n",
              "<p>160 rows × 8 columns</p>\n",
              "</div>\n",
              "      <button class=\"colab-df-convert\" onclick=\"convertToInteractive('df-db9e54a2-5194-411f-ad41-7ca0e961c0e0')\"\n",
              "              title=\"Convert this dataframe to an interactive table.\"\n",
              "              style=\"display:none;\">\n",
              "        \n",
              "  <svg xmlns=\"http://www.w3.org/2000/svg\" height=\"24px\"viewBox=\"0 0 24 24\"\n",
              "       width=\"24px\">\n",
              "    <path d=\"M0 0h24v24H0V0z\" fill=\"none\"/>\n",
              "    <path d=\"M18.56 5.44l.94 2.06.94-2.06 2.06-.94-2.06-.94-.94-2.06-.94 2.06-2.06.94zm-11 1L8.5 8.5l.94-2.06 2.06-.94-2.06-.94L8.5 2.5l-.94 2.06-2.06.94zm10 10l.94 2.06.94-2.06 2.06-.94-2.06-.94-.94-2.06-.94 2.06-2.06.94z\"/><path d=\"M17.41 7.96l-1.37-1.37c-.4-.4-.92-.59-1.43-.59-.52 0-1.04.2-1.43.59L10.3 9.45l-7.72 7.72c-.78.78-.78 2.05 0 2.83L4 21.41c.39.39.9.59 1.41.59.51 0 1.02-.2 1.41-.59l7.78-7.78 2.81-2.81c.8-.78.8-2.07 0-2.86zM5.41 20L4 18.59l7.72-7.72 1.47 1.35L5.41 20z\"/>\n",
              "  </svg>\n",
              "      </button>\n",
              "      \n",
              "  <style>\n",
              "    .colab-df-container {\n",
              "      display:flex;\n",
              "      flex-wrap:wrap;\n",
              "      gap: 12px;\n",
              "    }\n",
              "\n",
              "    .colab-df-convert {\n",
              "      background-color: #E8F0FE;\n",
              "      border: none;\n",
              "      border-radius: 50%;\n",
              "      cursor: pointer;\n",
              "      display: none;\n",
              "      fill: #1967D2;\n",
              "      height: 32px;\n",
              "      padding: 0 0 0 0;\n",
              "      width: 32px;\n",
              "    }\n",
              "\n",
              "    .colab-df-convert:hover {\n",
              "      background-color: #E2EBFA;\n",
              "      box-shadow: 0px 1px 2px rgba(60, 64, 67, 0.3), 0px 1px 3px 1px rgba(60, 64, 67, 0.15);\n",
              "      fill: #174EA6;\n",
              "    }\n",
              "\n",
              "    [theme=dark] .colab-df-convert {\n",
              "      background-color: #3B4455;\n",
              "      fill: #D2E3FC;\n",
              "    }\n",
              "\n",
              "    [theme=dark] .colab-df-convert:hover {\n",
              "      background-color: #434B5C;\n",
              "      box-shadow: 0px 1px 3px 1px rgba(0, 0, 0, 0.15);\n",
              "      filter: drop-shadow(0px 1px 2px rgba(0, 0, 0, 0.3));\n",
              "      fill: #FFFFFF;\n",
              "    }\n",
              "  </style>\n",
              "\n",
              "      <script>\n",
              "        const buttonEl =\n",
              "          document.querySelector('#df-db9e54a2-5194-411f-ad41-7ca0e961c0e0 button.colab-df-convert');\n",
              "        buttonEl.style.display =\n",
              "          google.colab.kernel.accessAllowed ? 'block' : 'none';\n",
              "\n",
              "        async function convertToInteractive(key) {\n",
              "          const element = document.querySelector('#df-db9e54a2-5194-411f-ad41-7ca0e961c0e0');\n",
              "          const dataTable =\n",
              "            await google.colab.kernel.invokeFunction('convertToInteractive',\n",
              "                                                     [key], {});\n",
              "          if (!dataTable) return;\n",
              "\n",
              "          const docLinkHtml = 'Like what you see? Visit the ' +\n",
              "            '<a target=\"_blank\" href=https://colab.research.google.com/notebooks/data_table.ipynb>data table notebook</a>'\n",
              "            + ' to learn more about interactive tables.';\n",
              "          element.innerHTML = '';\n",
              "          dataTable['output_type'] = 'display_data';\n",
              "          await google.colab.output.renderOutput(dataTable, element);\n",
              "          const docLink = document.createElement('div');\n",
              "          docLink.innerHTML = docLinkHtml;\n",
              "          element.appendChild(docLink);\n",
              "        }\n",
              "      </script>\n",
              "    </div>\n",
              "  </div>\n",
              "  "
            ]
          },
          "metadata": {}
        }
      ]
    },
    {
      "cell_type": "code",
      "source": [
        "len(pandas_es_tweet_df.index)"
      ],
      "metadata": {
        "id": "2dI3LPDfHcCp"
      },
      "execution_count": null,
      "outputs": []
    },
    {
      "cell_type": "code",
      "source": [
        "rw_es_tweets_spark_df = spark.createDataFrame(pandas_es_tweet_df)"
      ],
      "metadata": {
        "id": "hJ9wId1k9UxG"
      },
      "execution_count": null,
      "outputs": []
    },
    {
      "cell_type": "code",
      "source": [
        "rw_es_tweets_spark_df.columns"
      ],
      "metadata": {
        "colab": {
          "base_uri": "https://localhost:8080/"
        },
        "id": "YYLW2z5m9wwU",
        "outputId": "3acbf187-28c8-4476-9e21-a5803ac4afd5"
      },
      "execution_count": null,
      "outputs": [
        {
          "output_type": "execute_result",
          "data": {
            "text/plain": [
              "['date',\n",
              " 'avg(sentiment_score)',\n",
              " 'Mean of avg(sentiment_score) for 3 days',\n",
              " 'Mean of avg(sentiment_score) for 7 days',\n",
              " 'Mean of avg(sentiment_score) for 30 days',\n",
              " 'Std of avg(sentiment_score) for 3 days',\n",
              " 'Std of avg(sentiment_score) for 7 days',\n",
              " 'Std of avg(sentiment_score) for 30 days']"
            ]
          },
          "metadata": {},
          "execution_count": 132
        }
      ]
    },
    {
      "cell_type": "markdown",
      "source": [
        "# Time Series"
      ],
      "metadata": {
        "id": "pzxsVbPHEyar"
      }
    },
    {
      "cell_type": "code",
      "source": [
        "# replace dollar signs with an empty string in the dollar columns\n",
        "dollar_cols = [\"Open*\", \"High\", \"Low\", \"Close**\", \"Volume\", \"Market Cap\"]\n",
        "for col in dollar_cols:\n",
        "    time_series_df = time_series_df.withColumn(col, f.regexp_replace(col, \"\\$\", \"\"))\n",
        "    time_series_df = time_series_df.withColumn(col, f.regexp_replace(col, \",\", \"\"))\n",
        "    time_series_df = time_series_df.withColumn(col, time_series_df[col].cast(\"float\"))\n",
        "\n",
        "# convert PySpark DataFrame to Pandas DataFrame\n",
        "pandas_time_series_df = time_series_df.toPandas()\n",
        "\n",
        "# Rolling Means\n",
        "\n",
        "pandas_time_series_df = rolling_mean(pandas_time_series_df, \"Open*\", 3)\n",
        "pandas_time_series_df = rolling_mean(pandas_time_series_df, \"Open*\", 7)\n",
        "pandas_time_series_df = rolling_mean(pandas_time_series_df, \"Open*\", 30)\n",
        "\n",
        "pandas_time_series_df = rolling_mean(pandas_time_series_df, \"Close**\", 3)\n",
        "pandas_time_series_df = rolling_mean(pandas_time_series_df, \"Close**\", 7)\n",
        "pandas_time_series_df = rolling_mean(pandas_time_series_df, \"Close**\", 30)\n",
        "\n",
        "pandas_time_series_df = rolling_mean(pandas_time_series_df, \"Volume\", 3)\n",
        "pandas_time_series_df = rolling_mean(pandas_time_series_df, \"Volume\", 7)\n",
        "pandas_time_series_df = rolling_mean(pandas_time_series_df, \"Volume\", 30)\n",
        "\n",
        "# Rolling STDs\n",
        "\n",
        "pandas_time_series_df = rolling_std(pandas_time_series_df, \"Open*\", 3)\n",
        "pandas_time_series_df = rolling_std(pandas_time_series_df, \"Open*\", 7)\n",
        "pandas_time_series_df = rolling_std(pandas_time_series_df, \"Open*\", 30)\n",
        "\n",
        "pandas_time_series_df = rolling_std(pandas_time_series_df, \"Close**\", 3)\n",
        "pandas_time_series_df = rolling_std(pandas_time_series_df, \"Close**\", 7)\n",
        "pandas_time_series_df = rolling_std(pandas_time_series_df, \"Close**\", 30)\n",
        "\n",
        "pandas_time_series_df = rolling_std(pandas_time_series_df, \"Volume\", 3)\n",
        "pandas_time_series_df = rolling_std(pandas_time_series_df, \"Volume\", 7)\n",
        "pandas_time_series_df = rolling_std(pandas_time_series_df, \"Volume\", 30)\n",
        "\n",
        "# Avg Price and Previous Day Avg price\n",
        "# pandas_time_series_df['Avg Price'] = (pandas_time_series_df['High'] + pandas_time_series_df['Low']) / 2\n",
        "# pandas_time_series_df['Prev Day Avg Price'] = pandas_time_series_df['Avg Price'].shift(1)\n",
        "\n",
        "#  Previous Day close price\n",
        "pandas_time_series_df['Prev Day Close Price'] = pandas_time_series_df['Close**'].shift(1)\n",
        "pandas_time_series_df['Next Day Close Price'] = pandas_time_series_df['Close**'].shift(-1)"
      ],
      "metadata": {
        "id": "r3MIC9xLExsw"
      },
      "execution_count": null,
      "outputs": []
    },
    {
      "cell_type": "code",
      "source": [
        "from pyspark.ml.feature import VectorAssembler"
      ],
      "metadata": {
        "id": "L3cvf5upVCpw"
      },
      "execution_count": null,
      "outputs": []
    },
    {
      "cell_type": "code",
      "source": [
        "time_series_spark_df = spark.createDataFrame(pandas_time_series_df)"
      ],
      "metadata": {
        "id": "Z2D0jxaWibvl"
      },
      "execution_count": null,
      "outputs": []
    },
    {
      "cell_type": "code",
      "source": [
        "from pyspark.sql.functions import col\n",
        "time_series_spark_df = time_series_spark_df.withColumn(\"Date\", to_date(unix_timestamp('date', 'MMM dd, yyyy').cast(\"timestamp\"))).filter(col(\"Date\").between(startDate, endDate))\n",
        "\n",
        "# clean_spark_df.show()\n",
        "# clean_spark_df.agg({'Date': 'min'}).show()\n",
        "# clean_spark_df.agg({'Date': 'max'}).show()"
      ],
      "metadata": {
        "id": "GvvoQRTkrAn8"
      },
      "execution_count": null,
      "outputs": []
    },
    {
      "cell_type": "code",
      "source": [
        "joined_spark_df = time_series_spark_df.join(rw_es_tweets_spark_df,time_series_spark_df.Date ==  rw_es_tweets_spark_df.date,\"inner\").drop(rw_es_tweets_spark_df.date)"
      ],
      "metadata": {
        "id": "1WfA5ak79gKk"
      },
      "execution_count": null,
      "outputs": []
    },
    {
      "cell_type": "code",
      "source": [
        "joined_spark_df = joined_spark_df.na.drop(\"any\")\n",
        "joined_spark_df.count()"
      ],
      "metadata": {
        "id": "j3DMaD-B-LIQ"
      },
      "execution_count": null,
      "outputs": []
    },
    {
      "cell_type": "code",
      "source": [
        "input_features = [col.name for col in joined_spark_df.schema if col.name != 'Date' and col.name != 'Next Day Close Price']\n",
        "print(len(input_features))"
      ],
      "metadata": {
        "id": "8mt8L78WUQnX"
      },
      "execution_count": null,
      "outputs": []
    },
    {
      "cell_type": "code",
      "source": [
        "assembler = VectorAssembler(\n",
        "    inputCols=input_features,\n",
        "    outputCol=\"features\")\n",
        "\n",
        "featurized_spark_df = assembler.transform(joined_spark_df)\n",
        "featurized_spark_df"
      ],
      "metadata": {
        "id": "dLhIBQtHqWi5"
      },
      "execution_count": null,
      "outputs": []
    },
    {
      "cell_type": "code",
      "source": [
        "featurized_spark_df.show(truncate=False)"
      ],
      "metadata": {
        "colab": {
          "base_uri": "https://localhost:8080/"
        },
        "id": "EVQSQFeDqh9f",
        "outputId": "5414135a-b3ac-454c-bc8a-55d27bede459"
      },
      "execution_count": null,
      "outputs": [
        {
          "output_type": "stream",
          "name": "stdout",
          "text": [
            "+----------+--------------+--------------+--------------+--------------+---------------+-----------------+------------------------+------------------------+-------------------------+--------------------------+--------------------------+---------------------------+-------------------------+-------------------------+--------------------------+-----------------------+-----------------------+------------------------+-------------------------+-------------------------+--------------------------+------------------------+------------------------+-------------------------+--------------------+--------------------+--------------------+---------------------------------------+---------------------------------------+----------------------------------------+--------------------------------------+--------------------------------------+---------------------------------------+--------------------------------------------------------------------------------------------------------------------------------------------------------------------------------------------------------------------------------------------------------------------------------------------------------------------------------------------------------------------------------------------------------------------------------------------------------------------------------------------------------------------------------------------------------------------------------------------------------------+\n",
            "|Date      |Open*         |High          |Low           |Close**       |Volume         |Market Cap       |Mean of Open* for 3 days|Mean of Open* for 7 days|Mean of Open* for 30 days|Mean of Close** for 3 days|Mean of Close** for 7 days|Mean of Close** for 30 days|Mean of Volume for 3 days|Mean of Volume for 7 days|Mean of Volume for 30 days|Std of Open* for 3 days|Std of Open* for 7 days|Std of Open* for 30 days|Std of Close** for 3 days|Std of Close** for 7 days|Std of Close** for 30 days|Std of Volume for 3 days|Std of Volume for 7 days|Std of Volume for 30 days|Prev Day Close Price|Next Day Close Price|avg(sentiment_score)|Mean of avg(sentiment_score) for 3 days|Mean of avg(sentiment_score) for 7 days|Mean of avg(sentiment_score) for 30 days|Std of avg(sentiment_score) for 3 days|Std of avg(sentiment_score) for 7 days|Std of avg(sentiment_score) for 30 days|features                                                                                                                                                                                                                                                                                                                                                                                                                                                                                                                                                                                                      |\n",
            "+----------+--------------+--------------+--------------+--------------+---------------+-----------------+------------------------+------------------------+-------------------------+--------------------------+--------------------------+---------------------------+-------------------------+-------------------------+--------------------------+-----------------------+-----------------------+------------------------+-------------------------+-------------------------+--------------------------+------------------------+------------------------+-------------------------+--------------------+--------------------+--------------------+---------------------------------------+---------------------------------------+----------------------------------------+--------------------------------------+--------------------------------------+---------------------------------------+--------------------------------------------------------------------------------------------------------------------------------------------------------------------------------------------------------------------------------------------------------------------------------------------------------------------------------------------------------------------------------------------------------------------------------------------------------------------------------------------------------------------------------------------------------------------------------------------------------------+\n",
            "|2021-11-25|57165.421875  |59367.96875   |57146.69140625|57274.6796875 |3.4284015616E10|1.081500172288E12|56620.713541666664      |56672.162388392855      |51184.333203125          |55219.83984375            |56421.40122767857         |50849.385026041666         |3.5551873706666664E10    |3.438716225828571E10     |3.23146498048E10          |2654.186705705909      |1795.0991563502014     |4073.6264863302827      |1885.3324177756344       |1583.1177244300811       |3852.9866480182773        |5.731108122049031E9     |4.557737707905727E9     |7.416302690936332E9      |53569.76171875      |56280.4296875       |0.7469243210904738  |0.7352112649600859                     |0.7224352004554733                     |0.7443872736362006                      |0.010680028906647937                  |0.017200185870152918                  |0.03551733449771725                    |[57165.421875,59367.96875,57146.69140625,57274.6796875,3.4284015616E10,1.081500172288E12,56620.713541666664,56672.162388392855,51184.333203125,55219.83984375,56421.40122767857,50849.385026041666,3.5551873706666664E10,3.438716225828571E10,3.23146498048E10,2654.186705705909,1795.0991563502014,4073.6264863302827,1885.3324177756344,1583.1177244300811,3852.9866480182773,5.731108122049031E9,4.557737707905727E9,7.416302690936332E9,53569.76171875,0.7469243210904738,0.7352112649600859,0.7224352004554733,0.7443872736362006,0.010680028906647937,0.017200185870152918,0.03551733449771725]         |\n",
            "|2022-03-16|39335.5703125 |41465.44921875|39022.3515625 |41143.9296875 |3.9616917504E10|7.81131579392E11 |40473.75                |41103.93415178572       |43511.565104166664       |41298.819010416664        |41538.81919642857         |43533.76549479167          |3.2016027648E10          |2.7494439789714287E10    |2.84432825344E10          |990.5522453551955      |897.6435180889822      |2474.121096691838       |445.55593456419234       |572.1507818435994        |2442.8903000568694        |9.04678622791102E9      |7.844538154688097E9     |6.429208333391366E9      |40951.37890625      |39338.7890625       |0.7396575161596624  |0.7489472077347692                     |0.7805236309312783                     |0.7645366465867104                      |0.027635703280079627                  |0.07119956211959862                   |0.06405896449950606                    |[39335.5703125,41465.44921875,39022.3515625,41143.9296875,3.9616917504E10,7.81131579392E11,40473.75,41103.93415178572,43511.565104166664,41298.819010416664,41538.81919642857,43533.76549479167,3.2016027648E10,2.7494439789714287E10,2.84432825344E10,990.5522453551955,897.6435180889822,2474.121096691838,445.55593456419234,572.1507818435994,2442.8903000568694,9.04678622791102E9,7.844538154688097E9,6.429208333391366E9,40951.37890625,0.7396575161596624,0.7489472077347692,0.7805236309312783,0.7645366465867104,0.027635703280079627,0.07119956211959862,0.06405896449950606]                      |\n",
            "|2022-03-15|39664.25      |39794.62890625|38310.2109375 |39338.7890625 |2.3934001152E10|7.4682171392E11  |40046.88671875          |40902.52678571428       |43461.699479166666       |40478.032552083336        |41107.38783482143         |43513.87447916667          |2.8520173568E10          |2.6341489517714287E10    |2.8429682517333332E10     |961.5392160576421      |1050.5894612999905     |2537.412388489706       |991.3000288804986        |897.1211310828737        |2475.4119211620678        |9.658111744214489E9     |7.662139740739947E9     |6.438607792929881E9      |41143.9296875       |39666.76171875      |0.7616359740495682  |0.7428155927599254                     |0.786111793903424                      |0.7657561164553426                      |0.01745691822578911                   |0.06731748156573122                   |0.06362815761339734                    |[39664.25,39794.62890625,38310.2109375,39338.7890625,2.3934001152E10,7.4682171392E11,40046.88671875,40902.52678571428,43461.699479166666,40478.032552083336,41107.38783482143,43513.87447916667,2.8520173568E10,2.6341489517714287E10,2.8429682517333332E10,961.5392160576421,1050.5894612999905,2537.412388489706,991.3000288804986,897.1211310828737,2475.4119211620678,9.658111744214489E9,7.662139740739947E9,6.438607792929881E9,41143.9296875,0.7616359740495682,0.7428155927599254,0.786111793903424,0.7657561164553426,0.01745691822578911,0.06731748156573122,0.06362815761339734]                   |\n",
            "|2022-02-16|44578.28125   |44578.28125   |43456.69140625|43961.859375  |1.979254784E10 |8.33531936768E11 |43022.493489583336      |40671.94029017857       |39980.64296875           |41510.283854166664        |39777.95591517857         |39861.838671875            |2.3116406101333332E10    |2.2314272329142857E10    |2.5510103893333332E10     |2163.2877172334697     |2729.4230986130365     |2201.8918077380767      |2138.2088468812008       |2221.4403021508306       |2033.6839048485117        |3.2314097893302283E9    |5.335634315240064E9     |7.265008179534127E9      |40538.01171875      |44575.19921875      |0.8903273791074753  |0.7882646941229807                     |0.7612691905548038                     |0.7483228079384375                      |0.09042166534595321                   |0.06291883689178049                   |0.047286569619651365                   |[44578.28125,44578.28125,43456.69140625,43961.859375,1.979254784E10,8.33531936768E11,43022.493489583336,40671.94029017857,39980.64296875,41510.283854166664,39777.95591517857,39861.838671875,2.3116406101333332E10,2.2314272329142857E10,2.5510103893333332E10,2163.2877172334697,2729.4230986130365,2201.8918077380767,2138.2088468812008,2221.4403021508306,2033.6839048485117,3.2314097893302283E9,5.335634315240064E9,7.265008179534127E9,40538.01171875,0.8903273791074753,0.7882646941229807,0.7612691905548038,0.7483228079384375,0.09042166534595321,0.06291883689178049,0.047286569619651365]       |\n",
            "|2022-03-19|41794.6484375 |42316.55078125|41602.671875  |42190.6484375 |1.9664852992E10|8.01123991552E11 |41744.0625              |42217.40959821428       |43494.50677083333        |41505.489583333336        |42582.556919642855        |43427.046614583334         |2.1469447509333332E10    |2.6181906432E10          |2.7164267758933334E10     |474.6665810913763      |995.9857204531811      |2484.086627914859       |599.4094812535163        |1249.2998074683333       |2562.716551052972         |2.734419603059882E9     |5.152446238030752E9     |6.471901988643996E9      |41247.8203125       |41801.1484375       |0.8505814671516418  |0.7839583191202908                     |0.7768546987027491                     |0.7696856209770304                      |0.0587345387571074                    |0.0483662758880248                    |0.0651382856229276                     |[41794.6484375,42316.55078125,41602.671875,42190.6484375,1.9664852992E10,8.01123991552E11,41744.0625,42217.40959821428,43494.50677083333,41505.489583333336,42582.556919642855,43427.046614583334,2.1469447509333332E10,2.6181906432E10,2.7164267758933334E10,474.6665810913763,995.9857204531811,2484.086627914859,599.4094812535163,1249.2998074683333,2562.716551052972,2.734419603059882E9,5.152446238030752E9,6.471901988643996E9,41247.8203125,0.8505814671516418,0.7839583191202908,0.7768546987027491,0.7696856209770304,0.0587345387571074,0.0483662758880248,0.0651382856229276]                    |\n",
            "|2022-04-18|39721.19921875|40986.3203125 |38696.19140625|40826.2109375 |3.3705181184E10|7.7633060864E11  |40683.703125            |40452.22544642857       |36432.242447916666       |41234.446614583336        |40418.1484375             |36124.97317708333          |2.8942639786666668E10    |2.6330691584E10          |3.531856370346667E10      |899.0179381230556      |825.1484643255646      |4304.3225216068395      |359.3216671179054        |865.6889168550583        |4391.698519363555         |4.312113757639029E9     |7.258629067933405E9     |1.3441293850153193E10    |41502.75            |39716.94921875      |0.7331178379910332  |0.8029435040837242                     |0.7893473859430374                     |0.7775783359834161                      |0.08579005112397993                   |0.08872951233227996                   |0.07103443494757623                    |[39721.19921875,40986.3203125,38696.19140625,40826.2109375,3.3705181184E10,7.7633060864E11,40683.703125,40452.22544642857,36432.242447916666,41234.446614583336,40418.1484375,36124.97317708333,2.8942639786666668E10,2.6330691584E10,3.531856370346667E10,899.0179381230556,825.1484643255646,4304.3225216068395,359.3216671179054,865.6889168550583,4391.698519363555,4.312113757639029E9,7.258629067933405E9,1.3441293850153193E10,41502.75,0.7331178379910332,0.8029435040837242,0.7893473859430374,0.7775783359834161,0.08579005112397993,0.08872951233227996,0.07103443494757623]                       |\n",
            "|2022-04-21|41371.51953125|42893.578125  |40063.828125  |40527.359375  |3.5372785664E10|7.70762276864E11 |40545.365885416664      |39879.400111607145      |35345.73743489583        |39918.13671875            |39577.22712053572         |34942.70651041667          |2.6507507712E10          |2.8354679661714287E10    |3.56179030016E10          |816.5751501081456      |1033.4924919127766     |4468.537750995164       |542.6243045418285        |813.3654458904593        |4454.175325721            |9.705206207491638E9     |8.189176455008097E9     |1.3283488991163948E10    |39740.3203125       |41374.37890625      |0.7184040928096102  |0.783410771921862                      |0.7965837131627637                     |0.7775862024056032                      |0.10012304505072334                   |0.07865323220397409                   |0.07102764167552139                    |[41371.51953125,42893.578125,40063.828125,40527.359375,3.5372785664E10,7.70762276864E11,40545.365885416664,39879.400111607145,35345.73743489583,39918.13671875,39577.22712053572,34942.70651041667,2.6507507712E10,2.8354679661714287E10,3.56179030016E10,816.5751501081456,1033.4924919127766,4468.537750995164,542.6243045418285,813.3654458904593,4454.175325721,9.705206207491638E9,8.189176455008097E9,1.3283488991163948E10,39740.3203125,0.7184040928096102,0.783410771921862,0.7965837131627637,0.7775862024056032,0.10012304505072334,0.07865323220397409,0.07102764167552139]                       |\n",
            "|2022-02-15|42586.4609375 |44667.21875   |42491.03125   |44575.19921875|2.272165888E10 |8.45117652992E11 |43700.604166666664      |41460.181919642855      |40028.830338541666       |43025.0234375             |40676.408482142855        |39982.63268229167          |2.2920289621333332E10    |2.1918345069714287E10    |2.5533839121066666E10     |1016.7468799636813     |2274.1950383059684     |2243.5814063127377      |2175.5383030143744       |2730.8718723031566       |2201.341052508333         |3.23163866959577E9      |5.160383625933186E9     |7.254332791403118E9      |43961.859375        |42586.921875        |0.8337971369425455  |0.8268077063891622                     |0.7745691348420586                     |0.751717794784147                       |0.06728720014193298                   |0.06751736844642506                   |0.04966664859515184                    |[42586.4609375,44667.21875,42491.03125,44575.19921875,2.272165888E10,8.45117652992E11,43700.604166666664,41460.181919642855,40028.830338541666,43025.0234375,40676.408482142855,39982.63268229167,2.2920289621333332E10,2.1918345069714287E10,2.5533839121066666E10,1016.7468799636813,2274.1950383059684,2243.5814063127377,2175.5383030143744,2730.8718723031566,2201.341052508333,3.23163866959577E9,5.160383625933186E9,7.254332791403118E9,43961.859375,0.8337971369425455,0.8268077063891622,0.7745691348420586,0.751717794784147,0.06728720014193298,0.06751736844642506,0.04966664859515184]          |\n",
            "|2022-04-15|39939.3984375 |40617.71875   |39866.828125  |40553.4609375 |2.175685632E10 |7.71033858048E11 |40303.166666666664      |40618.87555803572       |37420.380143229166       |40231.630208333336        |40703.65569196428         |37095.006575520834         |1.9225879893333332E10    |2.5696906386285713E10    |3.4322793540266666E10     |322.1345731955791      |671.0818350040155      |3911.005089819835       |450.36805071917246       |606.7136140314652        |4098.653182281915         |2.4647622317399592E9    |7.073286637872923E9     |1.4218505995568521E10    |40424.48046875      |39935.51953125      |0.7517809073130289  |0.7344342793712241                     |0.7963134783338601                     |0.7774356125454552                      |0.01672730402753585                   |0.07882829231152173                   |0.07107910154812827                    |[39939.3984375,40617.71875,39866.828125,40553.4609375,2.175685632E10,7.71033858048E11,40303.166666666664,40618.87555803572,37420.380143229166,40231.630208333336,40703.65569196428,37095.006575520834,1.9225879893333332E10,2.5696906386285713E10,3.4322793540266666E10,322.1345731955791,671.0818350040155,3911.005089819835,450.36805071917246,606.7136140314652,4098.653182281915,2.4647622317399592E9,7.073286637872923E9,1.4218505995568521E10,40424.48046875,0.7517809073130289,0.7344342793712241,0.7963134783338601,0.7774356125454552,0.01672730402753585,0.07882829231152173,0.07107910154812827]   |\n",
            "|2022-01-13|43946.73828125|44278.421875  |42447.0390625 |42591.5703125 |4.7691137024E10|8.0618979328E11  |43215.8359375           |42937.396763392855      |40158.92877604167        |42956.22265625            |42621.864955357145        |40106.52252604167          |2.9879962965333332E10    |2.496309218742857E10     |2.56878898176E10          |681.1187886224479      |582.8005048658499      |3006.8810465892875      |318.17886636349266       |539.8326627633364        |2952.714055426914         |1.5643023778917562E10   |1.0267134435053347E10   |8.432685374026365E9      |43099.69921875      |43949.1015625       |0.700248917366596   |0.7243954602486156                     |0.7186669654650509                     |0.7392845905432334                      |0.02337971341963027                   |0.018931212509140143                  |0.029874239039340375                   |[43946.73828125,44278.421875,42447.0390625,42591.5703125,4.7691137024E10,8.0618979328E11,43215.8359375,42937.396763392855,40158.92877604167,42956.22265625,42621.864955357145,40106.52252604167,2.9879962965333332E10,2.496309218742857E10,2.56878898176E10,681.1187886224479,582.8005048658499,3006.8810465892875,318.17886636349266,539.8326627633364,2952.714055426914,1.5643023778917562E10,1.0267134435053347E10,8.432685374026365E9,43099.69921875,0.700248917366596,0.7243954602486156,0.7186669654650509,0.7392845905432334,0.02337971341963027,0.018931212509140143,0.029874239039340375]            |\n",
            "|2021-11-24|57565.8515625 |57803.0703125 |55964.21875   |56280.4296875 |3.663556608E10 |1.062661718016E12|57897.1875              |56766.14564732143       |51409.659895833334       |55708.290364583336        |56285.77287946428         |51031.32604166667          |3.7576776362666664E10    |3.435535798857143E10     |3.2723571575466667E10     |942.1914257731024      |1826.4506387985261     |4235.710522087462       |1917.5796834583653       |1542.4614507003744       |3978.4857119089384        |3.850627274108721E9     |4.538356340760848E9     |7.300325932839849E9      |57274.6796875       |57569.0703125       |0.7285109281539917  |0.7252280555370204                     |0.7231397932283418                     |0.73723961366923                        |0.023510237507545294                  |0.016565140093059812                  |0.028353892104737106                   |[57565.8515625,57803.0703125,55964.21875,56280.4296875,3.663556608E10,1.062661718016E12,57897.1875,56766.14564732143,51409.659895833334,55708.290364583336,56285.77287946428,51031.32604166667,3.7576776362666664E10,3.435535798857143E10,3.2723571575466667E10,942.1914257731024,1826.4506387985261,4235.710522087462,1917.5796834583653,1542.4614507003744,3978.4857119089384,3.850627274108721E9,4.538356340760848E9,7.300325932839849E9,57274.6796875,0.7285109281539917,0.7252280555370204,0.7231397932283418,0.73723961366923,0.023510237507545294,0.016565140093059812,0.028353892104737106]           |\n",
            "|2022-03-09|38742.8203125 |42465.671875  |38706.08984375|41982.9296875 |3.2284121088E10|7.9678767104E11  |40052.286458333336      |39335.22991071428       |42970.223828125          |40071.786458333336        |39424.94029017857         |43131.958203125            |2.9909025450666668E10    |2.4271490486857143E10    |2.8176771549866665E10     |1700.4246153766885     |1300.377856736289      |3019.3078688545165      |1685.986472229773        |1275.3499114020215       |2912.6954285484276        |3.1279880719065456E9    |6.542700104264393E9     |6.56417377730793E9       |39437.4609375       |38737.26953125      |0.8619114955266317  |0.8620120038588842                     |0.7986159419041167                     |0.7550522363067427                      |0.02826525510675916                   |0.06373630404314706                   |0.05357636037043231                    |[38742.8203125,42465.671875,38706.08984375,41982.9296875,3.2284121088E10,7.9678767104E11,40052.286458333336,39335.22991071428,42970.223828125,40071.786458333336,39424.94029017857,43131.958203125,2.9909025450666668E10,2.4271490486857143E10,2.8176771549866665E10,1700.4246153766885,1300.377856736289,3019.3078688545165,1685.986472229773,1275.3499114020215,2912.6954285484276,3.1279880719065456E9,6.542700104264393E9,6.56417377730793E9,39437.4609375,0.8619114955266317,0.8620120038588842,0.7986159419041167,0.7550522363067427,0.02826525510675916,0.06373630404314706,0.05357636037043231]       |\n",
            "|2022-04-19|40828.171875  |41672.9609375 |40618.62890625|41502.75      |2.5303205888E10|7.8922743808E11  |41233.809895833336      |40416.712611607145      |36122.351822916666       |41134.829427083336        |40365.59095982143         |35721.441796875            |2.9498507946666668E10    |2.657934160457143E10     |3.5237899946666664E10     |357.2756410281731      |866.1832081860464      |4393.112085606549       |529.9855493890576        |847.7682092429859        |4499.67942544986          |5.240546599650045E9     |7.576215419765629E9     |1.3458560022598232E10    |41374.37890625      |40826.2109375       |0.7374973256646851  |0.7358941085957748                     |0.7709391092129679                     |0.7723412774306956                      |0.016746064174203493                  |0.060719621625437495                  |0.06812434622866757                    |[40828.171875,41672.9609375,40618.62890625,41502.75,2.5303205888E10,7.8922743808E11,41233.809895833336,40416.712611607145,36122.351822916666,41134.829427083336,40365.59095982143,35721.441796875,2.9498507946666668E10,2.657934160457143E10,3.5237899946666664E10,357.2756410281731,866.1832081860464,4393.112085606549,529.9855493890576,847.7682092429859,4499.67942544986,5.240546599650045E9,7.576215419765629E9,1.3458560022598232E10,41374.37890625,0.7374973256646851,0.7358941085957748,0.7709391092129679,0.7723412774306956,0.016746064174203493,0.060719621625437495,0.06812434622866757]         |\n",
            "|2021-12-29|47623.87109375|48119.73828125|46201.48828125|46444.7109375 |3.0049226752E10|8.78478753792E11 |47094.6171875           |47011.27287946428       |42423.758984375          |46643.096354166664        |46759.57366071428         |42071.77096354167          |3.1236630528E10          |3.168720457142857E10     |3.1429254690133335E10     |570.3171404322321      |580.9074976367734      |3688.557008734599       |468.48046870655753       |647.5985810807051        |3675.730647972595         |5.245622382193573E9     |6.308587892833805E9     |1.2667058674204876E10    |47178.12890625      |47588.8515625       |0.8806792753083366  |0.7698130402763081                     |0.7485892562428261                     |0.7412514979591932                      |0.09704729190487228                   |0.05987034174002468                   |0.03844996828179016                    |[47623.87109375,48119.73828125,46201.48828125,46444.7109375,3.0049226752E10,8.78478753792E11,47094.6171875,47011.27287946428,42423.758984375,46643.096354166664,46759.57366071428,42071.77096354167,3.1236630528E10,3.168720457142857E10,3.1429254690133335E10,570.3171404322321,580.9074976367734,3688.557008734599,468.48046870655753,647.5985810807051,3675.730647972595,5.245622382193573E9,6.308587892833805E9,1.2667058674204876E10,47178.12890625,0.8806792753083366,0.7698130402763081,0.7485892562428261,0.7412514979591932,0.09704729190487228,0.05987034174002468,0.03844996828179016]             |\n",
            "|2022-03-14|37846.3203125 |39742.5       |37680.73046875|39666.76171875|2.4322158592E10|7.5301388288E11  |38948.713541666664      |40416.83984375          |43385.79114583333        |40049.826822916664        |40905.78236607143         |43463.87552083333          |2.9291025749333332E10    |2.6299577490285713E10    |2.8317384328533333E10     |968.7418170122403      |1538.0465016640185     |2671.2511717104553      |961.606637107391         |1050.3161864628175       |2538.791838068138         |8.944590373313742E9     |7.673947499748564E9     |6.481172646868517E9      |39338.7890625       |37849.66015625      |0.7271535396575928  |0.7797903269529343                     |0.7744896670396398                     |0.7697236342226577                      |0.06368515304507087                   |0.05060991055838931                   |0.06511224805574438                    |[37846.3203125,39742.5,37680.73046875,39666.76171875,2.4322158592E10,7.5301388288E11,38948.713541666664,40416.83984375,43385.79114583333,40049.826822916664,40905.78236607143,43463.87552083333,2.9291025749333332E10,2.6299577490285713E10,2.8317384328533333E10,968.7418170122403,1538.0465016640185,2671.2511717104553,961.606637107391,1050.3161864628175,2538.791838068138,8.944590373313742E9,7.673947499748564E9,6.481172646868517E9,39338.7890625,0.7271535396575928,0.7797903269529343,0.7744896670396398,0.7697236342226577,0.06368515304507087,0.05060991055838931,0.06511224805574438]            |\n",
            "|2022-03-07|38429.30078125|39430.23046875|37260.19921875|38062.0390625 |2.8546144256E10|7.2230567936E11  |38410.673177083336      |39189.31975446428       |42561.468489583334       |39594.079427083336        |39109.76283482143         |42801.58216145833          |2.8868949333333332E10    |2.513814293942857E10     |2.7804350190933334E10     |341.8417946450484      |1298.6492308829152     |3202.406186740385       |2096.1722785834263       |1374.0595433645678       |3149.3243234955           |3.2657566427175226E9    |6.733070666331138E9     |6.217832899919073E9      |38737.26953125      |38419.98046875      |0.8402330342092013  |0.8453138888927928                     |0.8107448886338349                     |0.7579038607028187                      |0.014729752302248555                  |0.0621858292081481                    |0.055787171133949195                   |[38429.30078125,39430.23046875,37260.19921875,38062.0390625,2.8546144256E10,7.2230567936E11,38410.673177083336,39189.31975446428,42561.468489583334,39594.079427083336,39109.76283482143,42801.58216145833,2.8868949333333332E10,2.513814293942857E10,2.7804350190933334E10,341.8417946450484,1298.6492308829152,3202.406186740385,2096.1722785834263,1374.0595433645678,3149.3243234955,3.2657566427175226E9,6.733070666331138E9,6.217832899919073E9,38737.26953125,0.8402330342092013,0.8453138888927928,0.8107448886338349,0.7579038607028187,0.014729752302248555,0.0621858292081481,0.055787171133949195]|\n",
            "|2021-12-30|46490.609375  |47879.96875   |46060.30859375|47178.12890625|2.6686490624E10|8.9238634496E11  |46657.239583333336      |46764.9140625           |42073.911328125          |47057.12890625            |46348.7578125             |41783.091536458334         |2.9414443690666668E10    |3.265889865142857E10     |3.1168908151466667E10     |452.4463835816298      |640.435727617727       |3676.043376256652       |698.089357487696         |1379.3439053448599       |3660.499145472728         |6.6308870734392805E9    |6.5340525260593E9       |1.2776194048529003E10    |46306.44921875      |46444.7109375       |0.7406975269317627  |0.7832959101313636                     |0.7508243489487064                     |0.7411790941263053                      |0.08455630170091633                   |0.0591326878879295                    |0.03844886124040132                    |[46490.609375,47879.96875,46060.30859375,47178.12890625,2.6686490624E10,8.9238634496E11,46657.239583333336,46764.9140625,42073.911328125,47057.12890625,46348.7578125,41783.091536458334,2.9414443690666668E10,3.265889865142857E10,3.1168908151466667E10,452.4463835816298,640.435727617727,3676.043376256652,698.089357487696,1379.3439053448599,3660.499145472728,6.6308870734392805E9,6.5340525260593E9,1.2776194048529003E10,46306.44921875,0.7406975269317627,0.7832959101313636,0.7508243489487064,0.7411790941263053,0.08455630170091633,0.0591326878879295,0.03844886124040132]                      |\n",
            "|2021-12-11|47264.62890625|49458.2109375 |46942.3515625 |49362.51171875|2.5775869952E10|9.32873043968E11 |48911.40625             |48339.71149553572       |47372.44583333333        |48732.77734375            |47939.32142857143         |47130.07408854167          |2.6627274069333332E10    |3.017616384E10           |3.05906542592E10          |1475.8941937853924     |1209.6962618427617     |2495.109382426034       |1766.7110606785122       |1522.10322261822         |2675.389547691164         |5.166635429739738E9     |5.283590516220919E9     |1.1506661517012745E10    |50098.33984375      |47243.30859375      |0.6935838460922241  |0.7716535494441078                     |0.745236851033166                      |0.7401579953036151                      |0.09731331566506707                   |0.06286143210943333                   |0.03931194531301892                    |[47264.62890625,49458.2109375,46942.3515625,49362.51171875,2.5775869952E10,9.32873043968E11,48911.40625,48339.71149553572,47372.44583333333,48732.77734375,47939.32142857143,47130.07408854167,2.6627274069333332E10,3.017616384E10,3.05906542592E10,1475.8941937853924,1209.6962618427617,2495.109382426034,1766.7110606785122,1522.10322261822,2675.389547691164,5.166635429739738E9,5.283590516220919E9,1.1506661517012745E10,50098.33984375,0.6935838460922241,0.7716535494441078,0.745236851033166,0.7401579953036151,0.09731331566506707,0.06286143210943333,0.03931194531301892]                       |\n",
            "|2022-03-08|38059.8984375 |39304.44140625|37957.390625  |38737.26953125|2.5776582656E10|7.35156371456E11 |39592.263020833336      |39106.036830357145      |42798.637109375          |40052.553385416664        |39339.00892857143         |42973.07213541667          |2.9712922624E10          |2.4534716416E10          |2.8165925205333332E10     |2090.7773800229847     |1372.1276235936502     |3148.8482601575097      |1708.019760447824        |1302.1062440894348       |3019.749278823665         |3.46189581088845E9      |6.563890310937422E9     |6.567988020162742E9      |41982.9296875       |38062.0390625       |0.7778195838133494  |0.8266547045163941                     |0.8112221904086672                     |0.7557221050502542                      |0.04365937106548435                   |0.06187311220651958                   |0.05356920025275626                    |[38059.8984375,39304.44140625,37957.390625,38737.26953125,2.5776582656E10,7.35156371456E11,39592.263020833336,39106.036830357145,42798.637109375,40052.553385416664,39339.00892857143,42973.07213541667,2.9712922624E10,2.4534716416E10,2.8165925205333332E10,2090.7773800229847,1372.1276235936502,3148.8482601575097,1708.019760447824,1302.1062440894348,3019.749278823665,3.46189581088845E9,6.563890310937422E9,6.567988020162742E9,41982.9296875,0.7778195838133494,0.8266547045163941,0.8112221904086672,0.7557221050502542,0.04365937106548435,0.06187311220651958,0.05356920025275626]               |\n",
            "|2022-02-14|42157.3984375 |42775.78125   |41681.9609375 |42586.921875  |2.0827783168E10|8.07375863808E11 |43107.380208333336      |41993.63727678572       |40122.891276041664       |43707.993489583336        |41463.78571428572         |40030.732421875            |2.1113996629333332E10    |2.0710827885714287E10    |2.49075346432E10          |1291.7763208112522     |1839.505107063542      |2272.480318681962       |1018.1589339347546       |2276.260487434969        |2242.96197617784          |1.4853826039944136E9    |4.0116516202099614E9    |6.792950529848356E9      |44575.19921875      |42197.51953125      |0.6420538028081259  |0.7533688069435588                     |0.800348719360685                      |0.7517573439141841                      |0.10132685876327426                   |0.08376648606362663                   |0.05742797575445427                    |[42157.3984375,42775.78125,41681.9609375,42586.921875,2.0827783168E10,8.07375863808E11,43107.380208333336,41993.63727678572,40122.891276041664,43707.993489583336,41463.78571428572,40030.732421875,2.1113996629333332E10,2.0710827885714287E10,2.49075346432E10,1291.7763208112522,1839.505107063542,2272.480318681962,1018.1589339347546,2276.260487434969,2242.96197617784,1.4853826039944136E9,4.0116516202099614E9,6.792950529848356E9,44575.19921875,0.6420538028081259,0.7533688069435588,0.800348719360685,0.7517573439141841,0.10132685876327426,0.08376648606362663,0.05742797575445427]            |\n",
            "+----------+--------------+--------------+--------------+--------------+---------------+-----------------+------------------------+------------------------+-------------------------+--------------------------+--------------------------+---------------------------+-------------------------+-------------------------+--------------------------+-----------------------+-----------------------+------------------------+-------------------------+-------------------------+--------------------------+------------------------+------------------------+-------------------------+--------------------+--------------------+--------------------+---------------------------------------+---------------------------------------+----------------------------------------+--------------------------------------+--------------------------------------+---------------------------------------+--------------------------------------------------------------------------------------------------------------------------------------------------------------------------------------------------------------------------------------------------------------------------------------------------------------------------------------------------------------------------------------------------------------------------------------------------------------------------------------------------------------------------------------------------------------------------------------------------------------+\n",
            "only showing top 20 rows\n",
            "\n"
          ]
        }
      ]
    },
    {
      "cell_type": "markdown",
      "source": [
        "# Data from EMR\n",
        "Do not run above cells if you are running from EMR preprocessed data"
      ],
      "metadata": {
        "id": "5VfK07XlOnWK"
      }
    },
    {
      "cell_type": "code",
      "source": [
        "data_file_path = '/content/drive/MyDrive/emr_data.csv'\n",
        "\n",
        "\n",
        "# read the file into a Spark DataFrame\n",
        "data_spark_df = spark.read.format(\"csv\").option(\"sep\", \",\").option(\"header\", \"true\").load(data_file_path)\n",
        "data_spark_df.select(col(\"date\"), col(\"close\"), col(\"Next Day Close Price\")).show(10)"
      ],
      "metadata": {
        "colab": {
          "base_uri": "https://localhost:8080/"
        },
        "id": "MaL648u8OvGE",
        "outputId": "da5d4a14-2091-42b6-c712-da34938396ae"
      },
      "execution_count": null,
      "outputs": [
        {
          "output_type": "stream",
          "name": "stdout",
          "text": [
            "+----------+-------+--------------------+\n",
            "|      date|  close|Next Day Close Price|\n",
            "+----------+-------+--------------------+\n",
            "|2017-01-31|970.403|             989.023|\n",
            "|2017-02-01|989.023|              1011.8|\n",
            "|2017-02-02| 1011.8|             1029.91|\n",
            "|2017-02-03|1029.91|              1042.9|\n",
            "|2017-02-04| 1042.9|             1027.34|\n",
            "|2017-02-05|1027.34|             1038.15|\n",
            "|2017-02-06|1038.15|             1061.35|\n",
            "|2017-02-07|1061.35|             1063.07|\n",
            "|2017-02-08|1063.07|             994.383|\n",
            "|2017-02-09|994.383|             988.674|\n",
            "+----------+-------+--------------------+\n",
            "only showing top 10 rows\n",
            "\n"
          ]
        }
      ]
    },
    {
      "cell_type": "code",
      "source": [
        "sentiment_inputs = ['sentiment', 'Mean of sentiment for 3 days', 'Mean of sentiment for 7 days', 'Mean of sentiment for 30 days', 'Std of sentiment for 3 days', 'Std of sentiment for 7 days', 'Std of sentiment for 30 days']\n",
        "input_features = [col.name for col in data_spark_df.schema if col.name != 'date' and col.name!= 'timestamp'  and col.name != 'Next Day Close Price'] # and col.name not in sentiment_inputs]\n",
        "print(input_features)\n",
        "print(len(input_features))"
      ],
      "metadata": {
        "colab": {
          "base_uri": "https://localhost:8080/"
        },
        "id": "P7IXh-CAQngs",
        "outputId": "07d0e880-f05a-4a28-e621-d8d9c6704bae"
      },
      "execution_count": null,
      "outputs": [
        {
          "output_type": "stream",
          "name": "stdout",
          "text": [
            "['open', 'high', 'low', 'close', 'volume', 'marketCap', 'Mean of open for 3 days', 'Mean of open for 7 days', 'Mean of open for 30 days', 'Mean of close for 3 days', 'Mean of close for 7 days', 'Mean of close for 30 days', 'Mean of volume for 3 days', 'Mean of volume for 7 days', 'Mean of volume for 30 days', 'Std of open for 3 days', 'Std of open for 7 days', 'Std of open for 30 days', 'Std of close for 3 days', 'Std of close for 7 days', 'Std of close for 30 days', 'Std of volume for 3 days', 'Std of volume for 7 days', 'Std of volume for 30 days', 'Prev Day Close Price', 'sentiment', 'Mean of sentiment for 3 days', 'Mean of sentiment for 7 days', 'Mean of sentiment for 30 days', 'Std of sentiment for 3 days', 'Std of sentiment for 7 days', 'Std of sentiment for 30 days']\n",
            "32\n"
          ]
        }
      ]
    },
    {
      "cell_type": "code",
      "source": [
        "for col_name in input_features:\n",
        "    data_spark_df = data_spark_df.withColumn(col_name, col(col_name).cast('float'))\n",
        "data_spark_df = data_spark_df.withColumn('Next Day Close Price', col('Next Day Close Price').cast('float'))"
      ],
      "metadata": {
        "id": "4KMeYmK0SWmM"
      },
      "execution_count": null,
      "outputs": []
    },
    {
      "cell_type": "code",
      "source": [
        "from pyspark.ml.feature import VectorAssembler\n",
        "\n",
        "assembler = VectorAssembler(\n",
        "    inputCols=input_features,\n",
        "    outputCol=\"features\")\n",
        "\n",
        "featurized_spark_df = assembler.transform(data_spark_df)\n",
        "featurized_spark_df.show()"
      ],
      "metadata": {
        "colab": {
          "base_uri": "https://localhost:8080/"
        },
        "id": "JELjo0TyQpEN",
        "outputId": "497fffa5-9d19-41f3-afb2-fbc819e33d18"
      },
      "execution_count": null,
      "outputs": [
        {
          "output_type": "stream",
          "name": "stdout",
          "text": [
            "+----------+-------+-------+-------+-------+------------+-------------+--------------------+-----------------------+-----------------------+------------------------+------------------------+------------------------+-------------------------+-------------------------+-------------------------+--------------------------+----------------------+----------------------+-----------------------+-----------------------+-----------------------+------------------------+------------------------+------------------------+-------------------------+--------------------+--------------------+-----------+----------------------------+----------------------------+-----------------------------+---------------------------+---------------------------+----------------------------+--------------------+\n",
            "|      date|   open|   high|    low|  close|      volume|    marketCap|           timestamp|Mean of open for 3 days|Mean of open for 7 days|Mean of open for 30 days|Mean of close for 3 days|Mean of close for 7 days|Mean of close for 30 days|Mean of volume for 3 days|Mean of volume for 7 days|Mean of volume for 30 days|Std of open for 3 days|Std of open for 7 days|Std of open for 30 days|Std of close for 3 days|Std of close for 7 days|Std of close for 30 days|Std of volume for 3 days|Std of volume for 7 days|Std of volume for 30 days|Prev Day Close Price|Next Day Close Price|  sentiment|Mean of sentiment for 3 days|Mean of sentiment for 7 days|Mean of sentiment for 30 days|Std of sentiment for 3 days|Std of sentiment for 7 days|Std of sentiment for 30 days|            features|\n",
            "+----------+-------+-------+-------+-------+------------+-------------+--------------------+-----------------------+-----------------------+------------------------+------------------------+------------------------+-------------------------+-------------------------+-------------------------+--------------------------+----------------------+----------------------+-----------------------+-----------------------+-----------------------+------------------------+------------------------+------------------------+-------------------------+--------------------+--------------------+-----------+----------------------------+----------------------------+-----------------------------+---------------------------+---------------------------+----------------------------+--------------------+\n",
            "|2017-01-31|920.959|972.019|920.959|970.403|   1.64582E8|1.56591862E10|2017-01-31T23:59:...|                921.059|              913.66656|                913.0484|                936.7603|                924.3927|                912.13586|             1.01220336E8|             1.07289088E8|              1.66539888E8|            0.96190643|             11.728563|              76.837875|              29.138771|               21.42781|               75.455444|             5.5556308E7|               3.84667E7|             1.03999184E8|             920.382|             989.023| 0.03423708|                  0.04820961|                 0.049208865|                   0.06406584|                0.020077828|                0.014955137|                 0.039917395|[920.958984375,97...|\n",
            "|2017-02-01|970.941|989.114|970.742|989.023|    1.5011E8|1.59620157E10|2017-02-01T23:59:...|              937.35034|               924.9547|               912.12585|               959.93604|                  936.89|                  911.045|             1.30973096E8|               1.114718E8|              1.64137392E8|             29.093176|             21.373741|              75.935936|                35.4974|              29.767292|                74.03933|              4.624878E7|             4.1645136E7|             1.03500704E8|             970.403|              1011.8| 0.10531223|                  0.05957449|                   0.0574198|                   0.06645948|                0.039686892|                0.025870519|                 0.040173694|[970.940979003906...|\n",
            "|2017-02-02|990.001|1013.52|983.221| 1011.8|1.45820992E8|1.63316152E10|2017-02-02T23:59:...|              960.63367|              937.46985|                911.0726|                990.4087|                950.3491|                  909.977|             1.53504336E8|             1.13452224E8|              1.62825824E8|              35.65642|              29.90735|              74.571976|              20.733257|              39.343307|                72.26763|               9830309.0|             4.3086408E7|             1.03474312E8|             989.023|             1029.91| 0.07610297|                 0.071884096|                  0.06074863|                   0.06737147|                  0.0357249|                0.026664158|                 0.040068056|[990.0009765625,1...|\n",
            "|2017-02-03|1011.46|1033.87|1008.79|1029.91|   2.01278E8|1.66258493E10|2017-02-03T23:59:...|              990.80066|                 950.77|               909.97455|               1010.2443|                966.0863|                 905.8163|             1.65736336E8|             1.24264224E8|              1.58036896E8|             20.271334|              39.23807|              72.761696|              20.487844|               46.45319|               60.291317|             3.0854604E7|              5.459896E7|              9.7930984E7|              1011.8|              1042.9| 0.23408826|                  0.13850115|                  0.08480615|                  0.073014595|                  0.0840593|                 0.07098916|                  0.05030614|[1011.46002197265...|\n",
            "|2017-02-04|1031.33| 1045.9|1015.16| 1042.9|   1.55064E8|1.68374118E10|2017-02-04T23:59:...|              1010.9303|               966.7013|               905.79456|               1028.2034|                983.4163|                 906.8003|             1.67387664E8|                1.36562E8|              1.46199056E8|              20.66959|             46.534164|              60.699486|              15.620085|               49.60766|               62.314327|              2.971152E7|             4.9530916E7|               7.189804E7|             1029.91|             1027.34| 0.06314347|                   0.1244449|                  0.08903939|                   0.07316914|                 0.09517477|                 0.06825123|                  0.05026714|[1031.32995605468...|\n",
            "|2017-02-05|1043.52|1043.63|1022.37|1027.34|   1.14208E8|1.65882399E10|2017-02-05T23:59:...|                1028.77|               984.0517|               906.77057|               1033.3833|                998.8226|                 910.9716|                 1.5685E8|              1.4418432E8|              1.38276784E8|             16.182587|             49.655823|              62.705578|              8.3412485|              42.715206|               66.070984|             4.3562468E7|             3.8903348E7|               6.067098E7|              1042.9|             1038.15| 0.06525109|                  0.12082761|                  0.08818704|                  0.071766526|                0.098092265|                  0.0685475|                 0.049866553|[1043.52001953125...|\n",
            "|2017-02-06| 1028.4|1044.64|1028.16|1038.15|   1.11762E8|1.67644221E10|2017-02-06T23:59:...|              1034.4166|              999.51587|                910.9343|                 1036.13|               1015.6466|                 915.2904|             1.27011336E8|             1.48974992E8|              1.32683856E8|              8.018681|             42.824635|               66.51174|               7.974252|               26.95653|                70.02584|             2.4325086E7|             3.0607858E7|              5.4631856E7|             1027.34|             1061.35| 0.14253762|                  0.09031073|                  0.10295325|                   0.07390084|                0.045242094|                  0.0673523|                  0.05150827|[1028.40002441406...|\n",
            "|2017-02-07|1040.14|1061.93|1040.14|1061.35|1.46007008E8|1.71410801E10|2017-02-07T23:59:...|              1037.3534|              1016.5417|                915.3332|                 1042.28|                1028.639|                 920.2955|             1.23992336E8|             1.46321424E8|              1.32260256E8|              7.935851|              27.24481|               70.56338|              17.377073|              23.166523|               74.918365|             1.9104452E7|             2.9824448E7|              5.4472092E7|             1038.15|             1063.07|0.088754654|                  0.09884779|                 0.110741474|                  0.075421624|                 0.03961951|                0.060927678|                 0.051241297|[1040.14001464843...|\n",
            "|2017-02-08|1062.32|1078.97|1037.49|1063.07|2.01855008E8|1.71707996E10|2017-02-08T23:59:...|                1043.62|              1029.5958|               920.30237|                 1054.19|               1039.2172|                925.63684|                1.53208E8|             1.53713568E8|               1.3425952E8|              17.22569|             23.370314|               75.48841|              13.917644|              18.497358|                79.21895|             4.5476128E7|             3.6569808E7|              5.5918688E7|             1061.35|             994.383|   0.255331|                  0.16220777|                  0.13217272|                   0.08123224|                 0.08501239|                 0.08158294|                 0.060875133|[1062.31994628906...|\n",
            "|2017-02-09| 1064.7|1088.99|953.344|994.383|    4.0722E8|1.60634491E10|2017-02-09T23:59:...|                1055.72|              1040.2671|               925.71106|                1039.601|                1036.729|                  928.527|                2.51694E8|             1.91056288E8|              1.43973264E8|             13.545051|             18.905216|              79.851265|               39.16938|              23.338017|               80.117714|            1.37553632E8|            1.02034288E8|              7.4744704E7|             1063.07|             988.674| 0.08771421|                   0.1439333|                  0.13383147|                   0.08175636|                0.096474655|                 0.08036183|                 0.060860507|[1064.69995117187...|\n",
            "|2017-02-10|995.632|998.905|946.691|988.674|   1.90452E8|1.59730534E10|2017-02-10T23:59:...|               1040.884|               1038.006|                928.6283|               1015.3757|               1030.8381|                935.55756|             2.66509008E8|             1.89509712E8|               1.3995736E8|             39.207443|             23.349155|                80.7795|              41.403023|              29.686829|                75.55537|            1.21992608E8|            1.01935528E8|              6.8435368E7|             994.383|             1004.45| 0.07345925|                  0.13883482|                  0.11088447|                   0.08234396|                 0.10114011|                 0.06910809|                  0.06068642|[995.632019042968...|\n",
            "|2017-02-11|988.898|1009.29| 982.83|1004.45|   1.02261E8|1.62296771E10|2017-02-11T23:59:...|                1016.41|              1031.9443|               935.75226|                995.8357|               1025.3452|                 942.2114|             2.33311008E8|             1.81966432E8|              1.35955184E8|              41.95569|             29.946938|              76.066536|               7.987692|              30.625404|                72.36857|            1.56932048E8|            1.06749424E8|              6.6946836E7|             988.674|             999.181|0.054967415|                  0.07204696|                  0.10971647|                   0.08304511|                0.016419016|                 0.07011126|                 0.060227588|[988.898010253906...|\n",
            "|2017-02-12|1003.52|1004.76|996.921|999.181|     6.753E7|1.61462907E10|2017-02-12T23:59:...|              996.01666|                1026.23|                942.4117|                 997.435|               1021.3226|                948.05133|                1.20081E8|             1.75298144E8|               1.3257392E8|              7.318586|             31.161638|               72.78486|               8.031621|               32.13204|               69.511536|             6.3368912E7|            1.12964496E8|              6.7778456E7|             1004.45|             990.642|0.035751875|                  0.05472618|                  0.10550229|                   0.08198861|                0.018854845|                 0.07400767|                  0.06078605|[1003.52001953125...|\n",
            "|2017-02-13|998.885| 1002.1|976.002|990.642|   1.00607E8|1.60103219E10|2017-02-13T23:59:...|                997.101|             1022.01355|                948.2031|                 998.091|               1014.5357|                953.79236|              9.0132664E7|             1.73704576E8|              1.32825384E8|             7.4724636|             32.774174|               69.99071|              6.9682345|               32.99119|               65.427666|             1.9591946E7|            1.14083312E8|              6.7640672E7|             999.181|             1004.55| 0.03519386|                  0.04197105|                  0.09016747|                     0.081204|                0.011258639|                 0.07614501|                  0.06124676|[998.885009765625...|\n",
            "|2017-02-14|991.735|1011.51|986.471|1004.55|   1.37946E8|1.62372198E10|2017-02-14T23:59:...|               998.0467|              1015.0986|               953.98956|                998.1243|              1006.42145|                 959.8841|             1.02027664E8|             1.72553008E8|              1.35056464E8|              5.937058|              33.41253|               65.92496|              7.0139523|              25.748005|                61.07744|             3.5229492E7|            1.14449592E8|              6.6627828E7|             990.642|             1007.48|0.034663208|                  0.03520298|                 0.082440116|                  0.080391176|               5.4439117E-4|                 0.07900329|                 0.061710984|[991.734985351562...|\n",
            "|2017-02-15|1006.21|1008.84|1001.58|1007.48|   8.97594E7|1.62863288E10|2017-02-15T23:59:...|              998.94336|              1007.0829|               960.13715|               1000.8907|                  998.48|                965.74896|             1.09437464E8|             1.56539344E8|              1.35289936E8|              7.237676|             26.133514|               61.63058|               8.995699|              7.3976855|               56.612076|             2.5277856E7|            1.17468696E8|              6.6450272E7|             1004.55|             1027.44|  0.0338397|                  0.03456559|                   0.0507985|                   0.08012487|               6.8233826E-4|                0.022028442|                 0.061900083|[1006.21002197265...|\n",
            "|2017-02-16|1007.65|1033.37|1007.65|1027.44|   1.22277E8|1.66109051E10|2017-02-16T23:59:...|               1001.865|              998.93286|                966.0273|               1013.1566|              1003.20245|                969.73236|               1.166608E8|               1.158332E8|                 1.34196E8|              8.802334|              7.227179|              57.138016|              12.456181|              12.872071|                56.60832|             2.4579328E7|             3.9848772E7|              6.6383088E7|             1007.48|             1046.21| 0.07929845|                  0.04926712|                  0.04959625|                   0.08109804|                0.026011156|                0.019794246|                 0.061640773|[1007.65002441406...|\n",
            "|2017-02-17|1026.12|1053.17|1025.64|1046.21|   1.36474E8|1.69163387E10|2017-02-17T23:59:...|             1013.32666|             1003.28827|                969.9188|               1027.0433|               1011.4219|                975.05206|             1.16170136E8|             1.08122056E8|              1.31222568E8|             11.102722|             12.307514|               57.12205|              19.368046|              18.972807|                56.02413|             2.3948566E7|             2.5720916E7|              6.4102796E7|             1027.44|             1054.42| 0.06848596|                  0.06054137|                  0.04888578|                  0.081760325|                0.023747882|                  0.0188623|                  0.06138597|[1026.11999511718...|\n",
            "|2017-02-18|1049.21| 1061.1|1046.96|1054.42| 9.9073504E7|1.70510653E10|2017-02-18T23:59:...|                1027.66|              1011.9043|                975.2813|                 1042.69|               1018.5604|                 980.2303|             1.19274832E8|             1.07666704E8|              1.31004184E8|             20.822754|             19.540236|               56.74912|              13.830145|                24.5062|               55.938522|             1.8880122E7|             2.5869756E7|              6.4204088E7|             1046.21|             1047.87| 0.21813941|                  0.12197461|                  0.07219607|                   0.08130178|                 0.08345645|                 0.06700863|                  0.06026699|[1049.2099609375,...|\n",
            "|2017-02-19|1054.76|1056.81|1043.46|1047.87| 7.7423296E7|1.69469133E10|2017-02-19T23:59:...|              1043.3633|              1019.2243|                980.5009|                  1049.5|                1025.516|                 985.3251|               1.043236E8|             1.09080032E8|              1.30694016E8|             15.188813|             24.772848|              56.613358|               4.340933|               24.99384|                54.86066|             2.9873384E7|             2.3470522E7|              6.4447376E7|             1054.42|             1079.98|0.055686403|                  0.11410393|                  0.07504386|                   0.08200586|                 0.09032438|                 0.06561067|                 0.059823893|[1054.76000976562...|\n",
            "+----------+-------+-------+-------+-------+------------+-------------+--------------------+-----------------------+-----------------------+------------------------+------------------------+------------------------+-------------------------+-------------------------+-------------------------+--------------------------+----------------------+----------------------+-----------------------+-----------------------+-----------------------+------------------------+------------------------+------------------------+-------------------------+--------------------+--------------------+-----------+----------------------------+----------------------------+-----------------------------+---------------------------+---------------------------+----------------------------+--------------------+\n",
            "only showing top 20 rows\n",
            "\n"
          ]
        }
      ]
    },
    {
      "cell_type": "markdown",
      "source": [
        "# XGBOOST\n",
        "\n"
      ],
      "metadata": {
        "id": "s-JINQRX97hp"
      }
    },
    {
      "cell_type": "code",
      "source": [
        "!pip install --user virtualenv\n",
        "!virtualenv xgboost_env\n",
        "!python -m venv xgboost_env\n",
        "!source /content/xgboost_env/bin/activate; pip install pyarrow pandas venv-pack xgboost\n",
        "!source /content/xgboost_env/bin/activate; pip install cudf-cu11 --extra-index-url=https://pypi.ngc.nvidia.com\n",
        "!source /content/xgboost_env/bin/activate; venv-pack -o xgboost_env.tar.gz\n",
        "\n",
        "from pyspark.ml.evaluation import RegressionEvaluator"
      ],
      "metadata": {
        "id": "D1D8UFFeUfUH",
        "colab": {
          "base_uri": "https://localhost:8080/"
        },
        "outputId": "9e6ba40c-9a1e-4305-a0a6-30bcad98e0f1"
      },
      "execution_count": null,
      "outputs": [
        {
          "output_type": "stream",
          "name": "stdout",
          "text": [
            "Looking in indexes: https://pypi.org/simple, https://us-python.pkg.dev/colab-wheels/public/simple/\n",
            "Collecting virtualenv\n",
            "  Downloading virtualenv-20.23.0-py3-none-any.whl (3.3 MB)\n",
            "\u001b[2K     \u001b[90m━━━━━━━━━━━━━━━━━━━━━━━━━━━━━━━━━━━━━━━━\u001b[0m \u001b[32m3.3/3.3 MB\u001b[0m \u001b[31m73.9 MB/s\u001b[0m eta \u001b[36m0:00:00\u001b[0m\n",
            "\u001b[?25hCollecting distlib<1,>=0.3.6 (from virtualenv)\n",
            "  Downloading distlib-0.3.6-py2.py3-none-any.whl (468 kB)\n",
            "\u001b[2K     \u001b[90m━━━━━━━━━━━━━━━━━━━━━━━━━━━━━━━━━━━━━━\u001b[0m \u001b[32m468.5/468.5 kB\u001b[0m \u001b[31m48.8 MB/s\u001b[0m eta \u001b[36m0:00:00\u001b[0m\n",
            "\u001b[?25hRequirement already satisfied: filelock<4,>=3.11 in /usr/local/lib/python3.10/dist-packages (from virtualenv) (3.12.0)\n",
            "Requirement already satisfied: platformdirs<4,>=3.2 in /usr/local/lib/python3.10/dist-packages (from virtualenv) (3.3.0)\n",
            "Installing collected packages: distlib, virtualenv\n",
            "\u001b[33m  WARNING: The script virtualenv is installed in '/root/.local/bin' which is not on PATH.\n",
            "  Consider adding this directory to PATH or, if you prefer to suppress this warning, use --no-warn-script-location.\u001b[0m\u001b[33m\n",
            "\u001b[0mSuccessfully installed distlib-0.3.6 virtualenv-20.23.0\n",
            "/bin/bash: virtualenv: command not found\n",
            "Error: Command '['/content/xgboost_env/bin/python3', '-m', 'ensurepip', '--upgrade', '--default-pip']' returned non-zero exit status 1.\n",
            "/bin/bash: /content/xgboost_env/bin/activate: No such file or directory\n",
            "Looking in indexes: https://pypi.org/simple, https://us-python.pkg.dev/colab-wheels/public/simple/\n",
            "Requirement already satisfied: pyarrow in /usr/local/lib/python3.10/dist-packages (9.0.0)\n",
            "Requirement already satisfied: pandas in /usr/local/lib/python3.10/dist-packages (1.5.3)\n",
            "Collecting venv-pack\n",
            "  Downloading venv_pack-0.2.0-py2.py3-none-any.whl (16 kB)\n",
            "Requirement already satisfied: xgboost in /usr/local/lib/python3.10/dist-packages (1.7.5)\n",
            "Requirement already satisfied: numpy>=1.16.6 in /usr/local/lib/python3.10/dist-packages (from pyarrow) (1.22.4)\n",
            "Requirement already satisfied: python-dateutil>=2.8.1 in /usr/local/lib/python3.10/dist-packages (from pandas) (2.8.2)\n",
            "Requirement already satisfied: pytz>=2020.1 in /usr/local/lib/python3.10/dist-packages (from pandas) (2022.7.1)\n",
            "Requirement already satisfied: scipy in /usr/local/lib/python3.10/dist-packages (from xgboost) (1.10.1)\n",
            "Requirement already satisfied: six>=1.5 in /usr/local/lib/python3.10/dist-packages (from python-dateutil>=2.8.1->pandas) (1.16.0)\n",
            "Installing collected packages: venv-pack\n",
            "Successfully installed venv-pack-0.2.0\n",
            "/bin/bash: /content/xgboost_env/bin/activate: No such file or directory\n",
            "Looking in indexes: https://pypi.org/simple, https://us-python.pkg.dev/colab-wheels/public/simple/, https://pypi.ngc.nvidia.com\n",
            "Collecting cudf-cu11\n",
            "  Downloading cudf_cu11-23.4.1.tar.gz (6.8 kB)\n",
            "  \u001b[1;31merror\u001b[0m: \u001b[1msubprocess-exited-with-error\u001b[0m\n",
            "  \n",
            "  \u001b[31m×\u001b[0m \u001b[32mpython setup.py egg_info\u001b[0m did not run successfully.\n",
            "  \u001b[31m│\u001b[0m exit code: \u001b[1;36m1\u001b[0m\n",
            "  \u001b[31m╰─>\u001b[0m See above for output.\n",
            "  \n",
            "  \u001b[1;35mnote\u001b[0m: This error originates from a subprocess, and is likely not a problem with pip.\n",
            "  Preparing metadata (setup.py) ... \u001b[?25l\u001b[?25herror\n",
            "\u001b[1;31merror\u001b[0m: \u001b[1mmetadata-generation-failed\u001b[0m\n",
            "\n",
            "\u001b[31m×\u001b[0m Encountered error while generating package metadata.\n",
            "\u001b[31m╰─>\u001b[0m See above for output.\n",
            "\n",
            "\u001b[1;35mnote\u001b[0m: This is an issue with the package mentioned above, not pip.\n",
            "\u001b[1;36mhint\u001b[0m: See above for details.\n",
            "/bin/bash: /content/xgboost_env/bin/activate: No such file or directory\n",
            "Collecting packages...\n",
            "VenvPackError: Current environment is not a virtual environment\n"
          ]
        }
      ]
    },
    {
      "cell_type": "code",
      "source": [
        "# Split dataset into train and test\n",
        "from pyspark.sql.functions import unix_timestamp\n",
        "# featurized_spark_df = featurized_spark_df.orderBy(unix_timestamp(featurized_spark_df[\"date\"], \"yyyy-MM-dd\").cast(\"timestamp\"))\n",
        "train_spark_df, test_spark_df = featurized_spark_df.limit(int(featurized_spark_df.count()*.80)), featurized_spark_df.subtract(featurized_spark_df.limit(int(featurized_spark_df.count()*.80)))"
      ],
      "metadata": {
        "id": "SjYmZRU_nHx2"
      },
      "execution_count": null,
      "outputs": []
    },
    {
      "cell_type": "code",
      "source": [
        "trainRows = train_spark_df.count()\n",
        "print(f\"Training Samples count : {trainRows}\")\n",
        "testRows = test_spark_df.count()\n",
        "print(f\"Testing Samples count : {testRows}\")"
      ],
      "metadata": {
        "id": "yl6A1OsN1tRX",
        "colab": {
          "base_uri": "https://localhost:8080/"
        },
        "outputId": "4f89a7e2-542f-4cd8-a1ab-f0692d418cd7"
      },
      "execution_count": null,
      "outputs": [
        {
          "output_type": "stream",
          "name": "stdout",
          "text": [
            "Training Samples count : 560\n",
            "Testing Samples count : 140\n"
          ]
        }
      ]
    },
    {
      "cell_type": "code",
      "source": [
        "# This is an XGBoost extension for GPU acceleration. On CPU, the convention established by the spark-ml library is used, where all features are stored in a single dataframe column\n",
        "\n",
        "from xgboost.spark import SparkXGBRegressor\n",
        "spark_reg_estimator = SparkXGBRegressor(\n",
        "  features_col='features',\n",
        "  label_col='Next Day Close Price',\n",
        "  num_workers=1,\n",
        "  use_gpu=True\n",
        ")"
      ],
      "metadata": {
        "id": "jSQu12nOkU95"
      },
      "execution_count": null,
      "outputs": []
    },
    {
      "cell_type": "markdown",
      "source": [
        "## Hyperparameter Optimization"
      ],
      "metadata": {
        "id": "DKv7YvUNOl7i"
      }
    },
    {
      "cell_type": "code",
      "source": [
        "from pyspark.ml.tuning import ParamGridBuilder, CrossValidator, CrossValidatorModel, TrainValidationSplit, TrainValidationSplitModel\n",
        "from multiprocessing.pool import ThreadPool\n",
        "\n",
        "def _parallelFitTasks(est, train, eva, validation, epm):\n",
        "    modelIter = est.fitMultiple(train, epm)\n",
        "\n",
        "    def singleTask():\n",
        "        index, model = next(modelIter)\n",
        "        metric = eva.evaluate(model.transform(validation, epm[index]))\n",
        "        return index, metric\n",
        "\n",
        "    return [singleTask] * len(epm)\n",
        "\n",
        "def minimum(a,b):\n",
        "  return  b if a > b else a\n",
        "\n",
        "\n",
        "class CustomTrainValidationSplit(TrainValidationSplit):\n",
        "    def _fit(self, dataset):\n",
        "      est = self.getOrDefault(self.estimator)\n",
        "      epm = self.getOrDefault(self.estimatorParamMaps)\n",
        "      numModels = len(epm)\n",
        "      eva = self.getOrDefault(self.evaluator)\n",
        "      tRatio = self.getOrDefault(self.trainRatio)\n",
        "      seed = self.getOrDefault(self.seed)\n",
        "      randCol = self.uid + \"_rand\"\n",
        "      train, validation = dataset.limit(int(dataset.count()*(tRatio))), dataset.subtract(dataset.limit(int(dataset.count()*(tRatio))))   \n",
        "      trainRows = train.count()\n",
        "      print(f\"Train Samples count : {trainRows}\")\n",
        "      valRows = validation.count()\n",
        "      print(f\"Val Samples count : {valRows}\")\n",
        "\n",
        "\n",
        "      tasks = _parallelFitTasks(est, train, eva, validation, epm)\n",
        "      pool = ThreadPool(processes= minimum(self.getParallelism(), numModels))\n",
        "      metrics = [None] * numModels\n",
        "      for j, metric in pool.imap_unordered(lambda f: f(), tasks):\n",
        "          metrics[j] = metric\n",
        "      train.unpersist()\n",
        "      validation.unpersist()\n",
        "\n",
        "      if eva.isLargerBetter():\n",
        "          bestIndex = np.argmax(metrics)\n",
        "      else:\n",
        "          bestIndex = np.argmin(metrics)\n",
        "      bestModel = est.fit(dataset, epm[bestIndex])\n",
        "      return self._copyValues(TrainValidationSplitModel(bestModel, metrics))\n"
      ],
      "metadata": {
        "id": "lv3l_cK8eUhN"
      },
      "execution_count": null,
      "outputs": []
    },
    {
      "cell_type": "code",
      "source": [
        "from pyspark.ml.evaluation import RegressionEvaluator\n",
        "import numpy as np\n",
        "\n",
        "evaluator = RegressionEvaluator(metricName=\"rmse\",\n",
        "                                labelCol=spark_reg_estimator.getLabelCol(),\n",
        "                                predictionCol=spark_reg_estimator.getPredictionCol())\n",
        "\n",
        "# Parameter grid search for xgboost\n",
        "\n",
        "paramSearchGrid = (ParamGridBuilder()\n",
        "             .addGrid(spark_reg_estimator.max_depth,[8])\n",
        "             .addGrid(spark_reg_estimator.n_estimators, [100])\n",
        "             .addGrid(spark_reg_estimator.gamma, [0.001])\n",
        "             .addGrid(spark_reg_estimator.learning_rate, [0.1])\n",
        "             .addGrid(spark_reg_estimator.base_score, [0.7])\n",
        "             .build())\n",
        "\n",
        "\n",
        "# paramSearchGrid = (ParamGridBuilder()\n",
        "#              .addGrid(spark_reg_estimator.max_depth,[4, 6, 8])\n",
        "#              .addGrid(spark_reg_estimator.n_estimators, [100, 200, 300])\n",
        "#              .addGrid(spark_reg_estimator.gamma, [0.001, 0.01, 0.1])\n",
        "#              .addGrid(spark_reg_estimator.learning_rate, [0.001, 0.01, 0.1])\n",
        "#              .addGrid(spark_reg_estimator.base_score, [0.3, 0.5, 0.7])\n",
        "#              .build())\n",
        "\n",
        "# Grid search settings from the paper\n",
        "# paramSearchGrid = (ParamGridBuilder()\n",
        "#              .addGrid(spark_reg_estimator.max_depth,[2, 3, 4, 5, 6, 7, 8, 10])\n",
        "#              .addGrid(spark_reg_estimator.n_estimators, [50, 100, 200])\n",
        "#              .addGrid(spark_reg_estimator.gamma, [0, 0.001, 0.01, 0.1])\n",
        "#              .addGrid(spark_reg_estimator.learning_rate, [0.001, 0.01, 0.1, 0.15, 0.2])\n",
        "#              .addGrid(spark_reg_estimator.base_score, [0.3, 0.5, 0.7])\n",
        "#              .build())\n",
        "\n",
        "\n",
        "print(\"Number of combinations:\", len(paramSearchGrid))\n",
        "\n",
        "\n",
        "cv = CustomTrainValidationSplit(estimator=spark_reg_estimator, estimatorParamMaps=paramSearchGrid, evaluator=evaluator, trainRatio=0.8)\n",
        "xgb_regressor_model = cv.fit(train_spark_df)"
      ],
      "metadata": {
        "id": "7ywripJiaLRj",
        "colab": {
          "base_uri": "https://localhost:8080/"
        },
        "outputId": "ea9eba8b-3310-4731-cd79-0ac09b6cc4b2"
      },
      "execution_count": null,
      "outputs": [
        {
          "output_type": "stream",
          "name": "stdout",
          "text": [
            "Number of combinations: 1\n",
            "Train Samples count : 448\n"
          ]
        },
        {
          "output_type": "stream",
          "name": "stderr",
          "text": [
            "WARNING:SparkXGBRegressor:You enabled use_gpu in spark local mode. Please make sure your local node has at least 1 GPUs\n"
          ]
        },
        {
          "output_type": "stream",
          "name": "stdout",
          "text": [
            "Val Samples count : 112\n"
          ]
        },
        {
          "output_type": "stream",
          "name": "stderr",
          "text": [
            "/usr/local/lib/python3.10/dist-packages/xgboost/sklearn.py:782: UserWarning: Loading a native XGBoost model with Scikit-Learn interface.\n",
            "  warnings.warn(\"Loading a native XGBoost model with Scikit-Learn interface.\")\n",
            "WARNING:SparkXGBRegressor:You enabled use_gpu in spark local mode. Please make sure your local node has at least 1 GPUs\n"
          ]
        }
      ]
    },
    {
      "cell_type": "code",
      "source": [
        "# xgb_regressor_model.bestModel.get_booster().save_model(\"bestXGBModel.json\")\n",
        "xgb_regressor_model.bestModel.save(\"/tmp/best_model243e\")\n",
        "xgb_regressor_model.bestModel.extractParamMap()\n",
        "bestModel = xgb_regressor_model.bestModel\n"
      ],
      "metadata": {
        "colab": {
          "base_uri": "https://localhost:8080/"
        },
        "id": "j2eMXc8qN7s9",
        "outputId": "c0789a40-a1e6-411e-a813-06daf8793c64"
      },
      "execution_count": null,
      "outputs": [
        {
          "output_type": "stream",
          "name": "stderr",
          "text": [
            "WARNING:SparkXGBRegressorModel:You enabled use_gpu in spark local mode. Please make sure your local node has at least 1 GPUs\n"
          ]
        }
      ]
    },
    {
      "cell_type": "markdown",
      "source": [
        "## Retrieve Best Model"
      ],
      "metadata": {
        "id": "02ENII7IOaR1"
      }
    },
    {
      "cell_type": "code",
      "source": [
        "from xgboost.spark.core import SparkXGBRegressorModel\n",
        "\n",
        "bestModel = SparkXGBRegressorModel.load(\"/tmp/best_model243e\")"
      ],
      "metadata": {
        "id": "fVcaAyjfOvRy"
      },
      "execution_count": null,
      "outputs": []
    },
    {
      "cell_type": "code",
      "source": [
        "# Print the best params\n",
        "bestModel.extractParamMap()"
      ],
      "metadata": {
        "id": "Dbh3AWD6gMrB",
        "colab": {
          "base_uri": "https://localhost:8080/"
        },
        "outputId": "679a0be3-b0f1-40fc-8fc0-d5cba2d61802"
      },
      "execution_count": null,
      "outputs": [
        {
          "output_type": "execute_result",
          "data": {
            "text/plain": [
              "{Param(parent='SparkXGBRegressorModel_7766fc74dd83', name='arbitrary_params_dict', doc='arbitrary_params_dict This parameter holds all of the additional parameters which are not exposed as the the XGBoost Spark estimator params but can be recognized by underlying XGBoost library. It is stored as a dictionary.'): {},\n",
              " Param(parent='SparkXGBRegressorModel_7766fc74dd83', name='base_score', doc='Refer to XGBoost doc of xgboost.sklearn.XGBRegressor for this param base_score'): 0.7,\n",
              " Param(parent='SparkXGBRegressorModel_7766fc74dd83', name='booster', doc='Refer to XGBoost doc of xgboost.sklearn.XGBRegressor for this param booster'): None,\n",
              " Param(parent='SparkXGBRegressorModel_7766fc74dd83', name='callbacks', doc='Refer to XGBoost doc of xgboost.sklearn.XGBRegressor.fit() for this param callbacksThe callbacks can be arbitrary functions. It is saved using cloudpickle which is not a fully self-contained format. It may fail to load with different versions of dependencies.'): None,\n",
              " Param(parent='SparkXGBRegressorModel_7766fc74dd83', name='colsample_bylevel', doc='Refer to XGBoost doc of xgboost.sklearn.XGBRegressor for this param colsample_bylevel'): None,\n",
              " Param(parent='SparkXGBRegressorModel_7766fc74dd83', name='colsample_bynode', doc='Refer to XGBoost doc of xgboost.sklearn.XGBRegressor for this param colsample_bynode'): None,\n",
              " Param(parent='SparkXGBRegressorModel_7766fc74dd83', name='colsample_bytree', doc='Refer to XGBoost doc of xgboost.sklearn.XGBRegressor for this param colsample_bytree'): None,\n",
              " Param(parent='SparkXGBRegressorModel_7766fc74dd83', name='early_stopping_rounds', doc='Refer to XGBoost doc of xgboost.sklearn.XGBRegressor.fit() for this param early_stopping_rounds'): None,\n",
              " Param(parent='SparkXGBRegressorModel_7766fc74dd83', name='enable_sparse_data_optim', doc='This stores the boolean config of enabling sparse data optimization, if enabled, Xgboost DMatrix object will be constructed from sparse matrix instead of dense matrix. This config is disabled by default. If most of examples in your training dataset contains sparse features, we suggest to enable this config.'): False,\n",
              " Param(parent='SparkXGBRegressorModel_7766fc74dd83', name='eval_metric', doc='Refer to XGBoost doc of xgboost.sklearn.XGBRegressor.fit() for this param eval_metric'): None,\n",
              " Param(parent='SparkXGBRegressorModel_7766fc74dd83', name='feature_names', doc='A list of str to specify feature names.'): None,\n",
              " Param(parent='SparkXGBRegressorModel_7766fc74dd83', name='feature_types', doc='Refer to XGBoost doc of xgboost.sklearn.XGBRegressor for this param feature_types'): None,\n",
              " Param(parent='SparkXGBRegressorModel_7766fc74dd83', name='feature_weights', doc='Refer to XGBoost doc of xgboost.sklearn.XGBRegressor.fit() for this param feature_weights'): None,\n",
              " Param(parent='SparkXGBRegressorModel_7766fc74dd83', name='featuresCol', doc='features column name.'): 'features',\n",
              " Param(parent='SparkXGBRegressorModel_7766fc74dd83', name='features_cols', doc='feature column names.'): [],\n",
              " Param(parent='SparkXGBRegressorModel_7766fc74dd83', name='force_repartition', doc='A boolean variable. Set force_repartition=true if you want to force the input dataset to be repartitioned before XGBoost training.Note: The auto repartitioning judgement is not fully accurate, so it is recommendedto have force_repartition be True.'): False,\n",
              " Param(parent='SparkXGBRegressorModel_7766fc74dd83', name='gamma', doc='Refer to XGBoost doc of xgboost.sklearn.XGBRegressor for this param gamma'): 0.001,\n",
              " Param(parent='SparkXGBRegressorModel_7766fc74dd83', name='grow_policy', doc='Refer to XGBoost doc of xgboost.sklearn.XGBRegressor for this param grow_policy'): None,\n",
              " Param(parent='SparkXGBRegressorModel_7766fc74dd83', name='importance_type', doc='Refer to XGBoost doc of xgboost.sklearn.XGBRegressor for this param importance_type'): None,\n",
              " Param(parent='SparkXGBRegressorModel_7766fc74dd83', name='interaction_constraints', doc='Refer to XGBoost doc of xgboost.sklearn.XGBRegressor for this param interaction_constraints'): None,\n",
              " Param(parent='SparkXGBRegressorModel_7766fc74dd83', name='iteration_range', doc='Refer to XGBoost doc of xgboost.sklearn.XGBRegressor.predict() for this param iteration_range'): None,\n",
              " Param(parent='SparkXGBRegressorModel_7766fc74dd83', name='labelCol', doc='label column name.'): 'Next Day Close Price',\n",
              " Param(parent='SparkXGBRegressorModel_7766fc74dd83', name='learning_rate', doc='Refer to XGBoost doc of xgboost.sklearn.XGBRegressor for this param learning_rate'): 0.1,\n",
              " Param(parent='SparkXGBRegressorModel_7766fc74dd83', name='max_bin', doc='Refer to XGBoost doc of xgboost.sklearn.XGBRegressor for this param max_bin'): None,\n",
              " Param(parent='SparkXGBRegressorModel_7766fc74dd83', name='max_cat_threshold', doc='Refer to XGBoost doc of xgboost.sklearn.XGBRegressor for this param max_cat_threshold'): None,\n",
              " Param(parent='SparkXGBRegressorModel_7766fc74dd83', name='max_cat_to_onehot', doc='Refer to XGBoost doc of xgboost.sklearn.XGBRegressor for this param max_cat_to_onehot'): None,\n",
              " Param(parent='SparkXGBRegressorModel_7766fc74dd83', name='max_delta_step', doc='Refer to XGBoost doc of xgboost.sklearn.XGBRegressor for this param max_delta_step'): None,\n",
              " Param(parent='SparkXGBRegressorModel_7766fc74dd83', name='max_depth', doc='Refer to XGBoost doc of xgboost.sklearn.XGBRegressor for this param max_depth'): 8,\n",
              " Param(parent='SparkXGBRegressorModel_7766fc74dd83', name='max_leaves', doc='Refer to XGBoost doc of xgboost.sklearn.XGBRegressor for this param max_leaves'): None,\n",
              " Param(parent='SparkXGBRegressorModel_7766fc74dd83', name='min_child_weight', doc='Refer to XGBoost doc of xgboost.sklearn.XGBRegressor for this param min_child_weight'): None,\n",
              " Param(parent='SparkXGBRegressorModel_7766fc74dd83', name='missing', doc='Refer to XGBoost doc of xgboost.sklearn.XGBRegressor for this param missing'): nan,\n",
              " Param(parent='SparkXGBRegressorModel_7766fc74dd83', name='monotone_constraints', doc='Refer to XGBoost doc of xgboost.sklearn.XGBRegressor for this param monotone_constraints'): None,\n",
              " Param(parent='SparkXGBRegressorModel_7766fc74dd83', name='n_estimators', doc='Refer to XGBoost doc of xgboost.sklearn.XGBRegressor for this param n_estimators'): 100,\n",
              " Param(parent='SparkXGBRegressorModel_7766fc74dd83', name='ntree_limit', doc='Refer to XGBoost doc of xgboost.sklearn.XGBRegressor.predict() for this param ntree_limit'): None,\n",
              " Param(parent='SparkXGBRegressorModel_7766fc74dd83', name='num_parallel_tree', doc='Refer to XGBoost doc of xgboost.sklearn.XGBRegressor for this param num_parallel_tree'): None,\n",
              " Param(parent='SparkXGBRegressorModel_7766fc74dd83', name='num_workers', doc='The number of XGBoost workers. Each XGBoost worker corresponds to one spark task.'): 1,\n",
              " Param(parent='SparkXGBRegressorModel_7766fc74dd83', name='objective', doc='Refer to XGBoost doc of xgboost.sklearn.XGBRegressor for this param objective'): 'reg:squarederror',\n",
              " Param(parent='SparkXGBRegressorModel_7766fc74dd83', name='predictionCol', doc='prediction column name.'): 'prediction',\n",
              " Param(parent='SparkXGBRegressorModel_7766fc74dd83', name='predictor', doc='Refer to XGBoost doc of xgboost.sklearn.XGBRegressor for this param predictor'): None,\n",
              " Param(parent='SparkXGBRegressorModel_7766fc74dd83', name='random_state', doc='Refer to XGBoost doc of xgboost.sklearn.XGBRegressor for this param random_state'): None,\n",
              " Param(parent='SparkXGBRegressorModel_7766fc74dd83', name='reg_alpha', doc='Refer to XGBoost doc of xgboost.sklearn.XGBRegressor for this param reg_alpha'): None,\n",
              " Param(parent='SparkXGBRegressorModel_7766fc74dd83', name='reg_lambda', doc='Refer to XGBoost doc of xgboost.sklearn.XGBRegressor for this param reg_lambda'): None,\n",
              " Param(parent='SparkXGBRegressorModel_7766fc74dd83', name='repartition_random_shuffle', doc='A boolean variable. Set repartition_random_shuffle=true if you want to random shuffle dataset when repartitioning is required. By default is True.'): False,\n",
              " Param(parent='SparkXGBRegressorModel_7766fc74dd83', name='sampling_method', doc='Refer to XGBoost doc of xgboost.sklearn.XGBRegressor for this param sampling_method'): None,\n",
              " Param(parent='SparkXGBRegressorModel_7766fc74dd83', name='scale_pos_weight', doc='Refer to XGBoost doc of xgboost.sklearn.XGBRegressor for this param scale_pos_weight'): None,\n",
              " Param(parent='SparkXGBRegressorModel_7766fc74dd83', name='subsample', doc='Refer to XGBoost doc of xgboost.sklearn.XGBRegressor for this param subsample'): None,\n",
              " Param(parent='SparkXGBRegressorModel_7766fc74dd83', name='tree_method', doc='Refer to XGBoost doc of xgboost.sklearn.XGBRegressor for this param tree_method'): None,\n",
              " Param(parent='SparkXGBRegressorModel_7766fc74dd83', name='use_gpu', doc='A boolean variable. Set use_gpu=true if the executors are running on GPU instances. Currently, only one GPU per task is supported.'): True,\n",
              " Param(parent='SparkXGBRegressorModel_7766fc74dd83', name='validate_parameters', doc='Refer to XGBoost doc of xgboost.sklearn.XGBRegressor for this param validate_parameters'): None,\n",
              " Param(parent='SparkXGBRegressorModel_7766fc74dd83', name='verbose', doc='Refer to XGBoost doc of xgboost.sklearn.XGBRegressor.fit() for this param verbose'): True,\n",
              " Param(parent='SparkXGBRegressorModel_7766fc74dd83', name='verbosity', doc='Refer to XGBoost doc of xgboost.sklearn.XGBRegressor for this param verbosity'): None,\n",
              " Param(parent='SparkXGBRegressorModel_7766fc74dd83', name='xgb_model', doc='Refer to XGBoost doc of xgboost.sklearn.XGBRegressor.fit() for this param xgb_model'): None}"
            ]
          },
          "metadata": {},
          "execution_count": 89
        }
      ]
    },
    {
      "cell_type": "code",
      "source": [
        "from pyspark.sql.functions import avg, lit\n",
        "\n",
        "# Run model on test set\n",
        "transformed_test_spark_dataframe = bestModel.transform(test_spark_df)\n",
        "\n",
        "# Add a new column with the baseline (average value) to the DataFrame\n",
        "baseline = train_spark_df.select(avg(col(\"Next Day Close Price\"))).first()[0]\n",
        "transformed_test_spark_dataframe = transformed_test_spark_dataframe.withColumn(\"Baseline (avrg)\", lit(baseline))"
      ],
      "metadata": {
        "id": "YhL3rszhmxWU"
      },
      "execution_count": null,
      "outputs": []
    },
    {
      "cell_type": "markdown",
      "source": [
        "# Results & Plotting"
      ],
      "metadata": {
        "id": "Pr5Z1qX7-Dh9"
      }
    },
    {
      "cell_type": "code",
      "source": [
        "from pyspark.sql.functions import col\n",
        "\n",
        "transformed_test_spark_dataframe.select(col(\"date\"), col(\"Next Day Close Price\"), col(\"prediction\"), col('Baseline (avrg)')).show()"
      ],
      "metadata": {
        "id": "nGDs_5eeuQM2",
        "colab": {
          "base_uri": "https://localhost:8080/"
        },
        "outputId": "629cc84e-cde8-47ac-c7f4-e7c918fafa2c"
      },
      "execution_count": null,
      "outputs": [
        {
          "output_type": "stream",
          "name": "stdout",
          "text": [
            "+----------+--------------------+-----------------+-----------------+\n",
            "|      date|Next Day Close Price|       prediction|  Baseline (avrg)|\n",
            "+----------+--------------------+-----------------+-----------------+\n",
            "|2018-08-29|             6978.23| 7189.15185546875|6085.542007882254|\n",
            "|2018-11-09|             6409.22|  6553.6826171875|6085.542007882254|\n",
            "|2018-12-23|            4078.599|    3900.89453125|6085.542007882254|\n",
            "|2018-10-03|             6576.69|  6474.7841796875|6085.542007882254|\n",
            "|2018-12-27|           3923.9187| 3902.81689453125|6085.542007882254|\n",
            "|2018-08-16|             6580.63|   6571.150390625|6085.542007882254|\n",
            "|2018-08-22|             6534.88|      6787.046875|6085.542007882254|\n",
            "|2018-10-28|             6332.63|    6184.07421875|6085.542007882254|\n",
            "|2018-09-25|              6495.0| 6657.05224609375|6085.542007882254|\n",
            "|2018-08-15|             6334.73| 6450.32568359375|6085.542007882254|\n",
            "|2018-10-06|             6602.95|     6423.3671875|6085.542007882254|\n",
            "|2018-12-29|           3865.9526|3694.138427734375|6085.542007882254|\n",
            "|2018-09-28|             6601.96|    6871.22265625|6085.542007882254|\n",
            "|2018-10-18|             6465.41| 6770.97216796875|6085.542007882254|\n",
            "|2018-11-23|             3880.76|  4802.0634765625|6085.542007882254|\n",
            "|2018-09-12|             6517.31|  6393.2861328125|6085.542007882254|\n",
            "|2018-10-04|             6622.48| 6539.94580078125|6085.542007882254|\n",
            "|2018-11-06|             6530.14| 6620.51806640625|6085.542007882254|\n",
            "|2018-12-31|             3843.52| 3695.51611328125|6085.542007882254|\n",
            "|2018-12-21|           4014.1826| 3877.64111328125|6085.542007882254|\n",
            "+----------+--------------------+-----------------+-----------------+\n",
            "only showing top 20 rows\n",
            "\n"
          ]
        }
      ]
    },
    {
      "cell_type": "code",
      "source": [
        "from pyspark.sql.functions import *\n",
        "\n",
        "ordered_transformed_test_spark_dataframe = transformed_test_spark_dataframe.orderBy(unix_timestamp(transformed_test_spark_dataframe[\"Date\"], \"yyyy-MM-dd\").cast(\"timestamp\"))\n",
        "ordered_transformed_test_spark_dataframe.select(col(\"date\"), col(\"Next Day Close Price\"), col(\"close\")).show()\n",
        "#unix_timestamp(transformed_test_spark_dataframe[\"Date\"], \"MMM dd, yyyy\").cast(\"timestamp\")"
      ],
      "metadata": {
        "id": "fFIm0p4v_gVT",
        "colab": {
          "base_uri": "https://localhost:8080/"
        },
        "outputId": "f2dcd030-96ae-4427-ceb6-b4020cd8f7d8"
      },
      "execution_count": null,
      "outputs": [
        {
          "output_type": "stream",
          "name": "stdout",
          "text": [
            "+----------+--------------------+-------+\n",
            "|      date|Next Day Close Price|  close|\n",
            "+----------+--------------------+-------+\n",
            "|2018-08-14|             6308.52|6199.71|\n",
            "|2018-08-15|             6334.73|6308.52|\n",
            "|2018-08-16|             6580.63|6334.73|\n",
            "|2018-08-17|             6423.76|6580.63|\n",
            "|2018-08-18|             6506.07|6423.76|\n",
            "|2018-08-19|             6308.53|6506.07|\n",
            "|2018-08-20|             6488.76|6308.53|\n",
            "|2018-08-21|             6376.71|6488.76|\n",
            "|2018-08-22|             6534.88|6376.71|\n",
            "|2018-08-23|             6719.96|6534.88|\n",
            "|2018-08-24|             6763.19|6719.96|\n",
            "|2018-08-25|             6707.26|6763.19|\n",
            "|2018-08-26|             6884.64|6707.26|\n",
            "|2018-08-27|             7096.28|6884.64|\n",
            "|2018-08-28|             7047.16|7096.28|\n",
            "|2018-08-29|             6978.23|7047.16|\n",
            "|2018-08-30|             7037.58|6978.23|\n",
            "|2018-08-31|             7193.25|7037.58|\n",
            "|2018-09-01|             7272.72|7193.25|\n",
            "|2018-09-02|             7260.06|7272.72|\n",
            "+----------+--------------------+-------+\n",
            "only showing top 20 rows\n",
            "\n"
          ]
        }
      ]
    },
    {
      "cell_type": "code",
      "source": [
        "ordered_transformed_test_spark_dataframe_pd = ordered_transformed_test_spark_dataframe.toPandas()"
      ],
      "metadata": {
        "id": "lya-KWir-SJr"
      },
      "execution_count": null,
      "outputs": []
    },
    {
      "cell_type": "code",
      "source": [
        "import seaborn as sns\n",
        "import matplotlib.pyplot as plt\n",
        "import pandas as pd\n",
        "\n",
        "renamed_ordered_transformed_test_spark_dataframe_pd = ordered_transformed_test_spark_dataframe_pd.rename(columns={\"Next Day Close Price\": \"Actual\", \"prediction\": \"Prediction\"})\n",
        "plot_df = pd.melt(renamed_ordered_transformed_test_spark_dataframe_pd[[\"date\", \"Prediction\", \"Actual\", \"Baseline (avrg)\"]], ['date'], var_name=\"Next Day Close Price\", value_name=\"BTC Price ($)\")\n"
      ],
      "metadata": {
        "id": "4n2DZuyW3ENu"
      },
      "execution_count": null,
      "outputs": []
    },
    {
      "cell_type": "code",
      "source": [
        "fig = plt.figure(figsize=(25,12))\n",
        "ax = sns.lineplot(x='date', y='BTC Price ($)', hue='Next Day Close Price', data=plot_df)\n",
        "ax.tick_params(axis='x', labelrotation = 90)\n",
        "plt.yticks(fontsize=15)\n",
        "plt.xlabel('Date', fontsize=18)\n",
        "plt.ylabel('BTC Next Day Close Price ($)', fontsize=18)\n",
        "plt.legend(fontsize='xx-large')\n",
        "plt.title(\"BTC Next Day Close Price ($)\\nPredicted vs Actual\\n\", fontsize=22)"
      ],
      "metadata": {
        "id": "iUoPXFlYLVGj",
        "colab": {
          "base_uri": "https://localhost:8080/",
          "height": 1000
        },
        "outputId": "275f30b3-25d4-4680-9d41-a7e3fe4281b1"
      },
      "execution_count": null,
      "outputs": [
        {
          "output_type": "execute_result",
          "data": {
            "text/plain": [
              "Text(0.5, 1.0, 'BTC Next Day Close Price ($)\\nPredicted vs Actual\\n')"
            ]
          },
          "metadata": {},
          "execution_count": 95
        },
        {
          "output_type": "display_data",
          "data": {
            "text/plain": [
              "<Figure size 2500x1200 with 1 Axes>"
            ],
            "image/png": "[encoded data removed]"
          },
          "metadata": {}
        }
      ]
    },
    {
      "cell_type": "code",
      "source": [
        "model_feature_importance = bestModel.get_booster().get_score(importance_type='weight')\n",
        "model_feature_importance_df = pd.DataFrame(model_feature_importance.items(), columns=['Feature_code', 'F-score'])\n",
        "model_feature_importance_df['Feature_code'] = input_features\n"
      ],
      "metadata": {
        "id": "Fa1wajBXDgkR"
      },
      "execution_count": null,
      "outputs": []
    },
    {
      "cell_type": "code",
      "source": [
        "f, ax = plt.subplots(figsize=(10, 10))\n",
        "sns.barplot(y=\"Feature_code\", x=\"F-score\", data=model_feature_importance_df, orient='h')\n",
        "# sns.despine(left=True, bottom=True)\n",
        "plt.title(\"XGBoost Feature Importance\", fontsize=16)\n",
        "plt.ylabel('Features', fontsize=16)\n",
        "plt.xlabel('F-score', fontsize=16)"
      ],
      "metadata": {
        "id": "d3IkzUPZFBrW",
        "colab": {
          "base_uri": "https://localhost:8080/",
          "height": 898
        },
        "outputId": "0444c003-4b6f-44c4-a3a8-e6bc736aeafc"
      },
      "execution_count": null,
      "outputs": [
        {
          "output_type": "execute_result",
          "data": {
            "text/plain": [
              "Text(0.5, 0, 'F-score')"
            ]
          },
          "metadata": {},
          "execution_count": 97
        },
        {
          "output_type": "display_data",
          "data": {
            "text/plain": [
              "<Figure size 1000x1000 with 1 Axes>"
            ],
            "image/png": "[encoded data removed]"
          },
          "metadata": {}
        }
      ]
    },
    {
      "cell_type": "code",
      "source": [
        "from pyspark.ml.evaluation import RegressionEvaluator\n",
        "\n",
        "evaluator = RegressionEvaluator(labelCol=\"Next Day Close Price\", predictionCol=\"prediction\")\n",
        "\n",
        "rsquared = evaluator.evaluate(transformed_test_spark_dataframe, {evaluator.metricName: \"r2\"})\n",
        "mae = evaluator.evaluate(transformed_test_spark_dataframe, {evaluator.metricName: \"mae\"})\n",
        "rmse = evaluator.evaluate(transformed_test_spark_dataframe, {evaluator.metricName: \"rmse\"})\n",
        "\n",
        "print(\"Evaluation scores (XGBOOST)\")\n",
        "print(\"mae: \", mae)\n",
        "print(\"rmse: \", rmse)\n",
        "print(\"rsquared: \", rsquared)"
      ],
      "metadata": {
        "id": "xw74Huqhw5ES",
        "colab": {
          "base_uri": "https://localhost:8080/"
        },
        "outputId": "de99e9a0-b760-4db5-af06-dba0ebc97eb7"
      },
      "execution_count": null,
      "outputs": [
        {
          "output_type": "stream",
          "name": "stdout",
          "text": [
            "Evaluation scores (XGBOOST)\n",
            "mae:  223.25435093470983\n",
            "rmse:  301.4650513759973\n",
            "rsquared:  0.9434959962326342\n"
          ]
        }
      ]
    },
    {
      "cell_type": "code",
      "source": [
        "evaluator = RegressionEvaluator(labelCol=\"Next Day Close Price\", predictionCol=\"Baseline (avrg)\")\n",
        "\n",
        "rsquared = evaluator.evaluate(transformed_test_spark_dataframe, {evaluator.metricName: \"r2\"})\n",
        "mae = evaluator.evaluate(transformed_test_spark_dataframe, {evaluator.metricName: \"mae\"})\n",
        "rmse = evaluator.evaluate(transformed_test_spark_dataframe, {evaluator.metricName: \"rmse\"})\n",
        "\n",
        "print(\"Evaluation scores (Baseline)\")\n",
        "print(\"mae: \", mae)\n",
        "print(\"rmse: \", rmse)\n",
        "print(\"rsquared: \", rsquared)"
      ],
      "metadata": {
        "id": "Cc9IYd2n0IuH",
        "colab": {
          "base_uri": "https://localhost:8080/"
        },
        "outputId": "424667d4-efd3-469d-d8fc-04de011d264a"
      },
      "execution_count": null,
      "outputs": [
        {
          "output_type": "stream",
          "name": "stdout",
          "text": [
            "Evaluation scores (Baseline)\n",
            "mae:  1016.1422368512837\n",
            "rmse:  1334.8618725423826\n",
            "rsquared:  -0.10784227932381962\n"
          ]
        }
      ]
    }
  ]
}